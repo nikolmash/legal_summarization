{
  "nbformat": 4,
  "nbformat_minor": 0,
  "metadata": {
    "colab": {
      "name": "bert2bert",
      "provenance": [],
      "collapsed_sections": [],
      "toc_visible": true
    },
    "kernelspec": {
      "name": "python3",
      "display_name": "Python 3"
    },
    "language_info": {
      "name": "python"
    },
    "widgets": {
      "application/vnd.jupyter.widget-state+json": {
        "eabae47ed99d4586b5a5b02e739038b0": {
          "model_module": "@jupyter-widgets/controls",
          "model_name": "HBoxModel",
          "state": {
            "_view_name": "HBoxView",
            "_dom_classes": [],
            "_model_name": "HBoxModel",
            "_view_module": "@jupyter-widgets/controls",
            "_model_module_version": "1.5.0",
            "_view_count": null,
            "_view_module_version": "1.5.0",
            "box_style": "",
            "layout": "IPY_MODEL_b7fbe617bc04478ea5e43fd593bbd83b",
            "_model_module": "@jupyter-widgets/controls",
            "children": [
              "IPY_MODEL_b8908263da2847e0a5c69cc0fc3fabd9",
              "IPY_MODEL_477ae20d34f04e7abfb09bf15c35da4c"
            ]
          }
        },
        "b7fbe617bc04478ea5e43fd593bbd83b": {
          "model_module": "@jupyter-widgets/base",
          "model_name": "LayoutModel",
          "state": {
            "_view_name": "LayoutView",
            "grid_template_rows": null,
            "right": null,
            "justify_content": null,
            "_view_module": "@jupyter-widgets/base",
            "overflow": null,
            "_model_module_version": "1.2.0",
            "_view_count": null,
            "flex_flow": null,
            "width": null,
            "min_width": null,
            "border": null,
            "align_items": null,
            "bottom": null,
            "_model_module": "@jupyter-widgets/base",
            "top": null,
            "grid_column": null,
            "overflow_y": null,
            "overflow_x": null,
            "grid_auto_flow": null,
            "grid_area": null,
            "grid_template_columns": null,
            "flex": null,
            "_model_name": "LayoutModel",
            "justify_items": null,
            "grid_row": null,
            "max_height": null,
            "align_content": null,
            "visibility": null,
            "align_self": null,
            "height": null,
            "min_height": null,
            "padding": null,
            "grid_auto_rows": null,
            "grid_gap": null,
            "max_width": null,
            "order": null,
            "_view_module_version": "1.2.0",
            "grid_template_areas": null,
            "object_position": null,
            "object_fit": null,
            "grid_auto_columns": null,
            "margin": null,
            "display": null,
            "left": null
          }
        },
        "b8908263da2847e0a5c69cc0fc3fabd9": {
          "model_module": "@jupyter-widgets/controls",
          "model_name": "FloatProgressModel",
          "state": {
            "_view_name": "ProgressView",
            "style": "IPY_MODEL_0fd836d67cd746e59b0a599d41dd1ec5",
            "_dom_classes": [],
            "description": "100%",
            "_model_name": "FloatProgressModel",
            "bar_style": "success",
            "max": 13,
            "_view_module": "@jupyter-widgets/controls",
            "_model_module_version": "1.5.0",
            "value": 13,
            "_view_count": null,
            "_view_module_version": "1.5.0",
            "orientation": "horizontal",
            "min": 0,
            "description_tooltip": null,
            "_model_module": "@jupyter-widgets/controls",
            "layout": "IPY_MODEL_e64f57584cc04f93be965906e93adffe"
          }
        },
        "477ae20d34f04e7abfb09bf15c35da4c": {
          "model_module": "@jupyter-widgets/controls",
          "model_name": "HTMLModel",
          "state": {
            "_view_name": "HTMLView",
            "style": "IPY_MODEL_6336bfd329c64c4f939c4310b05eeda7",
            "_dom_classes": [],
            "description": "",
            "_model_name": "HTMLModel",
            "placeholder": "​",
            "_view_module": "@jupyter-widgets/controls",
            "_model_module_version": "1.5.0",
            "value": " 13/13 [01:29&lt;00:00,  6.86s/ba]",
            "_view_count": null,
            "_view_module_version": "1.5.0",
            "description_tooltip": null,
            "_model_module": "@jupyter-widgets/controls",
            "layout": "IPY_MODEL_3b3f0c9cb40f46f49c7612c384b8c625"
          }
        },
        "0fd836d67cd746e59b0a599d41dd1ec5": {
          "model_module": "@jupyter-widgets/controls",
          "model_name": "ProgressStyleModel",
          "state": {
            "_view_name": "StyleView",
            "_model_name": "ProgressStyleModel",
            "description_width": "initial",
            "_view_module": "@jupyter-widgets/base",
            "_model_module_version": "1.5.0",
            "_view_count": null,
            "_view_module_version": "1.2.0",
            "bar_color": null,
            "_model_module": "@jupyter-widgets/controls"
          }
        },
        "e64f57584cc04f93be965906e93adffe": {
          "model_module": "@jupyter-widgets/base",
          "model_name": "LayoutModel",
          "state": {
            "_view_name": "LayoutView",
            "grid_template_rows": null,
            "right": null,
            "justify_content": null,
            "_view_module": "@jupyter-widgets/base",
            "overflow": null,
            "_model_module_version": "1.2.0",
            "_view_count": null,
            "flex_flow": null,
            "width": null,
            "min_width": null,
            "border": null,
            "align_items": null,
            "bottom": null,
            "_model_module": "@jupyter-widgets/base",
            "top": null,
            "grid_column": null,
            "overflow_y": null,
            "overflow_x": null,
            "grid_auto_flow": null,
            "grid_area": null,
            "grid_template_columns": null,
            "flex": null,
            "_model_name": "LayoutModel",
            "justify_items": null,
            "grid_row": null,
            "max_height": null,
            "align_content": null,
            "visibility": null,
            "align_self": null,
            "height": null,
            "min_height": null,
            "padding": null,
            "grid_auto_rows": null,
            "grid_gap": null,
            "max_width": null,
            "order": null,
            "_view_module_version": "1.2.0",
            "grid_template_areas": null,
            "object_position": null,
            "object_fit": null,
            "grid_auto_columns": null,
            "margin": null,
            "display": null,
            "left": null
          }
        },
        "6336bfd329c64c4f939c4310b05eeda7": {
          "model_module": "@jupyter-widgets/controls",
          "model_name": "DescriptionStyleModel",
          "state": {
            "_view_name": "StyleView",
            "_model_name": "DescriptionStyleModel",
            "description_width": "",
            "_view_module": "@jupyter-widgets/base",
            "_model_module_version": "1.5.0",
            "_view_count": null,
            "_view_module_version": "1.2.0",
            "_model_module": "@jupyter-widgets/controls"
          }
        },
        "3b3f0c9cb40f46f49c7612c384b8c625": {
          "model_module": "@jupyter-widgets/base",
          "model_name": "LayoutModel",
          "state": {
            "_view_name": "LayoutView",
            "grid_template_rows": null,
            "right": null,
            "justify_content": null,
            "_view_module": "@jupyter-widgets/base",
            "overflow": null,
            "_model_module_version": "1.2.0",
            "_view_count": null,
            "flex_flow": null,
            "width": null,
            "min_width": null,
            "border": null,
            "align_items": null,
            "bottom": null,
            "_model_module": "@jupyter-widgets/base",
            "top": null,
            "grid_column": null,
            "overflow_y": null,
            "overflow_x": null,
            "grid_auto_flow": null,
            "grid_area": null,
            "grid_template_columns": null,
            "flex": null,
            "_model_name": "LayoutModel",
            "justify_items": null,
            "grid_row": null,
            "max_height": null,
            "align_content": null,
            "visibility": null,
            "align_self": null,
            "height": null,
            "min_height": null,
            "padding": null,
            "grid_auto_rows": null,
            "grid_gap": null,
            "max_width": null,
            "order": null,
            "_view_module_version": "1.2.0",
            "grid_template_areas": null,
            "object_position": null,
            "object_fit": null,
            "grid_auto_columns": null,
            "margin": null,
            "display": null,
            "left": null
          }
        },
        "77f0617f130540b7b3e52b269e1aaca8": {
          "model_module": "@jupyter-widgets/controls",
          "model_name": "HBoxModel",
          "state": {
            "_view_name": "HBoxView",
            "_dom_classes": [],
            "_model_name": "HBoxModel",
            "_view_module": "@jupyter-widgets/controls",
            "_model_module_version": "1.5.0",
            "_view_count": null,
            "_view_module_version": "1.5.0",
            "box_style": "",
            "layout": "IPY_MODEL_2cbfbb901d324e57be3e2d62d57fe110",
            "_model_module": "@jupyter-widgets/controls",
            "children": [
              "IPY_MODEL_2e40e578a54943769149754d6a6dfc8b",
              "IPY_MODEL_583c98601de04559a6c89e1767a76cf6"
            ]
          }
        },
        "2cbfbb901d324e57be3e2d62d57fe110": {
          "model_module": "@jupyter-widgets/base",
          "model_name": "LayoutModel",
          "state": {
            "_view_name": "LayoutView",
            "grid_template_rows": null,
            "right": null,
            "justify_content": null,
            "_view_module": "@jupyter-widgets/base",
            "overflow": null,
            "_model_module_version": "1.2.0",
            "_view_count": null,
            "flex_flow": null,
            "width": null,
            "min_width": null,
            "border": null,
            "align_items": null,
            "bottom": null,
            "_model_module": "@jupyter-widgets/base",
            "top": null,
            "grid_column": null,
            "overflow_y": null,
            "overflow_x": null,
            "grid_auto_flow": null,
            "grid_area": null,
            "grid_template_columns": null,
            "flex": null,
            "_model_name": "LayoutModel",
            "justify_items": null,
            "grid_row": null,
            "max_height": null,
            "align_content": null,
            "visibility": null,
            "align_self": null,
            "height": null,
            "min_height": null,
            "padding": null,
            "grid_auto_rows": null,
            "grid_gap": null,
            "max_width": null,
            "order": null,
            "_view_module_version": "1.2.0",
            "grid_template_areas": null,
            "object_position": null,
            "object_fit": null,
            "grid_auto_columns": null,
            "margin": null,
            "display": null,
            "left": null
          }
        },
        "2e40e578a54943769149754d6a6dfc8b": {
          "model_module": "@jupyter-widgets/controls",
          "model_name": "FloatProgressModel",
          "state": {
            "_view_name": "ProgressView",
            "style": "IPY_MODEL_f76d7c6e880f4402a2d75fb1fec32214",
            "_dom_classes": [],
            "description": "100%",
            "_model_name": "FloatProgressModel",
            "bar_style": "success",
            "max": 3,
            "_view_module": "@jupyter-widgets/controls",
            "_model_module_version": "1.5.0",
            "value": 3,
            "_view_count": null,
            "_view_module_version": "1.5.0",
            "orientation": "horizontal",
            "min": 0,
            "description_tooltip": null,
            "_model_module": "@jupyter-widgets/controls",
            "layout": "IPY_MODEL_64714b1980de4ef6937359c18764d373"
          }
        },
        "583c98601de04559a6c89e1767a76cf6": {
          "model_module": "@jupyter-widgets/controls",
          "model_name": "HTMLModel",
          "state": {
            "_view_name": "HTMLView",
            "style": "IPY_MODEL_cfb42e20bd534ea3b5d5236da86b487d",
            "_dom_classes": [],
            "description": "",
            "_model_name": "HTMLModel",
            "placeholder": "​",
            "_view_module": "@jupyter-widgets/controls",
            "_model_module_version": "1.5.0",
            "value": " 3/3 [00:49&lt;00:00, 16.36s/ba]",
            "_view_count": null,
            "_view_module_version": "1.5.0",
            "description_tooltip": null,
            "_model_module": "@jupyter-widgets/controls",
            "layout": "IPY_MODEL_980d168121ac41138a2ca0af25a94659"
          }
        },
        "f76d7c6e880f4402a2d75fb1fec32214": {
          "model_module": "@jupyter-widgets/controls",
          "model_name": "ProgressStyleModel",
          "state": {
            "_view_name": "StyleView",
            "_model_name": "ProgressStyleModel",
            "description_width": "initial",
            "_view_module": "@jupyter-widgets/base",
            "_model_module_version": "1.5.0",
            "_view_count": null,
            "_view_module_version": "1.2.0",
            "bar_color": null,
            "_model_module": "@jupyter-widgets/controls"
          }
        },
        "64714b1980de4ef6937359c18764d373": {
          "model_module": "@jupyter-widgets/base",
          "model_name": "LayoutModel",
          "state": {
            "_view_name": "LayoutView",
            "grid_template_rows": null,
            "right": null,
            "justify_content": null,
            "_view_module": "@jupyter-widgets/base",
            "overflow": null,
            "_model_module_version": "1.2.0",
            "_view_count": null,
            "flex_flow": null,
            "width": null,
            "min_width": null,
            "border": null,
            "align_items": null,
            "bottom": null,
            "_model_module": "@jupyter-widgets/base",
            "top": null,
            "grid_column": null,
            "overflow_y": null,
            "overflow_x": null,
            "grid_auto_flow": null,
            "grid_area": null,
            "grid_template_columns": null,
            "flex": null,
            "_model_name": "LayoutModel",
            "justify_items": null,
            "grid_row": null,
            "max_height": null,
            "align_content": null,
            "visibility": null,
            "align_self": null,
            "height": null,
            "min_height": null,
            "padding": null,
            "grid_auto_rows": null,
            "grid_gap": null,
            "max_width": null,
            "order": null,
            "_view_module_version": "1.2.0",
            "grid_template_areas": null,
            "object_position": null,
            "object_fit": null,
            "grid_auto_columns": null,
            "margin": null,
            "display": null,
            "left": null
          }
        },
        "cfb42e20bd534ea3b5d5236da86b487d": {
          "model_module": "@jupyter-widgets/controls",
          "model_name": "DescriptionStyleModel",
          "state": {
            "_view_name": "StyleView",
            "_model_name": "DescriptionStyleModel",
            "description_width": "",
            "_view_module": "@jupyter-widgets/base",
            "_model_module_version": "1.5.0",
            "_view_count": null,
            "_view_module_version": "1.2.0",
            "_model_module": "@jupyter-widgets/controls"
          }
        },
        "980d168121ac41138a2ca0af25a94659": {
          "model_module": "@jupyter-widgets/base",
          "model_name": "LayoutModel",
          "state": {
            "_view_name": "LayoutView",
            "grid_template_rows": null,
            "right": null,
            "justify_content": null,
            "_view_module": "@jupyter-widgets/base",
            "overflow": null,
            "_model_module_version": "1.2.0",
            "_view_count": null,
            "flex_flow": null,
            "width": null,
            "min_width": null,
            "border": null,
            "align_items": null,
            "bottom": null,
            "_model_module": "@jupyter-widgets/base",
            "top": null,
            "grid_column": null,
            "overflow_y": null,
            "overflow_x": null,
            "grid_auto_flow": null,
            "grid_area": null,
            "grid_template_columns": null,
            "flex": null,
            "_model_name": "LayoutModel",
            "justify_items": null,
            "grid_row": null,
            "max_height": null,
            "align_content": null,
            "visibility": null,
            "align_self": null,
            "height": null,
            "min_height": null,
            "padding": null,
            "grid_auto_rows": null,
            "grid_gap": null,
            "max_width": null,
            "order": null,
            "_view_module_version": "1.2.0",
            "grid_template_areas": null,
            "object_position": null,
            "object_fit": null,
            "grid_auto_columns": null,
            "margin": null,
            "display": null,
            "left": null
          }
        },
        "2d656f03cbce4d36805079fbd47be8d0": {
          "model_module": "@jupyter-widgets/controls",
          "model_name": "HBoxModel",
          "state": {
            "_view_name": "HBoxView",
            "_dom_classes": [],
            "_model_name": "HBoxModel",
            "_view_module": "@jupyter-widgets/controls",
            "_model_module_version": "1.5.0",
            "_view_count": null,
            "_view_module_version": "1.5.0",
            "box_style": "",
            "layout": "IPY_MODEL_783dedc6e44840f2a79fffb758afabb3",
            "_model_module": "@jupyter-widgets/controls",
            "children": [
              "IPY_MODEL_06c32226195f4813a90ba457e88653f0",
              "IPY_MODEL_f498d4b7b1fe46dda2f7c46493b4a546"
            ]
          }
        },
        "783dedc6e44840f2a79fffb758afabb3": {
          "model_module": "@jupyter-widgets/base",
          "model_name": "LayoutModel",
          "state": {
            "_view_name": "LayoutView",
            "grid_template_rows": null,
            "right": null,
            "justify_content": null,
            "_view_module": "@jupyter-widgets/base",
            "overflow": null,
            "_model_module_version": "1.2.0",
            "_view_count": null,
            "flex_flow": null,
            "width": null,
            "min_width": null,
            "border": null,
            "align_items": null,
            "bottom": null,
            "_model_module": "@jupyter-widgets/base",
            "top": null,
            "grid_column": null,
            "overflow_y": null,
            "overflow_x": null,
            "grid_auto_flow": null,
            "grid_area": null,
            "grid_template_columns": null,
            "flex": null,
            "_model_name": "LayoutModel",
            "justify_items": null,
            "grid_row": null,
            "max_height": null,
            "align_content": null,
            "visibility": null,
            "align_self": null,
            "height": null,
            "min_height": null,
            "padding": null,
            "grid_auto_rows": null,
            "grid_gap": null,
            "max_width": null,
            "order": null,
            "_view_module_version": "1.2.0",
            "grid_template_areas": null,
            "object_position": null,
            "object_fit": null,
            "grid_auto_columns": null,
            "margin": null,
            "display": null,
            "left": null
          }
        },
        "06c32226195f4813a90ba457e88653f0": {
          "model_module": "@jupyter-widgets/controls",
          "model_name": "FloatProgressModel",
          "state": {
            "_view_name": "ProgressView",
            "style": "IPY_MODEL_cd0b07bb0f904797a1a9af2d3a27cf4d",
            "_dom_classes": [],
            "description": "100%",
            "_model_name": "FloatProgressModel",
            "bar_style": "success",
            "max": 3,
            "_view_module": "@jupyter-widgets/controls",
            "_model_module_version": "1.5.0",
            "value": 3,
            "_view_count": null,
            "_view_module_version": "1.5.0",
            "orientation": "horizontal",
            "min": 0,
            "description_tooltip": null,
            "_model_module": "@jupyter-widgets/controls",
            "layout": "IPY_MODEL_230c4b98bca648e9a88d54fc431aa923"
          }
        },
        "f498d4b7b1fe46dda2f7c46493b4a546": {
          "model_module": "@jupyter-widgets/controls",
          "model_name": "HTMLModel",
          "state": {
            "_view_name": "HTMLView",
            "style": "IPY_MODEL_4e2fab84e7a140f197acb7ef7712ad9d",
            "_dom_classes": [],
            "description": "",
            "_model_name": "HTMLModel",
            "placeholder": "​",
            "_view_module": "@jupyter-widgets/controls",
            "_model_module_version": "1.5.0",
            "value": " 3/3 [00:34&lt;00:00, 11.47s/ba]",
            "_view_count": null,
            "_view_module_version": "1.5.0",
            "description_tooltip": null,
            "_model_module": "@jupyter-widgets/controls",
            "layout": "IPY_MODEL_7257abcea5bd4ac3ace24576c0528d16"
          }
        },
        "cd0b07bb0f904797a1a9af2d3a27cf4d": {
          "model_module": "@jupyter-widgets/controls",
          "model_name": "ProgressStyleModel",
          "state": {
            "_view_name": "StyleView",
            "_model_name": "ProgressStyleModel",
            "description_width": "initial",
            "_view_module": "@jupyter-widgets/base",
            "_model_module_version": "1.5.0",
            "_view_count": null,
            "_view_module_version": "1.2.0",
            "bar_color": null,
            "_model_module": "@jupyter-widgets/controls"
          }
        },
        "230c4b98bca648e9a88d54fc431aa923": {
          "model_module": "@jupyter-widgets/base",
          "model_name": "LayoutModel",
          "state": {
            "_view_name": "LayoutView",
            "grid_template_rows": null,
            "right": null,
            "justify_content": null,
            "_view_module": "@jupyter-widgets/base",
            "overflow": null,
            "_model_module_version": "1.2.0",
            "_view_count": null,
            "flex_flow": null,
            "width": null,
            "min_width": null,
            "border": null,
            "align_items": null,
            "bottom": null,
            "_model_module": "@jupyter-widgets/base",
            "top": null,
            "grid_column": null,
            "overflow_y": null,
            "overflow_x": null,
            "grid_auto_flow": null,
            "grid_area": null,
            "grid_template_columns": null,
            "flex": null,
            "_model_name": "LayoutModel",
            "justify_items": null,
            "grid_row": null,
            "max_height": null,
            "align_content": null,
            "visibility": null,
            "align_self": null,
            "height": null,
            "min_height": null,
            "padding": null,
            "grid_auto_rows": null,
            "grid_gap": null,
            "max_width": null,
            "order": null,
            "_view_module_version": "1.2.0",
            "grid_template_areas": null,
            "object_position": null,
            "object_fit": null,
            "grid_auto_columns": null,
            "margin": null,
            "display": null,
            "left": null
          }
        },
        "4e2fab84e7a140f197acb7ef7712ad9d": {
          "model_module": "@jupyter-widgets/controls",
          "model_name": "DescriptionStyleModel",
          "state": {
            "_view_name": "StyleView",
            "_model_name": "DescriptionStyleModel",
            "description_width": "",
            "_view_module": "@jupyter-widgets/base",
            "_model_module_version": "1.5.0",
            "_view_count": null,
            "_view_module_version": "1.2.0",
            "_model_module": "@jupyter-widgets/controls"
          }
        },
        "7257abcea5bd4ac3ace24576c0528d16": {
          "model_module": "@jupyter-widgets/base",
          "model_name": "LayoutModel",
          "state": {
            "_view_name": "LayoutView",
            "grid_template_rows": null,
            "right": null,
            "justify_content": null,
            "_view_module": "@jupyter-widgets/base",
            "overflow": null,
            "_model_module_version": "1.2.0",
            "_view_count": null,
            "flex_flow": null,
            "width": null,
            "min_width": null,
            "border": null,
            "align_items": null,
            "bottom": null,
            "_model_module": "@jupyter-widgets/base",
            "top": null,
            "grid_column": null,
            "overflow_y": null,
            "overflow_x": null,
            "grid_auto_flow": null,
            "grid_area": null,
            "grid_template_columns": null,
            "flex": null,
            "_model_name": "LayoutModel",
            "justify_items": null,
            "grid_row": null,
            "max_height": null,
            "align_content": null,
            "visibility": null,
            "align_self": null,
            "height": null,
            "min_height": null,
            "padding": null,
            "grid_auto_rows": null,
            "grid_gap": null,
            "max_width": null,
            "order": null,
            "_view_module_version": "1.2.0",
            "grid_template_areas": null,
            "object_position": null,
            "object_fit": null,
            "grid_auto_columns": null,
            "margin": null,
            "display": null,
            "left": null
          }
        }
      }
    },
    "accelerator": "GPU"
  },
  "cells": [
    {
      "cell_type": "markdown",
      "metadata": {
        "id": "hhJUBY2p6WfM"
      },
      "source": [
        "# BERT2BERT"
      ]
    },
    {
      "cell_type": "markdown",
      "metadata": {
        "id": "-ndBnkEyOLwS"
      },
      "source": [
        "На основе https://github.com/huggingface/notebooks/blob/master/examples/summarization.ipynb"
      ]
    },
    {
      "cell_type": "code",
      "metadata": {
        "colab": {
          "base_uri": "https://localhost:8080/"
        },
        "id": "H1yoBPd70IC_",
        "outputId": "78cbde55-8def-4cf0-d3c1-0e89510cb044"
      },
      "source": [
        "!wget https://www.dropbox.com/s/mbj3sb6jaw3d9s3/judgements_test.json\n",
        "!wget https://www.dropbox.com/s/hbh7ioaiet16fcw/judgements_train.json"
      ],
      "execution_count": 1,
      "outputs": [
        {
          "output_type": "stream",
          "text": [
            "--2021-06-07 21:28:33--  https://www.dropbox.com/s/mbj3sb6jaw3d9s3/judgements_test.json\n",
            "Resolving www.dropbox.com (www.dropbox.com)... 162.125.4.18, 2620:100:6017:18::a27d:212\n",
            "Connecting to www.dropbox.com (www.dropbox.com)|162.125.4.18|:443... connected.\n",
            "HTTP request sent, awaiting response... 301 Moved Permanently\n",
            "Location: /s/raw/mbj3sb6jaw3d9s3/judgements_test.json [following]\n",
            "--2021-06-07 21:28:34--  https://www.dropbox.com/s/raw/mbj3sb6jaw3d9s3/judgements_test.json\n",
            "Reusing existing connection to www.dropbox.com:443.\n",
            "HTTP request sent, awaiting response... 302 Found\n",
            "Location: https://uc03661a099c745e8ffa29207597.dl.dropboxusercontent.com/cd/0/inline/BP942pUwmCrDeItAG4ZikahDsgJxGfC07Aw-N6WGneb_vhVDB3zr_0at7hN3UhILk14v-Nk-gB96Wy6MwFKTaI9Z--VsjMtwrnixN3pbQ1YRJ7VfCQchmJLFx0BFl8piN3HnOahaeECyzcMPv5q_aqSe/file# [following]\n",
            "--2021-06-07 21:28:34--  https://uc03661a099c745e8ffa29207597.dl.dropboxusercontent.com/cd/0/inline/BP942pUwmCrDeItAG4ZikahDsgJxGfC07Aw-N6WGneb_vhVDB3zr_0at7hN3UhILk14v-Nk-gB96Wy6MwFKTaI9Z--VsjMtwrnixN3pbQ1YRJ7VfCQchmJLFx0BFl8piN3HnOahaeECyzcMPv5q_aqSe/file\n",
            "Resolving uc03661a099c745e8ffa29207597.dl.dropboxusercontent.com (uc03661a099c745e8ffa29207597.dl.dropboxusercontent.com)... 162.125.2.15, 2620:100:6021:15::a27d:410f\n",
            "Connecting to uc03661a099c745e8ffa29207597.dl.dropboxusercontent.com (uc03661a099c745e8ffa29207597.dl.dropboxusercontent.com)|162.125.2.15|:443... connected.\n",
            "HTTP request sent, awaiting response... 200 OK\n",
            "Length: 57429283 (55M) [text/plain]\n",
            "Saving to: ‘judgements_test.json’\n",
            "\n",
            "judgements_test.jso 100%[===================>]  54.77M  88.6MB/s    in 0.6s    \n",
            "\n",
            "2021-06-07 21:28:35 (88.6 MB/s) - ‘judgements_test.json’ saved [57429283/57429283]\n",
            "\n",
            "--2021-06-07 21:28:35--  https://www.dropbox.com/s/hbh7ioaiet16fcw/judgements_train.json\n",
            "Resolving www.dropbox.com (www.dropbox.com)... 162.125.4.18, 2620:100:6017:18::a27d:212\n",
            "Connecting to www.dropbox.com (www.dropbox.com)|162.125.4.18|:443... connected.\n",
            "HTTP request sent, awaiting response... 301 Moved Permanently\n",
            "Location: /s/raw/hbh7ioaiet16fcw/judgements_train.json [following]\n",
            "--2021-06-07 21:28:36--  https://www.dropbox.com/s/raw/hbh7ioaiet16fcw/judgements_train.json\n",
            "Reusing existing connection to www.dropbox.com:443.\n",
            "HTTP request sent, awaiting response... 302 Found\n",
            "Location: https://ucc6d37f3d0939c02a83e78d2966.dl.dropboxusercontent.com/cd/0/inline/BP-6GECk6NiFT5exgzsC31I4IrlSIjOA_vtVY5xbEtVVsPFKBTaYDy3TqmH-LHPX5TWSiYGwt9i14K8AHfblEzFNRI6nJ9V9dop7jQZapBnzOQrjTEeiSLjjkvU4_YKrD2W8A1y4eFmlajo2lqj1EB6_/file# [following]\n",
            "--2021-06-07 21:28:36--  https://ucc6d37f3d0939c02a83e78d2966.dl.dropboxusercontent.com/cd/0/inline/BP-6GECk6NiFT5exgzsC31I4IrlSIjOA_vtVY5xbEtVVsPFKBTaYDy3TqmH-LHPX5TWSiYGwt9i14K8AHfblEzFNRI6nJ9V9dop7jQZapBnzOQrjTEeiSLjjkvU4_YKrD2W8A1y4eFmlajo2lqj1EB6_/file\n",
            "Resolving ucc6d37f3d0939c02a83e78d2966.dl.dropboxusercontent.com (ucc6d37f3d0939c02a83e78d2966.dl.dropboxusercontent.com)... 162.125.4.15, 2620:100:6017:15::a27d:20f\n",
            "Connecting to ucc6d37f3d0939c02a83e78d2966.dl.dropboxusercontent.com (ucc6d37f3d0939c02a83e78d2966.dl.dropboxusercontent.com)|162.125.4.15|:443... connected.\n",
            "HTTP request sent, awaiting response... 200 OK\n",
            "Length: 317512558 (303M) [text/plain]\n",
            "Saving to: ‘judgements_train.json’\n",
            "\n",
            "judgements_train.js 100%[===================>] 302.80M  41.3MB/s    in 7.8s    \n",
            "\n",
            "2021-06-07 21:28:45 (39.0 MB/s) - ‘judgements_train.json’ saved [317512558/317512558]\n",
            "\n"
          ],
          "name": "stdout"
        }
      ]
    },
    {
      "cell_type": "code",
      "metadata": {
        "id": "638yUcFiC6-U",
        "colab": {
          "base_uri": "https://localhost:8080/"
        },
        "outputId": "af0095a7-0cf4-4983-bb11-b742a18bbb33"
      },
      "source": [
        "! pip install transformers datasets sentencepiece"
      ],
      "execution_count": 2,
      "outputs": [
        {
          "output_type": "stream",
          "text": [
            "Collecting transformers\n",
            "\u001b[?25l  Downloading https://files.pythonhosted.org/packages/d5/43/cfe4ee779bbd6a678ac6a97c5a5cdeb03c35f9eaebbb9720b036680f9a2d/transformers-4.6.1-py3-none-any.whl (2.2MB)\n",
            "\u001b[K     |████████████████████████████████| 2.3MB 8.2MB/s \n",
            "\u001b[?25hCollecting datasets\n",
            "\u001b[?25l  Downloading https://files.pythonhosted.org/packages/94/f8/ff7cd6e3b400b33dcbbfd31c6c1481678a2b2f669f521ad20053009a9aa3/datasets-1.7.0-py3-none-any.whl (234kB)\n",
            "\u001b[K     |████████████████████████████████| 235kB 49.9MB/s \n",
            "\u001b[?25hCollecting sentencepiece\n",
            "\u001b[?25l  Downloading https://files.pythonhosted.org/packages/f5/99/e0808cb947ba10f575839c43e8fafc9cc44e4a7a2c8f79c60db48220a577/sentencepiece-0.1.95-cp37-cp37m-manylinux2014_x86_64.whl (1.2MB)\n",
            "\u001b[K     |████████████████████████████████| 1.2MB 52.0MB/s \n",
            "\u001b[?25hRequirement already satisfied: numpy>=1.17 in /usr/local/lib/python3.7/dist-packages (from transformers) (1.19.5)\n",
            "Requirement already satisfied: packaging in /usr/local/lib/python3.7/dist-packages (from transformers) (20.9)\n",
            "Requirement already satisfied: regex!=2019.12.17 in /usr/local/lib/python3.7/dist-packages (from transformers) (2019.12.20)\n",
            "Collecting sacremoses\n",
            "\u001b[?25l  Downloading https://files.pythonhosted.org/packages/75/ee/67241dc87f266093c533a2d4d3d69438e57d7a90abb216fa076e7d475d4a/sacremoses-0.0.45-py3-none-any.whl (895kB)\n",
            "\u001b[K     |████████████████████████████████| 901kB 50.2MB/s \n",
            "\u001b[?25hCollecting tokenizers<0.11,>=0.10.1\n",
            "\u001b[?25l  Downloading https://files.pythonhosted.org/packages/d4/e2/df3543e8ffdab68f5acc73f613de9c2b155ac47f162e725dcac87c521c11/tokenizers-0.10.3-cp37-cp37m-manylinux_2_5_x86_64.manylinux1_x86_64.manylinux_2_12_x86_64.manylinux2010_x86_64.whl (3.3MB)\n",
            "\u001b[K     |████████████████████████████████| 3.3MB 51.1MB/s \n",
            "\u001b[?25hRequirement already satisfied: requests in /usr/local/lib/python3.7/dist-packages (from transformers) (2.23.0)\n",
            "Requirement already satisfied: tqdm>=4.27 in /usr/local/lib/python3.7/dist-packages (from transformers) (4.41.1)\n",
            "Requirement already satisfied: importlib-metadata; python_version < \"3.8\" in /usr/local/lib/python3.7/dist-packages (from transformers) (4.0.1)\n",
            "Collecting huggingface-hub==0.0.8\n",
            "  Downloading https://files.pythonhosted.org/packages/a1/88/7b1e45720ecf59c6c6737ff332f41c955963090a18e72acbcbeac6b25e86/huggingface_hub-0.0.8-py3-none-any.whl\n",
            "Requirement already satisfied: filelock in /usr/local/lib/python3.7/dist-packages (from transformers) (3.0.12)\n",
            "Requirement already satisfied: dill in /usr/local/lib/python3.7/dist-packages (from datasets) (0.3.3)\n",
            "Requirement already satisfied: pandas in /usr/local/lib/python3.7/dist-packages (from datasets) (1.1.5)\n",
            "Requirement already satisfied: pyarrow<4.0.0,>=1.0.0 in /usr/local/lib/python3.7/dist-packages (from datasets) (3.0.0)\n",
            "Requirement already satisfied: multiprocess in /usr/local/lib/python3.7/dist-packages (from datasets) (0.70.11.1)\n",
            "Collecting xxhash\n",
            "\u001b[?25l  Downloading https://files.pythonhosted.org/packages/7d/4f/0a862cad26aa2ed7a7cd87178cbbfa824fc1383e472d63596a0d018374e7/xxhash-2.0.2-cp37-cp37m-manylinux2010_x86_64.whl (243kB)\n",
            "\u001b[K     |████████████████████████████████| 245kB 44.5MB/s \n",
            "\u001b[?25hCollecting fsspec\n",
            "\u001b[?25l  Downloading https://files.pythonhosted.org/packages/8e/d2/d05466997f7751a2c06a7a416b7d1f131d765f7916698d3fdcb3a4d037e5/fsspec-2021.6.0-py3-none-any.whl (114kB)\n",
            "\u001b[K     |████████████████████████████████| 122kB 58.4MB/s \n",
            "\u001b[?25hRequirement already satisfied: pyparsing>=2.0.2 in /usr/local/lib/python3.7/dist-packages (from packaging->transformers) (2.4.7)\n",
            "Requirement already satisfied: joblib in /usr/local/lib/python3.7/dist-packages (from sacremoses->transformers) (1.0.1)\n",
            "Requirement already satisfied: six in /usr/local/lib/python3.7/dist-packages (from sacremoses->transformers) (1.15.0)\n",
            "Requirement already satisfied: click in /usr/local/lib/python3.7/dist-packages (from sacremoses->transformers) (7.1.2)\n",
            "Requirement already satisfied: certifi>=2017.4.17 in /usr/local/lib/python3.7/dist-packages (from requests->transformers) (2020.12.5)\n",
            "Requirement already satisfied: idna<3,>=2.5 in /usr/local/lib/python3.7/dist-packages (from requests->transformers) (2.10)\n",
            "Requirement already satisfied: chardet<4,>=3.0.2 in /usr/local/lib/python3.7/dist-packages (from requests->transformers) (3.0.4)\n",
            "Requirement already satisfied: urllib3!=1.25.0,!=1.25.1,<1.26,>=1.21.1 in /usr/local/lib/python3.7/dist-packages (from requests->transformers) (1.24.3)\n",
            "Requirement already satisfied: zipp>=0.5 in /usr/local/lib/python3.7/dist-packages (from importlib-metadata; python_version < \"3.8\"->transformers) (3.4.1)\n",
            "Requirement already satisfied: typing-extensions>=3.6.4; python_version < \"3.8\" in /usr/local/lib/python3.7/dist-packages (from importlib-metadata; python_version < \"3.8\"->transformers) (3.7.4.3)\n",
            "Requirement already satisfied: pytz>=2017.2 in /usr/local/lib/python3.7/dist-packages (from pandas->datasets) (2018.9)\n",
            "Requirement already satisfied: python-dateutil>=2.7.3 in /usr/local/lib/python3.7/dist-packages (from pandas->datasets) (2.8.1)\n",
            "Installing collected packages: sacremoses, tokenizers, huggingface-hub, transformers, xxhash, fsspec, datasets, sentencepiece\n",
            "Successfully installed datasets-1.7.0 fsspec-2021.6.0 huggingface-hub-0.0.8 sacremoses-0.0.45 sentencepiece-0.1.95 tokenizers-0.10.3 transformers-4.6.1 xxhash-2.0.2\n"
          ],
          "name": "stdout"
        }
      ]
    },
    {
      "cell_type": "code",
      "metadata": {
        "id": "howQNLST6g11"
      },
      "source": [
        "import json"
      ],
      "execution_count": 1,
      "outputs": []
    },
    {
      "cell_type": "code",
      "metadata": {
        "id": "Meaeoib00Q5-"
      },
      "source": [
        "with open ('judgements_train.json', encoding='utf-8') as f:\n",
        "  data_train = json.load(f)\n",
        "\n",
        "with open ('judgements_test.json', encoding='utf-8') as f:\n",
        "  data_test = json.load(f)"
      ],
      "execution_count": 2,
      "outputs": []
    },
    {
      "cell_type": "code",
      "metadata": {
        "id": "-tikaeL43-cU"
      },
      "source": [
        "from sklearn.model_selection import train_test_split\n",
        "\n",
        "_, val_keys = train_test_split(list(data_train.keys()), test_size=0.15, random_state=10)\n",
        "\n",
        "data_val = {}\n",
        "\n",
        "for k in val_keys:\n",
        "  data_val[k] = data_train[k]\n",
        "  data_train.pop(k)"
      ],
      "execution_count": 3,
      "outputs": []
    },
    {
      "cell_type": "code",
      "metadata": {
        "id": "h9pzVRNH9IWB"
      },
      "source": [
        "from transformers import AutoTokenizer\n",
        "\n",
        "\n",
        "model_name = \"dmitry-vorobiev/rubert_ria_headlines\"\n",
        "tokenizer = AutoTokenizer.from_pretrained(model_name)"
      ],
      "execution_count": 4,
      "outputs": []
    },
    {
      "cell_type": "code",
      "metadata": {
        "colab": {
          "base_uri": "https://localhost:8080/"
        },
        "id": "aTk-reI1MOmx",
        "outputId": "7c6a97ea-42bb-48fc-9c30-c6210df82787"
      },
      "source": [
        "'''import nltk\n",
        "nltk.download('punkt')\n",
        "from nltk import sent_tokenize\n",
        "\n",
        "def trunc(text):\n",
        "  trunc_text = ''\n",
        "  sentences = sent_tokenize(text)\n",
        "  decision_sentence = sentences[-1]\n",
        "  min_len = len(tokenizer(decision_sentence)['input_ids'])\n",
        "  for sent in sentences:\n",
        "    sent_len = len(tokenizer(sent)['input_ids'])-2\n",
        "    if sent_len+min_len<512:\n",
        "      trunc_text += sent\n",
        "      min_len += sent_len\n",
        "    else:\n",
        "      break\n",
        "  trunc_text += '[PAD]'*(512-min_len)\n",
        "  trunc_text += decision_sentence\n",
        "  return trunc_text'''"
      ],
      "execution_count": 7,
      "outputs": [
        {
          "output_type": "stream",
          "text": [
            "[nltk_data] Downloading package punkt to /root/nltk_data...\n",
            "[nltk_data]   Unzipping tokenizers/punkt.zip.\n"
          ],
          "name": "stdout"
        }
      ]
    },
    {
      "cell_type": "code",
      "metadata": {
        "id": "llqGBQbM4NkC"
      },
      "source": [
        "n_data_train = {'id': [], 'texts': [], 'summaries': []}\n",
        "\n",
        "for ind in data_train.keys():\n",
        "  n_data_train['id'].append(ind)\n",
        "  n_data_train['texts'].append(data_train[ind]['text'])\n",
        "  n_data_train['summaries'].append(data_train[ind]['summary'])\n",
        "\n",
        "n_data_val = {'id': [], 'texts': [], 'summaries': []}\n",
        "\n",
        "for ind in data_val.keys():\n",
        "  n_data_val['id'].append(ind)\n",
        "  n_data_val['texts'].append(data_val[ind]['text'])\n",
        "  n_data_val['summaries'].append(data_val[ind]['summary'])\n",
        "\n",
        "n_data_test = {'id': [], 'texts': [], 'summaries': []}\n",
        "\n",
        "for ind in data_test.keys():\n",
        "  n_data_test['id'].append(ind)\n",
        "  n_data_test['texts'].append(data_test[ind]['text'])\n",
        "  n_data_test['summaries'].append(data_test[ind]['summary'])"
      ],
      "execution_count": 6,
      "outputs": []
    },
    {
      "cell_type": "code",
      "metadata": {
        "id": "VD1ML1pA0gTr"
      },
      "source": [
        "from datasets import Dataset\n",
        "\n",
        "train_dataset = Dataset.from_dict(n_data_train)"
      ],
      "execution_count": 7,
      "outputs": []
    },
    {
      "cell_type": "code",
      "metadata": {
        "colab": {
          "base_uri": "https://localhost:8080/"
        },
        "id": "DlP0RaLy0zFY",
        "outputId": "21f3aac5-cf83-4db0-8a12-09d699c7721d"
      },
      "source": [
        "train_dataset"
      ],
      "execution_count": 8,
      "outputs": [
        {
          "output_type": "execute_result",
          "data": {
            "text/plain": [
              "Dataset({\n",
              "    features: ['id', 'texts', 'summaries'],\n",
              "    num_rows: 12925\n",
              "})"
            ]
          },
          "metadata": {
            "tags": []
          },
          "execution_count": 8
        }
      ]
    },
    {
      "cell_type": "code",
      "metadata": {
        "id": "7G-4mDNt6aUU"
      },
      "source": [
        "val_dataset = Dataset.from_dict(n_data_val)\n",
        "test_dataset = Dataset.from_dict(n_data_test)"
      ],
      "execution_count": 9,
      "outputs": []
    },
    {
      "cell_type": "code",
      "metadata": {
        "id": "3TNXMwl7WSVF"
      },
      "source": [
        "max_input_length = 512\n",
        "max_target_length = 120\n",
        "\n",
        "def preprocess_function(examples):\n",
        "    inputs = [doc for doc in examples[\"texts\"]]\n",
        "    model_inputs = tokenizer(inputs, max_length=max_input_length, \n",
        "                             truncation=True)\n",
        "\n",
        "    # Setup the tokenizer for targets\n",
        "    with tokenizer.as_target_tokenizer():\n",
        "        labels = tokenizer(examples[\"summaries\"],\n",
        "                           max_length=max_target_length, truncation=True, padding=True)\n",
        "\n",
        "    model_inputs[\"labels\"] = labels[\"input_ids\"]\n",
        "    model_inputs[\"decoder_input_ids\"] = labels[\"input_ids\"]\n",
        "    return model_inputs"
      ],
      "execution_count": 10,
      "outputs": []
    },
    {
      "cell_type": "code",
      "metadata": {
        "colab": {
          "base_uri": "https://localhost:8080/",
          "height": 165,
          "referenced_widgets": [
            "eabae47ed99d4586b5a5b02e739038b0",
            "b7fbe617bc04478ea5e43fd593bbd83b",
            "b8908263da2847e0a5c69cc0fc3fabd9",
            "477ae20d34f04e7abfb09bf15c35da4c",
            "0fd836d67cd746e59b0a599d41dd1ec5",
            "e64f57584cc04f93be965906e93adffe",
            "6336bfd329c64c4f939c4310b05eeda7",
            "3b3f0c9cb40f46f49c7612c384b8c625",
            "77f0617f130540b7b3e52b269e1aaca8",
            "2cbfbb901d324e57be3e2d62d57fe110",
            "2e40e578a54943769149754d6a6dfc8b",
            "583c98601de04559a6c89e1767a76cf6",
            "f76d7c6e880f4402a2d75fb1fec32214",
            "64714b1980de4ef6937359c18764d373",
            "cfb42e20bd534ea3b5d5236da86b487d",
            "980d168121ac41138a2ca0af25a94659",
            "2d656f03cbce4d36805079fbd47be8d0",
            "783dedc6e44840f2a79fffb758afabb3",
            "06c32226195f4813a90ba457e88653f0",
            "f498d4b7b1fe46dda2f7c46493b4a546",
            "cd0b07bb0f904797a1a9af2d3a27cf4d",
            "230c4b98bca648e9a88d54fc431aa923",
            "4e2fab84e7a140f197acb7ef7712ad9d",
            "7257abcea5bd4ac3ace24576c0528d16"
          ]
        },
        "id": "LgMGI5Tm-oBd",
        "outputId": "1fca09f2-df84-44d9-99f0-3e3f154c4085"
      },
      "source": [
        "tokenized_train_dataset = train_dataset.map(preprocess_function, batched=True)\n",
        "tokenized_val_dataset = val_dataset.map(preprocess_function, batched=True)\n",
        "tokenized_test_dataset = test_dataset.map(preprocess_function, batched=True)"
      ],
      "execution_count": 11,
      "outputs": [
        {
          "output_type": "display_data",
          "data": {
            "application/vnd.jupyter.widget-view+json": {
              "model_id": "eabae47ed99d4586b5a5b02e739038b0",
              "version_minor": 0,
              "version_major": 2
            },
            "text/plain": [
              "HBox(children=(FloatProgress(value=0.0, max=13.0), HTML(value='')))"
            ]
          },
          "metadata": {
            "tags": []
          }
        },
        {
          "output_type": "stream",
          "text": [
            "\n"
          ],
          "name": "stdout"
        },
        {
          "output_type": "display_data",
          "data": {
            "application/vnd.jupyter.widget-view+json": {
              "model_id": "77f0617f130540b7b3e52b269e1aaca8",
              "version_minor": 0,
              "version_major": 2
            },
            "text/plain": [
              "HBox(children=(FloatProgress(value=0.0, max=3.0), HTML(value='')))"
            ]
          },
          "metadata": {
            "tags": []
          }
        },
        {
          "output_type": "stream",
          "text": [
            "\n"
          ],
          "name": "stdout"
        },
        {
          "output_type": "display_data",
          "data": {
            "application/vnd.jupyter.widget-view+json": {
              "model_id": "2d656f03cbce4d36805079fbd47be8d0",
              "version_minor": 0,
              "version_major": 2
            },
            "text/plain": [
              "HBox(children=(FloatProgress(value=0.0, max=3.0), HTML(value='')))"
            ]
          },
          "metadata": {
            "tags": []
          }
        },
        {
          "output_type": "stream",
          "text": [
            "\n"
          ],
          "name": "stdout"
        }
      ]
    },
    {
      "cell_type": "code",
      "metadata": {
        "colab": {
          "base_uri": "https://localhost:8080/"
        },
        "id": "ug03_mnJV_2C",
        "outputId": "fb3569e3-0203-424b-9dd2-bb569fc77196"
      },
      "source": [
        "import gc\n",
        "\n",
        "del data_train, data_val, data_test, n_data_train, n_data_test, n_data_val\n",
        "del train_dataset, val_dataset\n",
        "gc.collect() "
      ],
      "execution_count": 12,
      "outputs": [
        {
          "output_type": "execute_result",
          "data": {
            "text/plain": [
              "197"
            ]
          },
          "metadata": {
            "tags": []
          },
          "execution_count": 12
        }
      ]
    },
    {
      "cell_type": "code",
      "metadata": {
        "id": "lDPUAUq5Wqah",
        "colab": {
          "base_uri": "https://localhost:8080/"
        },
        "outputId": "cfd1b348-1d47-4b7a-c02a-8c3a134902ac"
      },
      "source": [
        "from transformers import AutoModelForSeq2SeqLM, DataCollatorForSeq2Seq, Seq2SeqTrainingArguments, Seq2SeqTrainer\n",
        "\n",
        "model = AutoModelForSeq2SeqLM.from_pretrained(model_name)"
      ],
      "execution_count": 13,
      "outputs": [
        {
          "output_type": "stream",
          "text": [
            "The following encoder weights were not tied to the decoder ['bert/pooler']\n",
            "The following encoder weights were not tied to the decoder ['bert/pooler']\n"
          ],
          "name": "stderr"
        }
      ]
    },
    {
      "cell_type": "code",
      "metadata": {
        "id": "XYpVZGvAWqmj"
      },
      "source": [
        "batch_size = 8\n",
        "args = Seq2SeqTrainingArguments(\n",
        "    \"test-summarization\",\n",
        "    evaluation_strategy = \"epoch\",\n",
        "    learning_rate=2e-5,\n",
        "    per_device_train_batch_size=batch_size,\n",
        "    per_device_eval_batch_size=batch_size,\n",
        "    weight_decay=0.01,\n",
        "    save_total_limit=2,\n",
        "    num_train_epochs=5,\n",
        "    predict_with_generate=True,\n",
        "    fp16=True\n",
        ")"
      ],
      "execution_count": 19,
      "outputs": []
    },
    {
      "cell_type": "code",
      "metadata": {
        "id": "ijjQvq417Jvg"
      },
      "source": [
        "data_collator = DataCollatorForSeq2Seq(tokenizer, model=model)"
      ],
      "execution_count": 14,
      "outputs": []
    },
    {
      "cell_type": "code",
      "metadata": {
        "colab": {
          "base_uri": "https://localhost:8080/"
        },
        "id": "KlzVaSrPCA6B",
        "outputId": "a7d13868-ab29-4ab9-d14c-e140eda15f36"
      },
      "source": [
        "!pip install rouge_score"
      ],
      "execution_count": 15,
      "outputs": [
        {
          "output_type": "stream",
          "text": [
            "Requirement already satisfied: rouge_score in /usr/local/lib/python3.7/dist-packages (0.0.4)\n",
            "Requirement already satisfied: six>=1.14.0 in /usr/local/lib/python3.7/dist-packages (from rouge_score) (1.15.0)\n",
            "Requirement already satisfied: numpy in /usr/local/lib/python3.7/dist-packages (from rouge_score) (1.19.5)\n",
            "Requirement already satisfied: nltk in /usr/local/lib/python3.7/dist-packages (from rouge_score) (3.2.5)\n",
            "Requirement already satisfied: absl-py in /usr/local/lib/python3.7/dist-packages (from rouge_score) (0.12.0)\n"
          ],
          "name": "stdout"
        }
      ]
    },
    {
      "cell_type": "code",
      "metadata": {
        "id": "y_y1R3_EWqw3"
      },
      "source": [
        "from datasets import load_metric\n",
        "\n",
        "metric = load_metric(\"rouge\")"
      ],
      "execution_count": 16,
      "outputs": []
    },
    {
      "cell_type": "code",
      "metadata": {
        "id": "FbEWNCKH7Nj4",
        "colab": {
          "base_uri": "https://localhost:8080/"
        },
        "outputId": "871105e0-f75b-4cfb-8041-d6be6fbe8e36"
      },
      "source": [
        "import nltk\n",
        "import numpy as np\n",
        "\n",
        "nltk.download('punkt')\n",
        "\n",
        "def compute_metrics(eval_pred):\n",
        "    predictions, labels = eval_pred\n",
        "    decoded_preds = tokenizer.batch_decode(predictions, skip_special_tokens=True)\n",
        "    # Replace -100 in the labels as we can't decode them.\n",
        "    labels = np.where(labels != -100, labels, tokenizer.pad_token_id)\n",
        "    decoded_labels = tokenizer.batch_decode(labels, skip_special_tokens=True)\n",
        "    \n",
        "    # Rouge expects a newline after each sentence\n",
        "    decoded_preds = [\"\\n\".join(nltk.sent_tokenize(pred.strip())) for pred in decoded_preds]\n",
        "    decoded_labels = [\"\\n\".join(nltk.sent_tokenize(label.strip())) for label in decoded_labels]\n",
        "    \n",
        "    result = metric.compute(predictions=decoded_preds, references=decoded_labels, use_stemmer=True)\n",
        "    # Extract a few results\n",
        "    result = {key: value.mid.fmeasure * 100 for key, value in result.items()}\n",
        "    \n",
        "    # Add mean generated length\n",
        "    prediction_lens = [np.count_nonzero(pred != tokenizer.pad_token_id) for pred in predictions]\n",
        "    result[\"gen_len\"] = np.mean(prediction_lens)\n",
        "    \n",
        "    return {k: round(v, 4) for k, v in result.items()}"
      ],
      "execution_count": 17,
      "outputs": [
        {
          "output_type": "stream",
          "text": [
            "[nltk_data] Downloading package punkt to /root/nltk_data...\n",
            "[nltk_data]   Package punkt is already up-to-date!\n"
          ],
          "name": "stdout"
        }
      ]
    },
    {
      "cell_type": "code",
      "metadata": {
        "id": "sEefWh047N3_"
      },
      "source": [
        "trainer = Seq2SeqTrainer(\n",
        "    model,\n",
        "    args,\n",
        "    train_dataset=tokenized_train_dataset,\n",
        "    eval_dataset=tokenized_val_dataset,\n",
        "    data_collator=data_collator,\n",
        "    tokenizer=tokenizer,\n",
        "    compute_metrics=compute_metrics\n",
        ")"
      ],
      "execution_count": 20,
      "outputs": []
    },
    {
      "cell_type": "code",
      "metadata": {
        "id": "03whQ37HPnrb"
      },
      "source": [
        "import torch\n",
        "import gc\n",
        "\n",
        "gc.collect()\n",
        "torch.cuda.empty_cache()"
      ],
      "execution_count": 21,
      "outputs": []
    },
    {
      "cell_type": "code",
      "metadata": {
        "colab": {
          "base_uri": "https://localhost:8080/",
          "height": 460
        },
        "id": "iUAKpXPc7ODr",
        "outputId": "8b3581b0-a921-4e43-8401-e4d511477c23"
      },
      "source": [
        "trainer.train()"
      ],
      "execution_count": 22,
      "outputs": [
        {
          "output_type": "display_data",
          "data": {
            "text/html": [
              "\n",
              "    <div>\n",
              "      \n",
              "      <progress value='4936' max='8080' style='width:300px; height:20px; vertical-align: middle;'></progress>\n",
              "      [4936/8080 2:11:42 < 1:23:55, 0.62 it/s, Epoch 3.05/5]\n",
              "    </div>\n",
              "    <table border=\"1\" class=\"dataframe\">\n",
              "  <thead>\n",
              "    <tr style=\"text-align: left;\">\n",
              "      <th>Epoch</th>\n",
              "      <th>Training Loss</th>\n",
              "      <th>Validation Loss</th>\n",
              "      <th>Rouge1</th>\n",
              "      <th>Rouge2</th>\n",
              "      <th>Rougel</th>\n",
              "      <th>Rougelsum</th>\n",
              "      <th>Gen Len</th>\n",
              "    </tr>\n",
              "  </thead>\n",
              "  <tbody>\n",
              "    <tr>\n",
              "      <td>1</td>\n",
              "      <td>1.678800</td>\n",
              "      <td>1.518871</td>\n",
              "      <td>76.615300</td>\n",
              "      <td>0.625900</td>\n",
              "      <td>76.622300</td>\n",
              "      <td>76.670300</td>\n",
              "      <td>47.278700</td>\n",
              "    </tr>\n",
              "    <tr>\n",
              "      <td>2</td>\n",
              "      <td>1.427700</td>\n",
              "      <td>1.374009</td>\n",
              "      <td>80.521700</td>\n",
              "      <td>1.117800</td>\n",
              "      <td>80.515700</td>\n",
              "      <td>80.578100</td>\n",
              "      <td>47.631900</td>\n",
              "    </tr>\n",
              "    <tr>\n",
              "      <td>3</td>\n",
              "      <td>1.326900</td>\n",
              "      <td>1.313409</td>\n",
              "      <td>80.033600</td>\n",
              "      <td>1.556100</td>\n",
              "      <td>80.047600</td>\n",
              "      <td>80.079600</td>\n",
              "      <td>47.447400</td>\n",
              "    </tr>\n",
              "  </tbody>\n",
              "</table><p>"
            ],
            "text/plain": [
              "<IPython.core.display.HTML object>"
            ]
          },
          "metadata": {
            "tags": []
          }
        },
        {
          "output_type": "error",
          "ename": "KeyboardInterrupt",
          "evalue": "ignored",
          "traceback": [
            "\u001b[0;31m---------------------------------------------------------------------------\u001b[0m",
            "\u001b[0;31mKeyboardInterrupt\u001b[0m                         Traceback (most recent call last)",
            "\u001b[0;32m<ipython-input-22-3435b262f1ae>\u001b[0m in \u001b[0;36m<module>\u001b[0;34m()\u001b[0m\n\u001b[0;32m----> 1\u001b[0;31m \u001b[0mtrainer\u001b[0m\u001b[0;34m.\u001b[0m\u001b[0mtrain\u001b[0m\u001b[0;34m(\u001b[0m\u001b[0;34m)\u001b[0m\u001b[0;34m\u001b[0m\u001b[0;34m\u001b[0m\u001b[0m\n\u001b[0m",
            "\u001b[0;32m/usr/local/lib/python3.7/dist-packages/transformers/trainer.py\u001b[0m in \u001b[0;36mtrain\u001b[0;34m(self, resume_from_checkpoint, trial, **kwargs)\u001b[0m\n\u001b[1;32m   1270\u001b[0m                         \u001b[0mtr_loss\u001b[0m \u001b[0;34m+=\u001b[0m \u001b[0mself\u001b[0m\u001b[0;34m.\u001b[0m\u001b[0mtraining_step\u001b[0m\u001b[0;34m(\u001b[0m\u001b[0mmodel\u001b[0m\u001b[0;34m,\u001b[0m \u001b[0minputs\u001b[0m\u001b[0;34m)\u001b[0m\u001b[0;34m\u001b[0m\u001b[0;34m\u001b[0m\u001b[0m\n\u001b[1;32m   1271\u001b[0m                 \u001b[0;32melse\u001b[0m\u001b[0;34m:\u001b[0m\u001b[0;34m\u001b[0m\u001b[0;34m\u001b[0m\u001b[0m\n\u001b[0;32m-> 1272\u001b[0;31m                     \u001b[0mtr_loss\u001b[0m \u001b[0;34m+=\u001b[0m \u001b[0mself\u001b[0m\u001b[0;34m.\u001b[0m\u001b[0mtraining_step\u001b[0m\u001b[0;34m(\u001b[0m\u001b[0mmodel\u001b[0m\u001b[0;34m,\u001b[0m \u001b[0minputs\u001b[0m\u001b[0;34m)\u001b[0m\u001b[0;34m\u001b[0m\u001b[0;34m\u001b[0m\u001b[0m\n\u001b[0m\u001b[1;32m   1273\u001b[0m                 \u001b[0mself\u001b[0m\u001b[0;34m.\u001b[0m\u001b[0mcurrent_flos\u001b[0m \u001b[0;34m+=\u001b[0m \u001b[0mfloat\u001b[0m\u001b[0;34m(\u001b[0m\u001b[0mself\u001b[0m\u001b[0;34m.\u001b[0m\u001b[0mfloating_point_ops\u001b[0m\u001b[0;34m(\u001b[0m\u001b[0minputs\u001b[0m\u001b[0;34m)\u001b[0m\u001b[0;34m)\u001b[0m\u001b[0;34m\u001b[0m\u001b[0;34m\u001b[0m\u001b[0m\n\u001b[1;32m   1274\u001b[0m \u001b[0;34m\u001b[0m\u001b[0m\n",
            "\u001b[0;32m/usr/local/lib/python3.7/dist-packages/transformers/trainer.py\u001b[0m in \u001b[0;36mtraining_step\u001b[0;34m(self, model, inputs)\u001b[0m\n\u001b[1;32m   1742\u001b[0m \u001b[0;34m\u001b[0m\u001b[0m\n\u001b[1;32m   1743\u001b[0m         \u001b[0;32mif\u001b[0m \u001b[0mself\u001b[0m\u001b[0;34m.\u001b[0m\u001b[0muse_amp\u001b[0m\u001b[0;34m:\u001b[0m\u001b[0;34m\u001b[0m\u001b[0;34m\u001b[0m\u001b[0m\n\u001b[0;32m-> 1744\u001b[0;31m             \u001b[0mself\u001b[0m\u001b[0;34m.\u001b[0m\u001b[0mscaler\u001b[0m\u001b[0;34m.\u001b[0m\u001b[0mscale\u001b[0m\u001b[0;34m(\u001b[0m\u001b[0mloss\u001b[0m\u001b[0;34m)\u001b[0m\u001b[0;34m.\u001b[0m\u001b[0mbackward\u001b[0m\u001b[0;34m(\u001b[0m\u001b[0;34m)\u001b[0m\u001b[0;34m\u001b[0m\u001b[0;34m\u001b[0m\u001b[0m\n\u001b[0m\u001b[1;32m   1745\u001b[0m         \u001b[0;32melif\u001b[0m \u001b[0mself\u001b[0m\u001b[0;34m.\u001b[0m\u001b[0muse_apex\u001b[0m\u001b[0;34m:\u001b[0m\u001b[0;34m\u001b[0m\u001b[0;34m\u001b[0m\u001b[0m\n\u001b[1;32m   1746\u001b[0m             \u001b[0;32mwith\u001b[0m \u001b[0mamp\u001b[0m\u001b[0;34m.\u001b[0m\u001b[0mscale_loss\u001b[0m\u001b[0;34m(\u001b[0m\u001b[0mloss\u001b[0m\u001b[0;34m,\u001b[0m \u001b[0mself\u001b[0m\u001b[0;34m.\u001b[0m\u001b[0moptimizer\u001b[0m\u001b[0;34m)\u001b[0m \u001b[0;32mas\u001b[0m \u001b[0mscaled_loss\u001b[0m\u001b[0;34m:\u001b[0m\u001b[0;34m\u001b[0m\u001b[0;34m\u001b[0m\u001b[0m\n",
            "\u001b[0;32m/usr/local/lib/python3.7/dist-packages/torch/tensor.py\u001b[0m in \u001b[0;36mbackward\u001b[0;34m(self, gradient, retain_graph, create_graph, inputs)\u001b[0m\n\u001b[1;32m    243\u001b[0m                 \u001b[0mcreate_graph\u001b[0m\u001b[0;34m=\u001b[0m\u001b[0mcreate_graph\u001b[0m\u001b[0;34m,\u001b[0m\u001b[0;34m\u001b[0m\u001b[0;34m\u001b[0m\u001b[0m\n\u001b[1;32m    244\u001b[0m                 inputs=inputs)\n\u001b[0;32m--> 245\u001b[0;31m         \u001b[0mtorch\u001b[0m\u001b[0;34m.\u001b[0m\u001b[0mautograd\u001b[0m\u001b[0;34m.\u001b[0m\u001b[0mbackward\u001b[0m\u001b[0;34m(\u001b[0m\u001b[0mself\u001b[0m\u001b[0;34m,\u001b[0m \u001b[0mgradient\u001b[0m\u001b[0;34m,\u001b[0m \u001b[0mretain_graph\u001b[0m\u001b[0;34m,\u001b[0m \u001b[0mcreate_graph\u001b[0m\u001b[0;34m,\u001b[0m \u001b[0minputs\u001b[0m\u001b[0;34m=\u001b[0m\u001b[0minputs\u001b[0m\u001b[0;34m)\u001b[0m\u001b[0;34m\u001b[0m\u001b[0;34m\u001b[0m\u001b[0m\n\u001b[0m\u001b[1;32m    246\u001b[0m \u001b[0;34m\u001b[0m\u001b[0m\n\u001b[1;32m    247\u001b[0m     \u001b[0;32mdef\u001b[0m \u001b[0mregister_hook\u001b[0m\u001b[0;34m(\u001b[0m\u001b[0mself\u001b[0m\u001b[0;34m,\u001b[0m \u001b[0mhook\u001b[0m\u001b[0;34m)\u001b[0m\u001b[0;34m:\u001b[0m\u001b[0;34m\u001b[0m\u001b[0;34m\u001b[0m\u001b[0m\n",
            "\u001b[0;32m/usr/local/lib/python3.7/dist-packages/torch/autograd/__init__.py\u001b[0m in \u001b[0;36mbackward\u001b[0;34m(tensors, grad_tensors, retain_graph, create_graph, grad_variables, inputs)\u001b[0m\n\u001b[1;32m    145\u001b[0m     Variable._execution_engine.run_backward(\n\u001b[1;32m    146\u001b[0m         \u001b[0mtensors\u001b[0m\u001b[0;34m,\u001b[0m \u001b[0mgrad_tensors_\u001b[0m\u001b[0;34m,\u001b[0m \u001b[0mretain_graph\u001b[0m\u001b[0;34m,\u001b[0m \u001b[0mcreate_graph\u001b[0m\u001b[0;34m,\u001b[0m \u001b[0minputs\u001b[0m\u001b[0;34m,\u001b[0m\u001b[0;34m\u001b[0m\u001b[0;34m\u001b[0m\u001b[0m\n\u001b[0;32m--> 147\u001b[0;31m         allow_unreachable=True, accumulate_grad=True)  # allow_unreachable flag\n\u001b[0m\u001b[1;32m    148\u001b[0m \u001b[0;34m\u001b[0m\u001b[0m\n\u001b[1;32m    149\u001b[0m \u001b[0;34m\u001b[0m\u001b[0m\n",
            "\u001b[0;31mKeyboardInterrupt\u001b[0m: "
          ]
        }
      ]
    },
    {
      "cell_type": "code",
      "metadata": {
        "colab": {
          "base_uri": "https://localhost:8080/",
          "height": 186
        },
        "id": "Ge7tA5BTrpyG",
        "outputId": "76d63e0b-dc53-4fce-b5ef-3d37206902c2"
      },
      "source": [
        "test_predictions = trainer.predict(tokenized_test_dataset)"
      ],
      "execution_count": 23,
      "outputs": [
        {
          "output_type": "display_data",
          "data": {
            "text/html": [
              "\n",
              "    <div>\n",
              "      \n",
              "      <progress value='4936' max='8080' style='width:300px; height:20px; vertical-align: middle;'></progress>\n",
              "      [4936/8080 2:11:42 < 1:23:55, 0.62 it/s, Epoch 3.05/5]\n",
              "    </div>\n",
              "    <table border=\"1\" class=\"dataframe\">\n",
              "  <thead>\n",
              "    <tr style=\"text-align: left;\">\n",
              "      <th>Epoch</th>\n",
              "      <th>Training Loss</th>\n",
              "      <th>Validation Loss</th>\n",
              "      <th>Rouge1</th>\n",
              "      <th>Rouge2</th>\n",
              "      <th>Rougel</th>\n",
              "      <th>Rougelsum</th>\n",
              "      <th>Gen Len</th>\n",
              "    </tr>\n",
              "  </thead>\n",
              "  <tbody>\n",
              "    <tr>\n",
              "      <td>1</td>\n",
              "      <td>1.678800</td>\n",
              "      <td>1.518871</td>\n",
              "      <td>76.615300</td>\n",
              "      <td>0.625900</td>\n",
              "      <td>76.622300</td>\n",
              "      <td>76.670300</td>\n",
              "      <td>47.278700</td>\n",
              "    </tr>\n",
              "    <tr>\n",
              "      <td>2</td>\n",
              "      <td>1.427700</td>\n",
              "      <td>1.374009</td>\n",
              "      <td>80.521700</td>\n",
              "      <td>1.117800</td>\n",
              "      <td>80.515700</td>\n",
              "      <td>80.578100</td>\n",
              "      <td>47.631900</td>\n",
              "    </tr>\n",
              "    <tr>\n",
              "      <td>3</td>\n",
              "      <td>1.326900</td>\n",
              "      <td>1.313409</td>\n",
              "      <td>80.033600</td>\n",
              "      <td>1.556100</td>\n",
              "      <td>80.047600</td>\n",
              "      <td>80.079600</td>\n",
              "      <td>47.447400</td>\n",
              "    </tr>\n",
              "  </tbody>\n",
              "</table><p>\n",
              "    <div>\n",
              "      \n",
              "      <progress value='336' max='336' style='width:300px; height:20px; vertical-align: middle;'></progress>\n",
              "      [336/336 22:57]\n",
              "    </div>\n",
              "    "
            ],
            "text/plain": [
              "<IPython.core.display.HTML object>"
            ]
          },
          "metadata": {
            "tags": []
          }
        }
      ]
    },
    {
      "cell_type": "code",
      "metadata": {
        "colab": {
          "base_uri": "https://localhost:8080/"
        },
        "id": "AS_A8vpw4-ku",
        "outputId": "270f2a92-701d-4383-b3bc-a817d116d786"
      },
      "source": [
        "!pip install rouge"
      ],
      "execution_count": 24,
      "outputs": [
        {
          "output_type": "stream",
          "text": [
            "Requirement already satisfied: rouge in /usr/local/lib/python3.7/dist-packages (1.0.0)\n",
            "Requirement already satisfied: six in /usr/local/lib/python3.7/dist-packages (from rouge) (1.15.0)\n"
          ],
          "name": "stdout"
        }
      ]
    },
    {
      "cell_type": "code",
      "metadata": {
        "id": "RSkJm76Z5AfM"
      },
      "source": [
        "from rouge import Rouge\n",
        "\n",
        "rouge = Rouge()"
      ],
      "execution_count": 25,
      "outputs": []
    },
    {
      "cell_type": "code",
      "metadata": {
        "id": "U8w7Q17F5J7s"
      },
      "source": [
        "references = test_dataset['summaries']\n",
        "predictions = [tokenizer.decode(g, skip_special_tokens=True, clean_up_tokenization_spaces=False) for g in test_predictions[0]]\n",
        "\n",
        "scores = rouge.get_scores(predictions, references, avg=True)"
      ],
      "execution_count": 26,
      "outputs": []
    },
    {
      "cell_type": "code",
      "metadata": {
        "colab": {
          "base_uri": "https://localhost:8080/"
        },
        "id": "1d9dSgruAw5N",
        "outputId": "8cd1fa0e-4d9b-4ca0-8786-fb2fdbd354cb"
      },
      "source": [
        "scores"
      ],
      "execution_count": 27,
      "outputs": [
        {
          "output_type": "execute_result",
          "data": {
            "text/plain": [
              "{'rouge-1': {'f': 0.3310628108175336,\n",
              "  'p': 0.4464291154040704,\n",
              "  'r': 0.27352381863680425},\n",
              " 'rouge-2': {'f': 0.18253784581433558,\n",
              "  'p': 0.24586907132374944,\n",
              "  'r': 0.15116159974082696},\n",
              " 'rouge-l': {'f': 0.33069004967221033,\n",
              "  'p': 0.434232704952492,\n",
              "  'r': 0.27557661041859305}}"
            ]
          },
          "metadata": {
            "tags": []
          },
          "execution_count": 27
        }
      ]
    },
    {
      "cell_type": "code",
      "metadata": {
        "id": "k4uhQJUgA5X6"
      },
      "source": [
        "import random\n",
        "\n",
        "test_inds = random.sample(range(2684), 100)"
      ],
      "execution_count": 37,
      "outputs": []
    },
    {
      "cell_type": "code",
      "metadata": {
        "id": "Wzq2pUCs09jj",
        "colab": {
          "base_uri": "https://localhost:8080/"
        },
        "outputId": "e7e0beba-e3cd-4aa7-abc1-06d0eab9162b"
      },
      "source": [
        "test_dataset"
      ],
      "execution_count": 29,
      "outputs": [
        {
          "output_type": "execute_result",
          "data": {
            "text/plain": [
              "Dataset({\n",
              "    features: ['id', 'texts', 'summaries'],\n",
              "    num_rows: 2684\n",
              "})"
            ]
          },
          "metadata": {
            "tags": []
          },
          "execution_count": 29
        }
      ]
    },
    {
      "cell_type": "code",
      "metadata": {
        "id": "W_nXuSEB83EJ",
        "colab": {
          "base_uri": "https://localhost:8080/"
        },
        "outputId": "7d7f0939-6a78-4ca5-f6ab-503071ef6ee3"
      },
      "source": [
        "for i in test_inds:\n",
        "  print('------Original summary------:')\n",
        "  print(test_dataset['summaries'][i])\n",
        "  print('------Generated summary------:')\n",
        "  print(predictions[i])\n",
        "  print('\\n')"
      ],
      "execution_count": 38,
      "outputs": [
        {
          "output_type": "stream",
          "text": [
            "------Original summary------:\n",
            "Рассматривается дело o признании недействительной сделки по перечислению должником денежных средств и применении последствий недействительности сделки.  Требование удовлетворено, поскольку в результате совершения оспариваемой сделки причинен вред имущественным правам кредиторов путем безвозмездного вывода активов должника из конкурсной массы.\n",
            "------Generated summary------:\n",
            "заявляется требование o признании недеиствительными сделок по перечислению должником денежных средств в адрес должника. требование удовлетворено, поскольку на момент совершения оспариваемои сделки у должника имелись неисполненные обязательства перед кредиторами, в связи с чем должник\n",
            "\n",
            "\n",
            "------Original summary------:\n",
            "Заявляется требование o взыскании неустойки, штрафа.  Застройщиком нарушен срок передачи объекта долевого строительства. Право требования неустойки перешло к истцу на основании договора цессии.  Требование удовлетворено в части, поскольку размер неустойки снижен на основании ст. 333 ГК РФ, основания для взыскания с застройщика штрафа, предусмотренного п. 6 ст. 13 ФЗ \"О защите прав потребителей\", не установлены.\n",
            "------Generated summary------:\n",
            "заявляется требование o взыскании неустоики по договору участия в долевом строительстве многоквартирных домов и иных объектов недвижимости. истец ссылается на то, что ответчик свои обязательства по внесению аренднои платы не исполнил. требование удовлетворено частично, поскольку\n",
            "\n",
            "\n",
            "------Original summary------:\n",
            "Рассматривается дело o взыскании задолженности по договору аренды, неустойки.  Сторонами был заключен договор аренды нежилого помещения. Обязательства по внесению арендной платы ответчиком надлежащим образом не исполнялись.  Требование удовлетворено, поскольку ответчиком не доказано погашение указанной задолженности.\n",
            "------Generated summary------:\n",
            "заявляется требование o взыскании задолженности и неустоики по договору аренды нежилого помещения. арендодатель ссылается на то, что арендатором не исполнены обязательства по внесению аренднои платы. получено встречное требование об обязании устранить недостатки\n",
            "\n",
            "\n",
            "------Original summary------:\n",
            " Определением:  Утвержден израсходованный лимит на оплату привлеченных лиц;  Увеличен лимит расходов на оплату организатора и оператора торгов.   Определение отменено. В удовлетворении требования отказано, поскольку конкурсный управляющий обратился с ходатайством об утверждении уже израсходованных средств должника как в процедуре наблюдения, так и в процедуре конкурсного производства;  Определение оставлено без изменения, поскольку имеется необходимость реализации имущества, находящегося в конкурсной массе, при этом размер расходов определен в Положении о торгах.\n",
            "------Generated summary------:\n",
            "заявляется требование oб утверждении израсходованного лимита на оплату привлеченных лиц. в удовлетворении требования отказано, поскольку конкурсным управляющим не представлено доказательств того, что конкурсныи управляющии деиствовал в соответствии с положением о конкурснои системе,\n",
            "\n",
            "\n",
            "------Original summary------:\n",
            "Заявляется требование o признании незаконным отказа регистрирующего органа в государственной регистрации права собственности на объект недвижимого имущества, обязании осуществить регистрацию права.  Отказ мотивирован непредставлением обществом документов, свидетельствующих о наличии ранее возникшего права у его правопредшественника на спорный объект.  Требование удовлетворено, поскольку право собственности на объект возникло у общества в результате приватизации предприятия. Документами, устанавливающими переход права на недвижимое имущество, являются свидетельство о государственной регистрации общества и передаточный акт. Предоставление иных документов закон не предусматривает.\n",
            "------Generated summary------:\n",
            "заявляется требование o признании незаконным отказа регистрирующего органа в государственнои регистрации права собственности на объект недвижимого имущества, обязании осуществить регистрацию права собственности. отказ мотивирован тем, что заявителем не представлены доказательства того, что спорныи объект\n",
            "\n",
            "\n",
            "------Original summary------:\n",
            "Рассматривается дело o взыскании задолженности за безучетное потребление электроэнергии, неустойки.  Истцом в ходе проверки прибора учета ответчика установлен факт безучетного потребления электрической энергии. Ответчик был надлежащим образом извещен о проведении проверки, однако отказался от присутствия. Указание о том, что искажений показаний прибора учета не допущено, не опровергает выявленных при проверке прибора учета нарушений, которые являются самостоятельным основанием для признания потребления электроэнергии в безучетном порядке.  Требования удовлетворены.\n",
            "------Generated summary------:\n",
            "заявляется требование o взыскании долга и неустоики по договору энергоснабжения. ресурсоснабжающая организация ссылается на то, что абонентом обязательства по оплате потребленнои электрическои энергии в полном объеме не исполнены. требование удовлетворено, поскольку факт\n",
            "\n",
            "\n",
            "------Original summary------:\n",
            "Заявляется требование o взыскании задолженности и неустойки по договору оказания услуг по передаче электрической энергии по единой национальной (общероссийской) электрической сети.  Требование удовлетворено, поскольку оплата оказанных истцом услуг по передаче электрической энергии не была произведена в полном объеме ответчиком, а в отсутствие согласованной величины заявленной мощности судами была применена величина заявленной мощности, учтенная при формировании тарифов ФАС России в Сводном прогнозном балансе на 2019 год.\n",
            "------Generated summary------:\n",
            "заявляется требование o взыскании долга и неустоики по договору оказания услуг по передаче электрическои энергии. ресурсоснабжающая организация ссылается на то, что исполнителем обязательства по оплате оказанных услуг не исполнены надлежащим образом. требование удовлетворено, поскольку\n",
            "\n",
            "\n",
            "------Original summary------:\n",
            "Рассматривается дело oб оспаривании решения и предписания антимонопольного органа.  Антимонопольный орган признал обоснованной жалобу общества на действия учреждения по отклонению заявок общества на участие в аукционах на право заключения государственных контрактов на оказание услуг по дезинсекционной обработке офисных помещений в связи с отсутствием в составе заявок лицензии на медицинскую деятельность, выдал учреждению предписание об устранении нарушений.  В удовлетворении требования частично отказано, так как доказана неправомерность допуска отдельных участников к участию в аукционах ввиду представления ими ненадлежащих лицензий, которые позволяли оказывать им услуги по адресам, не указанным в документации.\n",
            "------Generated summary------:\n",
            "заявляется требование o признании незаконным решения и предписания антимонопольного органа. оспариваемым решением обществу отказано в удовлетворении заявления о признании учреждения нарушившим п. 1 ч. 1 ст. 61. 2 закона о контрактнои системе в сфере закупок товаров,\n",
            "\n",
            "\n",
            "------Original summary------:\n",
            " Определением производство по заявлению о признании недействительным договора купли-продажи объекта недвижимости и применении последствий его недействительности прекращено, так как договор купли-продажи объекта недвижимости не является сделкой, прикрывающей сделку между первым продавцом и последним покупателем, а потому возврат имущества от конечного покупателя его первоначальному продавцу может осуществляться исключительно путем удовлетворения виндикационного иска.  Определение оставлено без изменения.\n",
            "------Generated summary------:\n",
            "рассматривается дело o признании недеиствительным договора купли - продажи объекта недвижимости, применении последствии недеиствующего сделки. обособленныи спор направлен на новое рассмотрение, поскольку судами не дана оценка доводам финансового управляющего о том, что оспар\n",
            "\n",
            "\n",
            "------Original summary------:\n",
            "Рассматривается дело o признании недействительным решения органа ФСС РФ.  В ходе проведения выездной проверки было установлено неправомерное исключение страхователем из базы для начисления страховых взносов суммы компенсационных выплат сотрудникам за неиспользованные санаторно-курортные путевки, а также медицинское обслуживание, что повлекло занижение базы, неуплату страховых взносов, с начислением пеней и штрафа.  Требование удовлетворено, поскольку страхователь как лицо, в отношении которого проводилась проверка, не имел возможности реализовать предоставленные ему законом права, так как он надлежащим образом не был уведомлен о времени и месте рассмотрения материалов проверки.\n",
            "------Generated summary------:\n",
            "заявляется требование o признании недеиствительным решения о привлечении к ответственности по ч. 1 ст. 19. 5 коап рф за занижение для начисления страховых взносов и пени. требование удовлетворено, поскольку установлено, что деиствия\n",
            "\n",
            "\n",
            "------Original summary------:\n",
            "Рассматривается дело o взыскании убытков в виде стоимости восстановительных работ.  Сетевая организация указывает на повреждение кабельной линии, которое произошло при проведении земляных работ по благоустройству дворовой территории обществом.  Требование удовлетворено, поскольку производство работ осуществлялось обществом без обязательных в таких случаях ордера или разрешения и без согласования с заинтересованными организациями и службами, в том числе с сетевой организацией. Доказан факт повреждения кабельной линии именно обществом, поскольку единственным лицом, осуществляющим работы по соответствующему адресу, являлось общество на основании муниципального контракта.\n",
            "------Generated summary------:\n",
            "заявляется требование o взыскании убытков. истец ссылается на то, что ответчик не вносил в егрн сведения об охраннои зоне линии электропередачи в связи с ненадлежащим исполнением ответчиком своих обязательств по договору. требование удовлетворено, поскольку факт\n",
            "\n",
            "\n",
            "------Original summary------:\n",
            "Рассматривается дело o взыскании неотработанного аванса по договору подряда.  Дело было направлено в городской суд для передачи в суд общей юрисдикции по подсудности, так как данный спор не относится к компетенции арбитражного суда, поскольку не соответствует основаниям, установленным ст. ст. 27 - 33 АПК РФ.\n",
            "------Generated summary------:\n",
            "заявляется требование o взыскании неотработанного аванса по договору подряда. заказчик ссылается на то, что в установленныи срок подрядчик не выполнил работы по договору. требование удовлетворено, поскольку факт выполнения подрядчиком работ по договору подтвержден, при этом\n",
            "\n",
            "\n",
            "------Original summary------:\n",
            "Рассматривается дело o признании незаконными действий по отказу от исполнения платежных поручений, об обязании выполнить распоряжение и предоставить доступ к онлайн-системе.  Банк принял решение о нецелесообразности отмены ограничения доступа клиента к системе дистанционного банковского обслуживания и отказе от договора банковского счета, при этом перечислив остаток денежных средств с расчетного счета на специальный счет Банка России.  В удовлетворении требования отказано, поскольку в результате анализа деятельности клиента и его контрагента у банка имелись основания полагать, что клиент стал участником сомнительной схемы и его деятельность направлена на отмывание (легализацию) доходов, полученных преступным путем.\n",
            "------Generated summary------:\n",
            "заявляется требование o признании незаконными деиствии по отказу от исполнения платежных поручении, обязании выполнить распоряжение истца в проведении операции по платежным поручениям. истец ссылается на то, что ответчик не исполнил обязательства по договору о расчетно - кассов\n",
            "\n",
            "\n",
            "------Original summary------:\n",
            "Рассматривается дело oб отмене судебного приказа на взыскание задолженности и пени по договору водопользования.  В удовлетворении требования отказано, поскольку документов, опровергающих заявленные требования, а также документов, подтверждающих уплату спорной задолженности, должником не представлено. Кроме того, должником не представлено доказательств направления в арбитражный суд возражений относительно обжалуемого приказа, в том числе со ссылкой на расторжение договора водопользования.\n",
            "------Generated summary------:\n",
            "заявляется требование oб отмене судебного приказа на взыскание задолженности по договору водопользования и пенеи, пени. в удовлетворении требования отказано, поскольку суды пришли к выводу о том, что спорныи договор расторгнут обществом в полном объеме, при этом\n",
            "\n",
            "\n",
            "------Original summary------:\n",
            " Определением отказано в удовлетворении жалобы кредитора на действия конкурсного управляющего, поскольку кредитором не представлены доказательства того, что конкурсный управляющий должника действовал недобросовестно или допустил бездействие, противоречащее целям конкурсного производства, а также нарушил права и законные интересы кредиторов или причинил убытки.  Определение оставлено без изменения.\n",
            "------Generated summary------:\n",
            "определением отказано в удовлетворении жалобы на бездеиствие конкурсного управляющего, выразившееся в незаключении дополнительного договора страхования ответственности арбитражного управляющего, несвоевременном опубликовании сообщении о результатах проведения собрании кредиторов должника. определение отменено. дело направлено на новое рассмотрение, поскольку\n",
            "\n",
            "\n",
            "------Original summary------:\n",
            "Рассматривается дело o взыскании процентов за пользование чужими денежными средствами.  Истец ссылается на ненадлежащее исполнение ответчиком обязательств по возврату денежных средств, полученных им по недействительной сделке.  Требование удовлетворено частично, поскольку вступившим в законную силу судебным актом признана недействительной сделка по перечислению денежных средств ответчику правопредшественником истца, при этом проценты за пользование чужими денежными средствами подлежат начислению с момента вступления указанного судебного акта в законную силу по дату фактического исполнения обязательства ответчиком.\n",
            "------Generated summary------:\n",
            "заявляется требование o взыскании процентов за пользование чужими денежными средствами. ресурсоснабжающая организация ссылается на то, что абонентом обязательства по оплате оказанных услуг не исполнены надлежащим образом. требование удовлетворено частично, поскольку факт ненадлежащего исполнения потребителем\n",
            "\n",
            "\n",
            "------Original summary------:\n",
            "Заявляется требование o признании отсутствующим обременения в виде ипотеки;  Об обязании обеспечить представление в регистрирующий орган заявления о прекращении ограничения в отношении объекта недвижимости.  Истец ссылается на то, что погашение регистрационной записи об ипотеке во внесудебном порядке не представляется возможным по причине отказа ответчика считать обязательства истца по договору выполненными.   Требование удовлетворено, поскольку установлено, что у истца отсутствует задолженность перед ответчиком по оплате приобретаемого имущества и уплате процентов за предоставление рассрочки;  В удовлетворении требования отказано, поскольку истцом избран ненадлежащий способ защиты нарушенного права.\n",
            "------Generated summary------:\n",
            "заявляется требование o признании отсутствующим обременения в виде ипотеки в отношении нежилого помещения, обязании обеспечить предоставление в управление нежилому помещения. истец ссылается на то, что в связи с неисполнением ответчиком обязательств по внесению ипот\n",
            "\n",
            "\n",
            "------Original summary------:\n",
            "Рассматривается дело o взыскании неосновательного обогащения, процентов за пользование чужими денежными средствами.  Истец ссылается на то, что у ответчика имеется обязательство по оплате фактического пользования земельным участком.  В удовлетворении требования отказано, поскольку доказательства направления уведомления о расторжении договора аренды ответчику в материалы дела истцом не представлены.\n",
            "------Generated summary------:\n",
            "заявляется требование o взыскании неосновательного обогащения. арендодатель ссылается на то, что арендатором не исполнены обязательства по внесению аренднои платы. в удовлетворении требования отказано, поскольку арендодателем пропущен срок исковои\n",
            "\n",
            "\n",
            "------Original summary------:\n",
            "Рассматривается дело o возмещении убытков.  На основании исполнительной надписи регистрирующим органом были внесены изменения в ЕГРЮЛ в части сведений об участниках общества с ограниченной ответственностью, в качестве собственника доли в уставном капитале был указан ответчик. Истец ссылается на причинение убытков в результате обращения взыскания на долю в уставном капитале общества с ограниченной ответственностью.  В удовлетворении требования отказано, поскольку материалами дела подтверждено надлежащее исполнение ответчиком (заимодавцем, залогодержателем) обязательств по реализации заложенного имущества.\n",
            "------Generated summary------:\n",
            "заявляется требование o взыскании убытков в виде разницы между стоимости оставленного ответчиком имущества и размером исполненного обязательства. истец ссылается на то, что ответчик свои обязательства по кредитному договору исполнил ненадлежащим образом. в удовлетворении требования отказано, поскольку\n",
            "\n",
            "\n",
            "------Original summary------:\n",
            "Заявляется требование o взыскании долга и пеней по договору на пользование памятником истории и культуры.  Арендодатель ссылается на ненадлежащее исполнение арендатором обязательств по внесению арендной платы.  Требование удовлетворено частично, поскольку установлен факт неисполнения арендатором обязательств по внесению арендных платежей, при этом период начисления арендной платы определен с учетом даты регистрации права собственности РФ на спорный объект недвижимости.\n",
            "------Generated summary------:\n",
            "заявляется требование o взыскании долга и пенеи по договору аренды нежилого помещения. арендодатель ссылается на ненадлежащее исполнение арендатором обязательств по внесению аренднои платы. в удовлетворении требования частично отказано, поскольку арендодателем не\n",
            "\n",
            "\n",
            "------Original summary------:\n",
            "Заявляется требование o взыскании убытков.  Покупатель ссылается на то, что в связи с поставкой поставщиком некачественного товара им были понесены убытки в размере стоимости нереализованного товара.  В удовлетворении требования отказано, так как представленные покупателем доказательства не подтверждают факт поставки товара ненадлежащего качества, а также наличия причинно-следственной связи между действиями поставщика в период исполнения договорных обязательств и возникшими у него убытками.\n",
            "------Generated summary------:\n",
            "заявляется требование o взыскании убытков. истец ссылается на то, что применение поставленного ответчиком товара в полном объеме не привело к причинению убытков в виде стоимости нереализованного товара. в удовлетворении требования отказано, поскольку истцом пропущен срок исковои\n",
            "\n",
            "\n",
            "------Original summary------:\n",
            " Определением заявление о взыскании судебных расходов на оплату услуг представителя оставлено без рассмотрения, поскольку исковое заявление подписано лицом, не имеющим права подписывать его.  Определение отменено, дело передано на новое рассмотрение, поскольку исковое заявление подано в электронном виде и подписано представителем по доверенности усиленной квалифицированной электронной подписью.\n",
            "------Generated summary------:\n",
            "определением отказано в удовлетворении заявления о взыскании судебных расходов на оплату услуг представителя. определение отменено. вопрос направлен на новое рассмотрение, поскольку судом не дана оценка доводам истца о том, что апелляционная жалоба оставлена без рассмотрения в связи с тем, что\n",
            "\n",
            "\n",
            "------Original summary------:\n",
            "Заявляется требование o взыскании задолженности по договору подряда.  Подрядчик уведомил субподрядчика об одностороннем отказе от исполнения договора в связи с просрочкой в выполнении работ. Получено встречное требование о взыскании неустойки, неотработанного аванса.  Дело направлено на новое рассмотрение, так как при новом рассмотрении дела суду необходимо проверить законность и основания отказа подрядчика от договора, в случае установления факта использования третьим лицом результата работы субподрядчика решить вопрос об их потребительской ценности для подрядчика, дать надлежащую правовую оценку имеющимся в деле доказательствам в их совокупности и взаимной связи.\n",
            "------Generated summary------:\n",
            "заявляется требование o взыскании задолженности по договору подряда, неустоики. субподрядчик ссылается на то, что субподрядчиком обязательства по оплате выполненных работ не исполнены надлежащим образом. получено встречное требование о взыскании неотработанного аванса по договору\n",
            "\n",
            "\n",
            "------Original summary------:\n",
            "Заявляется требование o взыскании долга по договору купли-продажи, пени и процентов за предоставленную рассрочку.  Истец ссылается на то, что ответчиком обязанность по своевременной уплате ежемесячных платежей в счет оплаты стоимости нежилого здания и земельного участка не исполнена.  Требование удовлетворено частично, поскольку ответчиком не представлено доказательств внесения предусмотренных договором платежей.\n",
            "------Generated summary------:\n",
            "заявляется требование o взыскании задолженности по договору купли - продажи нежилого помещения, процентов за предоставленную рассрочку. покупатель ссылается на то, что покупателем обязательства по внесению аренднои платы не исполнены надлежащим образом. требование удовлетворено, поскольку\n",
            "\n",
            "\n",
            "------Original summary------:\n",
            "Заявляется требование o взыскании долга в виде стоимости работ по разработке проектной документации и стоимости работ по ремонту фасада здания.  В связи с неисполнением обществом, являющимся собственником помещений, предписания о проведении ремонта внешних поверхностей здания ремонт был выполнен за счет средств бюджета города Москвы.  Требование удовлетворено частично, поскольку уполномоченным органом с привлечением исполнителей выполнены работы по разработке проектной документации и по ремонту фасада здания, при этом стоимость фактически выполненных работ по ремонту фасада здания определена согласно заключению судебной экспертизы.\n",
            "------Generated summary------:\n",
            "заявляется требование o взыскании задолженности по контракту на выполнение работ по разработке проектнои документации. подрядчик ссылается на то, что заказчиком обязательства по оплате выполненных работ не исполнены надлежащим образом. требование удовлетворено частично, поскольку факт выполнения подрядчиком работ по контракту подтвержден,\n",
            "\n",
            "\n",
            "------Original summary------:\n",
            "Заявляется требование o возмещении ущерба.  Учреждение ссылается на то, что проведенной проверкой в спорный период были выявлены факты завышения цены спорного контракта в связи с неправильным применением расценок, коэффициентов, расчетов, повлекшим факт излишней оплаты работ.  Дело направлено на новое рассмотрение, поскольку судом при рассмотрении настоящего дела в порядке упрощенного производства были нарушены положения статей 8, 9, 41 АПК РФ, что привело к ущемлению процессуальных прав истца по спору.\n",
            "------Generated summary------:\n",
            "определением отказано в восстановлении пропущенного срока на подачу апелляционнои жалобы. определение отменено. дело направлено на новое рассмотрение, поскольку судом не дана оценка доводам заявителя о том, что апелляционная жалоба возвращена в связи с тем, что в\n",
            "\n",
            "\n",
            "------Original summary------:\n",
            "Рассматривается дело o взыскании задолженности по государственному контракту, неустойки.  Во исполнение заключенного между сторонами государственного контракта истцом была отпущена, а абонентом потреблена электрическая энергия. Ответчиком потребленная электрическая энергия оплачена не была, в связи с этим на стороне последнего образовалась задолженность.  Требование удовлетворено, поскольку ответчиком не представлены доказательства того, что объектом электроснабжения по контракту является многоквартирный жилой дом.\n",
            "------Generated summary------:\n",
            "заявляется требование o взыскании задолженности и неустоики по договору энергоснабжения. ресурсоснабжающая организация ссылается на то, что абонентом обязательства по оплате оказанных услуг не исполнены надлежащим образом. требование удовлетворено частично, поскольку факт поставки электрическои\n",
            "\n",
            "\n",
            "------Original summary------:\n",
            "Заявляется требование oб обязании заключить дополнительное соглашение к договору аренды земельного участка.  Уполномоченный орган указывает, что он направил в адрес товарищества дополнительное соглашение о замене стороны арендодателя, от подписания которого товарищество уклонилось, что нарушает права уполномоченного органа на приведение договорных отношений в соответствие с требованиями закона и влечет причинение убытков.  В удовлетворении требования отказано, поскольку дорога, для строительства которой предоставлялся земельный участок, построена и передана на баланс органу местного самоуправления, в связи с чем у товарищества отсутствует обязанность по внесению арендной платы за такой земельный участок.\n",
            "------Generated summary------:\n",
            "заявляется требование oб обязании заключить дополнительное соглашение к договору аренды земельного участка. арендодатель ссылается на то, что арендатором не представлены доказательства, подтверждающие наличие у арендатора права собственности на земельныи участок. в удовлетворении требования отказано\n",
            "\n",
            "\n",
            "------Original summary------:\n",
            "Рассматривается дело o взыскании страхового возмещения.  Истец ссылается на переход к нему на основании договора цессии права требования с ответчика выплаты страхового возмещения.  Требование удовлетворено, поскольку установлен факт наступления страхового случая - смерти застрахованного лица, ответчиком обязанность по выплате страхового возмещения не исполнена.\n",
            "------Generated summary------:\n",
            "заявляется требование o взыскании страхового возмещения. между сторонами был заключен договор уступки прав требования по кредитному договору. истец ссылается на то, что ответчик свои обязательства по выплате страхового возмещения не исполнил. требование удовлетворено, поскольку ответчиком не представлены доказательства\n",
            "\n",
            "\n",
            "------Original summary------:\n",
            "Рассматривается дело o взыскании неустойки по государственному контракту на поставку продукции.  Заказчик ссылается на нарушение поставщиком принятых на себя обязательств по своевременной поставке товара.  Дело направлено на новое рассмотрение, поскольку судами не проверялся расчет неустойки и не определен размер неустойки, начисленной за спорный период.\n",
            "------Generated summary------:\n",
            "заявляется требование o взыскании неустоики по государственному контракту на поставку продукции. заказчик ссылается на ненадлежащее исполнение поставщиком обязательств по передаче продукции. в удовлетворении требования отказано, поскольку заказчиком не представлено доказательств, свидетельствующих о просрочке исполнения обязательств по контракту\n",
            "\n",
            "\n",
            "------Original summary------:\n",
            "Рассматривается дело o взыскании задолженности, неустойки по договору подряда.  Подрядчик ссылается на то, что заказчиком обязательства по оплате выполненных работ не исполнены надлежащим образом.  В удовлетворении требования отказано, поскольку субподрядчик не вправе передать право требования в рамках исполнения спорного договора третьему лицу без письменного согласия генподрядчика. Согласия на переуступку прав требования генподрядчик не предоставлял. Кредитор о передаче прав требования генподрядчика не уведомлял и письменное согласие не запрашивал, доказательства обратного отсутствуют.\n",
            "------Generated summary------:\n",
            "заявляется требование o взыскании задолженности по договору подряда, неустоики. подрядчик ссылается на то, что заказчиком обязательства по оплате выполненных работ не исполнены надлежащим образом. в удовлетворении требования отказано, поскольку подрядчиком не доказан факт выполнения работ по договору\n",
            "\n",
            "\n",
            "------Original summary------:\n",
            "Рассматривается дело o взыскании неосновательного обогащения.  В процессе проведения конкурсного производства было установлено, что истец на счет ответчика перечислил денежные средства, доказательств возврата денежных сумм ответчиком не представлено.  Требование удовлетворено в части, поскольку, принимая во внимание платежные поручения, из которых следует, что еще до подачи иска спорные суммы были возвращены истцу, суд пришел к выводу об изменении решения суда первой инстанции и взыскании неосновательного обогащения с ответчика в пользу истца в соответствующем размере, так как ответчик подтвердил возврат денежных средств вышеуказанными платежными поручениями, в совокупности с банковской выпиской по счету ответчика.\n",
            "------Generated summary------:\n",
            "заявляется требование o взыскании неосновательного обогащения. истец ссылается на то, что спорные платежи не были включены в реестр требовании кредиторов должника. требование удовлетворено частично, поскольку ответчиком не представлены доказательства оплаты оказанных истцом услуг, а\n",
            "\n",
            "\n",
            "------Original summary------:\n",
            "Рассматривается дело o признании недействительным договора субаренды земельного участка.  Арендодатель ссылается на несоблюдение арендатором и субарендатором существенных условий договора, а также отсутствие законного основания для передачи в субаренду земельного участка с конкретными параметрами.  В удовлетворении требования отказано, поскольку арендодателем пропущен срок исковой давности.\n",
            "------Generated summary------:\n",
            "заявляется требование o признании недеиствительным договора субаренды земельного участка. субарендатор ссылается на то, что в спорныи период субаренда земельного участка не была произведена в полном объеме. в удовлетворении требования отказано,\n",
            "\n",
            "\n",
            "------Original summary------:\n",
            "Заявляется требование o признании недействительным решения общего собрания участников ООО об утверждении годового отчета, годовой бухгалтерской отчетности.  Истец ссылается на то, что в связи с отсутствием заключения ревизионной комиссии (ревизора) общества общее собрание участников не вправе было утверждать годовой отчет и бухгалтерский баланс, если образование ревизионной комиссии или избрание ревизора предусмотрено уставом общества.  В удовлетворении требования отказано, поскольку истцом не представлены доказательства, свидетельствующие о несоответствии отчета и бухгалтерской отчетности нормам действующего законодательства, нарушении его прав и законных интересов, причинении убытков истцу.\n",
            "------Generated summary------:\n",
            "заявляется требование o признании недеиствительным решения общего собрания участников ооо и годовои бухгалтерскои отчетности. участник общества ссылается на то, что отчет об утверждении годового отчета общества не представлен в полном объеме. в удовлетворении требования отказано,\n",
            "\n",
            "\n",
            "------Original summary------:\n",
            "Заявляется требование oб отмене решения о привлечении к налоговой ответственности по п. 2 ст. 132 НК РФ за несообщение в установленный срок банком налоговому органу сведений о закрытии счета.  В удовлетворении требования отказано, поскольку доказан факт нарушения заявителем срока, установленного п. 1.1 ст. 86 НК РФ для предоставления банком информации в налоговый орган.\n",
            "------Generated summary------:\n",
            "заявляется требование o признании недеиствительным решения о привлечении к ответственности по ч. 1 ст. 15. 25 коап рф за нарушение требовании налогового органа. в удовлетворении требования отказано, поскольку установлено, что банком корректное сообщение\n",
            "\n",
            "\n",
            "------Original summary------:\n",
            "Заявляется требование o взыскании неосновательного обогащения, истребовании из незаконного владения нежилого помещения.  Государственным учреждением была проведена проверка порядка использования имущества, закрепленного за учреждением на праве оперативного управления, в ходе которой установлено, что ответчик в отсутствие правовых оснований занимает нежилое помещение.  В удовлетворении требования отказано, поскольку истцом не представлены доказательства, подтверждающие факт использования ответчиком федерального недвижимого имущества в спорный период.\n",
            "------Generated summary------:\n",
            "заявляется требование o взыскании неосновательного обогащения, истребовании из незаконного владения нежилого помещения. истец ссылается на то, что ответчиком не исполнены обязательства по внесению аренднои платы. в удовлетворении требования отказано, поскольку истцом\n",
            "\n",
            "\n",
            "------Original summary------:\n",
            " Определением заявление о признании должника несостоятельным (банкротом) оставлено без рассмотрения, так как мораторий на возбуждение дел о банкротстве по заявлениям, подаваемым кредиторами, является иным досудебным порядком, который в настоящем случае кредитором не соблюден.  Определение отменено. Заявление направлено в суд первой инстанции для рассмотрения по существу, поскольку заявление о признании должника несостоятельным было принято к производству суда до даты введения моратория.\n",
            "------Generated summary------:\n",
            "определением отказано в удовлетворении ходатаиства кредитора о признании должника несостоятельным ( банкротом ). определение отменено. обособленныи спор направлен на новое рассмотрение, поскольку судом не дана оценка доводам кредитора об отсутствии основании для оставления заявления\n",
            "\n",
            "\n",
            "------Original summary------:\n",
            "Рассматривается дело o взыскании неустойки по государственному контракту поставки.  Заказчик указал на нарушение поставщиком сроков поставки товара.  В удовлетворении требования отказано, поскольку поставщиком сумма неустойки в полном объеме выплачена заказчику в досудебном порядке.\n",
            "------Generated summary------:\n",
            "заявляется требование o взыскании неустоики по государственному контракту на изготовление и поставку тары под боеприпасы. заказчик ссылается на нарушение поставщиком сроков поставки товара. в удовлетворении требования отказано, поскольку поставщиком пропущен срок исковои давности.\n",
            "\n",
            "\n",
            "------Original summary------:\n",
            "Рассматривается дело o признании незаконным решения уполномоченного органа об отказе в оказании государственной услуги \"Предварительное согласование предоставления земельного участка\".  Отказ мотивирован тем, что объект недвижимого имущества, расположенный на испрашиваемом участке, включен в Перечень, утвержденный постановлением Правительства Москвы от 11.12.2013 N 819-ПП.  Требование удовлетворено, поскольку у уполномоченного органа отсутствовали основания для отказа предпринимателю в предоставлении государственной услуги, вступившим в законную силу решением суда уполномоченному органу было отказано в удовлетворении заявления к предпринимателю о признании постройки самовольной.\n",
            "------Generated summary------:\n",
            "заявляется требование o признании незаконным решения уполномоченного органа об отказе в оказании государственнои услуги по предварительное согласование предоставления земельного участка. оспариваемым решением предприниматель обратился в орган местного самоуправления с заявлением о предоставлении государственнои услуг в отношении земельного участка в соответствии с условиями\n",
            "\n",
            "\n",
            "------Original summary------:\n",
            "Заявляется требование o взыскании убытков, причиненных в результате повреждения вагонов.  В результате схода железнодорожного подвижного состава арендуемый истцом вагон получил повреждения.  Требование удовлетворено в части, поскольку представленные в дело документы подтверждают противоправные действия ответчика, повлекшие убытки у истца, а также размер этих убытков, несение истцом расходов по уплате арендной платы по договору аренды в рассматриваемой ситуации не может быть квалифицировано как убытки (реальный ущерб) по ст. 15 ГК РФ, которые истец произвел для восстановления своего права, нарушенного неправомерными, по его мнению, действиями ответчика.\n",
            "------Generated summary------:\n",
            "заявляется требование o взыскании убытков. истец ссылается на то, что в результате схода вагонов были причинены убытки в виде убытков. требование удовлетворено частично, поскольку ответчиком не представлены доказательства, подтверждающие факт схода вагонов в грузовом поезде, при этом\n",
            "\n",
            "\n",
            "------Original summary------:\n",
            "Заявляется требование o взыскании задолженности по договору на техническое обслуживание, пени.  Заказчик в одностороннем порядке расторг договор. Истец указывает на то, что заказчиком не была произведена оплата оказанных услуг в полном объеме.  В удовлетворении требования отказано, поскольку заказчик заявлял истцу о ненадлежащем качестве услуг, истец не представил доказательства наличия оснований для признания оказанных услуг услугами надлежащего качества и взыскания задолженности.\n",
            "------Generated summary------:\n",
            "заявляется требование o взыскании задолженности по договору на техническое обслуживание, пенеи. истец ссылается на то, что ответчик свои обязательства по оплате оказанных истцом услуг не исполнил. в удовлетворении требования отказано, поскольку истцом не доказан факт\n",
            "\n",
            "\n",
            "------Original summary------:\n",
            "Рассматривается дело o взыскании неосновательного обогащения по договору возмездного оказания услуг.  Заказчик указал на то, что услуги не были оказаны исполнителем на сумму предоплаты.  В удовлетворении требования отказано, поскольку первоначальные условия договора были изменены дополнительным соглашением к нему, обязательства по договору на оказание юридических услуг со стороны исполнителя выполнялись, услуги были оказаны и подлежат оплате, по причине чего спорная сумма является платой за оказанные услуги и не подлежит возврату заказчику, акт оказанных услуг заказчиком не подписан в отсутствие мотивированного отказа от такого подписания.\n",
            "------Generated summary------:\n",
            "заявляется требование o взыскании неосновательного обогащения. истец ссылается на то, что в отсутствие доказательств оказания услуг в рамках дополнительного соглашения ответчик не предоставил отчет об оказании услуг. в удовлетворении требования отказано, поскольку истцом не доказан факт\n",
            "\n",
            "\n",
            "------Original summary------:\n",
            "Заявляется требование o взыскании основного долга по кредитному договору, процентов, неустойки.  Кредитор ссылался на неисполнение заемщиком обязательств по возврату кредита и уплате процентов за пользование им, неисполнение поручителем обязательств по погашению задолженности заемщика.  Требования удовлетворены в части, так как кредитор в течение года со дня наступления срока исполнения обеспеченного поручительством обязательства не предъявил иска к поручителю.\n",
            "------Generated summary------:\n",
            "заявляется требование o взыскании солидарно задолженности по кредитному договору, неустоики. истец ссылается на неисполнение ответчиком обязательств по оплате оказанных истцом услуг. в удовлетворении требования частично отказано, поскольку истцом не доказан факт оказания ист\n",
            "\n",
            "\n",
            "------Original summary------:\n",
            " Определением отказано во взыскании судебных расходов на оплату услуг представителя.  Определение отменено. Дело направлено на новое рассмотрение, поскольку судом не исследован вопрос о том, является ли заявленная сумма расходов подтвержденной, обоснованной и разумной.\n",
            "------Generated summary------:\n",
            "определением прекращено производство по заявлению о взыскании судебных расходов, связанных с участием представителя заявителя. определение отменено. дело направлено на новое рассмотрение, поскольку судом не дана оценка доводам заявителя о том, что при первичном обращении в суд с заявлением\n",
            "\n",
            "\n",
            "------Original summary------:\n",
            "Рассматривается дело o взыскании пени и штрафа по контракту на выполнение работ для государственных нужд.  Ввиду нарушения подрядчиком сроков выполнения работ по отдельным этапам графика производства работ заказчиком было принято решение об одностороннем отказе от исполнения контракта. Получено встречное требование о снижении размера начисленных пени и штрафа.  Первоначальный иск удовлетворен в части, в удовлетворении встречного иска отказано, поскольку факт нарушения подрядчиком срока выполнения работ доказан. Подрядчик об обстоятельствах, препятствующих выполнению работ по контракту, заказчику не сообщал, работы в соответствии с положениями п. 1 ст. 716 ГК РФ не приостанавливал.\n",
            "------Generated summary------:\n",
            "заявляется требование o взыскании неустоики по государственному контракту на выполнение остатков подрядных работ, штрафа. заказчик ссылается на то, что работы были выполнены подрядчиком в полном объеме. получено встречное требование о взыскании пени. основное требование удовлетворено частично,\n",
            "\n",
            "\n",
            "------Original summary------:\n",
            "Рассматривается дело o взыскании долга по договору возмездного оказания юридических услуг по защите прав на имущество (землю) и иные правовые вопросы сопровождения деятельности фирмы.  Исполнитель ссылается на то, что поручителем не произведена выплата вознаграждения.  Дело направлено на новое рассмотрение, поскольку судами не определено, имеются ли основания для оплаты оказанных услуг, а также не установлено, соответствует ли представленный исполнителем расчет соответствующему курсу валюты и какие данные использованы исполнителем при расчете вознаграждения.\n",
            "------Generated summary------:\n",
            "заявляется требование o взыскании задолженности по договору возмездного оказания юридических услуг. истец ссылается на то, что ответчиком обязательства по оплате оказанных истцом услуг не исполнены надлежащим образом. требование удовлетворено частично, поскольку ответчиком не представлены доказательства оплаты оказ\n",
            "\n",
            "\n",
            "------Original summary------:\n",
            "Рассматривается дело o взыскании неосновательного обогащения.  Истец ссылается на то, что по личной просьбе ответчика он произвел за него платежи за обслуживание принадлежащего ответчику на праве собственности нежилого помещения.  В удовлетворении требования отказано, поскольку внесение соответствующих денежных средств являлось прямой договорной обязанностью истца по оплате коммунальных и эксплуатационных счетов.\n",
            "------Generated summary------:\n",
            "заявляется требование o взыскании неосновательного обогащения. истец ссылается на то, что ответчик оплату оказанных услуг не произвел. в удовлетворении требования отказано, поскольку истцом пропущен срок исковои давности.\n",
            "\n",
            "\n",
            "------Original summary------:\n",
            "Заявляется требование o взыскании долга и неустойки по контракту на поставку тепловой энергии.  Истец ссылается на ненадлежащее исполнение ответчиком обязательств по оплате полученного коммунального ресурса.  Дело направлено на новое рассмотрение, так как довод ответчика о том, что плата за отопление на общедомовые нужды должна быть включена в состав платы за отопление, не был надлежащим образом изучен судами, суды не дали оценки доводам ответчика о том, что поставка тепловой энергии на общедомовые нужды может быть осуществлена только в целях горячего водоснабжения мест общего пользования, фактически уклонились от проверки расчетов задолженности, не дали оценки доводам ответчика об отсутствии утвержденных нормативов.\n",
            "------Generated summary------:\n",
            "заявляется требование o взыскании задолженности по договору теплоснабжения, неустоики. истец ссылается на ненадлежащее исполнение ответчиком обязательств по оплате поставленнои тепловои энергии. дело направлено на новое рассмотрение, поскольку судом не дана оценка доводам ответчика о\n",
            "\n",
            "\n",
            "------Original summary------:\n",
            "Рассматривается дело oб оспаривании решения органа местного самоуправления, об обязании предоставить земельный участок в аренду.  Оспариваемым решением обществу отказано в предоставлении в аренду без проведения торгов земельного участка.  Требование удовлетворено, поскольку установлено, что спорный земельный участок используется обществом для размещения базовой станции радиотелефонной связи, принадлежащие обществу объекты не относятся к объектам, размещение которых может осуществляться на землях или земельных участках, находящихся в государственной или муниципальной собственности, без предоставления земельных участков и установления сервитутов.\n",
            "------Generated summary------:\n",
            "заявляется требование oб оспаривании решения органа местного самоуправления, обязании предоставить в аренду без проведения торгов земельныи участок. оспариваемым решением заявителю отказано в предоставлении в аренду земельного участка. требование удовлетворено, поскольку спорныи земельны\n",
            "\n",
            "\n",
            "------Original summary------:\n",
            "Рассматривается дело o взыскании денежных средств.  Банком списана комиссия за зачисление денежных средств на расчетный счет клиента.  В удовлетворении требования отказано, поскольку банк вправе взимать с клиента комиссионное вознаграждение за совершение банковских операций, в том числе за зачисление денежных средств на счет в сумме сверх определенного лимита, с учетом того, что размер такой платы был согласован в заключенном между ними соглашении.\n",
            "------Generated summary------:\n",
            "заявляется требование o взыскании денежных средств по договору о расчетно - кассовом обслуживании. клиент ссылается на то, что на основании договора о расчетном счету клиента поступили денежные средства. в удовлетворении требования отказано, поскольку банком не доказан факт оказания\n",
            "\n",
            "\n",
            "------Original summary------:\n",
            "Рассматривается дело o взыскании задолженности и неустойки по договору подряда.  Подрядчик указывает на то, что заказчик обязательства по оплате принятых работ выполнил не в полном объеме.  Требование удовлетворено, поскольку основанием для оплаты выполненных работ по договору являются акты о приемке выполненных работ и справки о стоимости выполненных работ и затрат. При этом передача исполнительной документации предусмотрена в момент сдачи результата работ и по условиям договора не сопровождается оформлением какого-либо отдельного документа, подтверждающего такую передачу. Таким образом, в момент сдачи работ заказчику были переданы все необходимые сопроводительные документы, в том числе исполнительная документация.\n",
            "------Generated summary------:\n",
            "заявляется требование o взыскании задолженности и неустоики по договору подряда. подрядчик ссылается на то, что заказчиком обязательства по оплате выполненных работ не исполнены надлежащим образом. требование удовлетворено, поскольку факт выполнения подрядчиком работ по договору подтвержден, доказательств оплаты работ\n",
            "\n",
            "\n",
            "------Original summary------:\n",
            "Заявляется требование o признании незаконным отказа уполномоченного органа в заключении нового договора аренды земельного участка без проведения торгов, обязании заключить договор.  Отказ мотивирован первоначальным предоставлением спорного земельного участка в аренду на торгах и несоответствием вида разрешенного использования данного земельного участка классификатору видов разрешенного использования земельных участков.  Требование удовлетворено, поскольку общество как собственник объекта незавершенного строительства имело право на заключение договора аренды без проведения торгов для завершения начатого строительства, ввода объекта в эксплуатацию и последующей государственной регистрации прав на него.\n",
            "------Generated summary------:\n",
            "заявляется требование o признании незаконным отказа в предоставлении в аренду земельного участка, обязании заключить договор аренды земельного участка. уполномоченныи орган отказал обществу в предоставлении земельного участка в аренду без проведения торгов. требование удовлетворено, поскольку обществом не представлено доказательств,\n",
            "\n",
            "\n",
            "------Original summary------:\n",
            "Рассматривается дело o признании недействительным одностороннего отказа от исполнения договора подряда.  Заказчик принял решение об одностороннем отказе от исполнения договора ввиду нарушения подрядчиком сроков выполнения работ. Подрядчик ссылается на то, что нарушение сроков выполнения работ произошло по вине заказчика ввиду многократной корректировки результата работ по причине отсутствия в первоначальном техническом задании реальных объемов работ.  В удовлетворении требования отказано, так как работы в полном объеме подрядчиком не выполнены, доказательств выполнения работ в сроки, предусмотренные графиком производства работ, ежемесячного представления заказчику актов о приемке выполненных работ им не представлено.\n",
            "------Generated summary------:\n",
            "заявляется требование o признании недеиствительнои сделкои одностороннего отказа от исполнения договора на капитальныи ремонт объекта. заказчик ссылается на то, что в связи с ненадлежащим исполнением подрядчиком своих обязательств по договору заказчик принял решение о\n",
            "\n",
            "\n",
            "------Original summary------:\n",
            "Рассматривается дело o включении в реестр требований кредиторов должника.  Заявитель указал, что, став новым арендатором помещений, в которых находилось спортивное оборудование должника, он понес расходы на аренду, хранение и перевозку оборудования.  В удовлетворении требования отказано, поскольку установлено, что заявитель намеренно лишал себя возможности полноценно пользоваться принятым в аренду имуществом, тем самым умышленно создавая искусственную задолженность должника. Доказательств направления требования о замене предоставленного в аренду имущества другим аналогичным имуществом, находящимся в надлежащем состоянии, не представлено.\n",
            "------Generated summary------:\n",
            "заявляется требование o включении в реестр требовании кредиторов должника задолженности по договору заима. в удовлетворении требования отказано, поскольку заявителем не представлены доказательства, подтверждающие наличие у должника задолженности в заявленном размере.\n",
            "\n",
            "\n",
            "------Original summary------:\n",
            "Заявляется требование o признании незаконными действий уполномоченного органа.  На сайте в сети Интернет в разделе \"договор управления\" содержится вкладка \"реестр собственников, подписавших договор\", предусмотренная для обязательной загрузки файла при подаче заявления лицензиата о внесении изменений в реестр лицензий субъекта РФ.  В удовлетворении требования отказано, поскольку признание незаконными оспариваемых действий не повлечет восстановление каких-либо прав общества ввиду отсутствия их нарушения.\n",
            "------Generated summary------:\n",
            "заявляется требование o признании незаконными деиствии уполномоченного органа по размещению в государственнои информационнои системе реестр собственников, подписавших договор. истец ссылается на то, что ответчик не направил в адрес ответчика заявку на размещение в информационнои системы жилищно - коммунального\n",
            "\n",
            "\n",
            "------Original summary------:\n",
            "Заявляется требование o взыскании задолженности по договору подряда, процентов за пользование чужими денежными средствами.  Заказчиком не исполнены обязательства по оплате выполненных подрядчиком работ, в результате чего образовалась задолженность. Получено встречное требование о признании договора подряда недействительным.   Основное требование удовлетворено, поскольку заказчиком не представлены доказательства уплаты задолженности;  В удовлетворении встречного требования отказано, поскольку фактические действия по исполнению договора до момента получения уведомления о его расторжении подрядчиком совершены.\n",
            "------Generated summary------:\n",
            "заявляется требование o взыскании задолженности по договору подряда, процентов за пользование чужими денежными средствами. истец ссылается на то, что ответчик свои обязательства по договору исполнил ненадлежащим образом. получено встречное требование о признании договора недеиствительным\n",
            "\n",
            "\n",
            "------Original summary------:\n",
            "Рассматривается дело o взыскании неустойки за сверхнормативный простой вагонов.  По мнению заказчика, в нарушение условий договора на оказание услуг по перевалке и перевозке нерудных материалов со станции выгрузки вагоны отправлены исполнителем с нарушением нормативного времени использования. Получено встречное требование о взыскании неполученного дохода.   Основное требование удовлетворено, так как доказано, что исполнитель допустил сверхнормативный простой вагонов, расчет неустойки произведен заказчиком верно, оснований для ее снижения не установлено;  В удовлетворении встречного требования отказано, так как исполнитель не доказал наличие вины заказчика, причинно-следственной связи между действиями заказчика и убытками.\n",
            "------Generated summary------:\n",
            "заявляется требование o взыскании неустоики за сверхнормативныи простои вагонов. истец ссылается на то, что в нарушение условии договора ответчик начислил неустоику. получено встречное требование о взыскании неполучен\n",
            "\n",
            "\n",
            "------Original summary------:\n",
            "Заявляется требование o взыскании долга и неустойки по договору подряда.  Заказчик направил подрядчику претензию, в которой указал, что оборудование поставлено и смонтировано не было, и потребовал исключить из акта о приемке выполненных работ стоимость поставки и монтажа оборудования, а также осуществить поставку оборудования и его сдачу в составе выполненных работ.  Требование удовлетворено частично, так как доказан факт ненадлежащего исполнения заказчиком обязательств по оплате выполненных подрядчиком работ, при этом подрядчик не представил ни договор поставки оборудования, ни товарную накладную о его получении, ни платежный документ об оплате его стоимости, пусконаладочные работы подрядчиком не выполнялись.\n",
            "------Generated summary------:\n",
            "заявляется требование o взыскании долга и неустоики по договору подряда. заказчик ссылается на то, что заказчиком обязательства по оплате поставленного товара не исполнены надлежащим образом. требование удовлетворено частично, поскольку доказан факт ненадлежащего исполнения подрядчиком принятых на себя\n",
            "\n",
            "\n",
            "------Original summary------:\n",
            "Заявляется требование o взыскании страхового возмещения.  Страхователь ссылается на то, что страховщик не осуществил выплату страхового возмещения в установленный срок.  Дело направлено на новое рассмотрение, поскольку судом не дана оценка доводу страховщика о том, что на момент заключения договора страхования страхователь знал, что шоу не будет проведено ввиду банкротства его контрагента.\n",
            "------Generated summary------:\n",
            "заявляется требование o взыскании страхового возмещения, процентов за пользование чужими денежными средствами. истец ссылается на то, что ответчик не произвел выплату страхового возмещения. требование удовлетворено, поскольку факт наступления страхового случая подтвержден, размер страхового возмещения подтвержден, при этом\n",
            "\n",
            "\n",
            "------Original summary------:\n",
            " Определением отказано в удовлетворении ходатайства о передаче дела о взыскании задолженности, неустойки на рассмотрение суда общей юрисдикции, так как дело подлежит рассмотрению в арбитражном суде, поскольку на момент подачи иска ответчик обладал статусом индивидуального предпринимателя.  Определение оставлено без изменения.\n",
            "------Generated summary------:\n",
            "определением отказано в удовлетворении ходатаиства о взыскании задолженности и неустоики по договору аренды нежилого помещения, почтовых расходов на оплату услуг. определение отменено. дело направлено на новое рассмотрение, поскольку судом не дана оценка доводам общества о том\n",
            "\n",
            "\n",
            "------Original summary------:\n",
            "Заявляется требование o взыскании убытков, причиненных ненадлежащим исполнением договора о развитии застроенной территории.  Уполномоченный орган указывает, что обществом не исполнено обязательство по передаче в полном объеме жилой площади квартир.  В удовлетворении требования отказано, поскольку пропущен срок исковой давности. С даты подписания акта о результатах частичной реализации инвестиционного проекта уполномоченный орган должен был узнать о нарушенном праве, поскольку были переданы не все согласованные объемы площадей, после подписания актов у него имелась возможность требовать передачи остальной части помещений.\n",
            "------Generated summary------:\n",
            "заявляется требование o взыскании убытков по договору о развитии застроеннои территории. уполномоченныи орган ссылается на то, что по результатам открытого аукциона в адрес ответчика образовалась задолженность по договору. в удовлетворении требования отказано, поскольку истцом пропущен срок\n",
            "\n",
            "\n",
            "------Original summary------:\n",
            "Заявляется требование o взыскании убытков в порядке регресса.  Страховщик указывает на то, что в связи с повреждением автомобиля выплатил страховое возмещение. При этом страхователь (причинитель вреда) не направил ему экземпляр заполненного совместно с потерпевшим бланка извещения о ДТП в течение пяти рабочих дней со дня ДТП.  В удовлетворении требования отказано, так как страховщиком не доказано нарушение интересов со стороны виновника происшествия непредставлением своего бланка извещения о ДТП, так как имеющихся у страховщика документов, представленных потерпевшей стороной, оказалось достаточно для принятия решения о возмещении страховой выплаты, произведенной страховщиком своему страхователю (потерпевшему).\n",
            "------Generated summary------:\n",
            "заявляется требование o взыскании убытков в порядке регресса. страховщик ссылается на то, что страхователь не направил ему экземпляр заполненного совместно с потерпевшим бланка извещения о дтп в течение пяти рабочих днеи со дня дт\n",
            "\n",
            "\n",
            "------Original summary------:\n",
            "Заявляется требование o признании недействительной сделкой договора дарения квартиры.  В удовлетворении требования отказано, так как не доказано, что в период переоформления права собственности на спорную квартиру должник действовал с противоправной целью, в обход закона, с целью вывода имущества во избежание обращения на него взыскания.\n",
            "------Generated summary------:\n",
            "заявляется требование o признании недеиствительнои сделкои договора дарения квартиры. в удовлетворении требования отказано, поскольку в результате совершения оспариваемои сделки должник был лишен возможности получить право требования к должнику в размере, превышающем\n",
            "\n",
            "\n",
            "------Original summary------:\n",
            "Рассматривается дело o взыскании убытков по договору подряда на выполнение работ по капитальному ремонту сетей водоотведения.  Истец ссылается на то, что у ответчика имеется задолженность по возмещению убытков, причиненных ненадлежащим выполнением обязательств.  В удовлетворении требования отказано, поскольку из представленных доказательств невозможно достоверно установить, в результате нарушения каким из подрядчиков либо самим истцом договорных обязательств заказчик предъявил истцу требование об уплате неустойки.\n",
            "------Generated summary------:\n",
            "заявляется требование o взыскании задолженности по договору подряда, неустоики. подрядчик ссылается на то, что заказчиком обязательства по оплате выполненных работ не исполнены надлежащим образом. получено встречное требование о взыскании убытков. в удовлетворении основного требования отказано, поскольку\n",
            "\n",
            "\n",
            "------Original summary------:\n",
            "Рассматривается дело o включении в реестр требований кредиторов должника убытков, неустойки.  Требование удовлетворено, поскольку данное требование основано на договорах участия в долевом строительстве многоквартирного дома, при этом размер и наличие задолженности подтверждены вступившими в законную силу судебными актами.\n",
            "------Generated summary------:\n",
            "заявляется требование o включении требовании в реестр требовании кредиторов должника. в удовлетворении требования отказано, поскольку конкурсным управляющим не представлены доказательства, подтверждающие наличие у должника задолженности в заявленном размере.\n",
            "\n",
            "\n",
            "------Original summary------:\n",
            "Заявляется требование oб оспаривании предписания уполномоченного органа.  Уполномоченным органом был выявлен факт самовольного использования лесного участка под размещение рекламной конструкции, собственником которой является общество, в связи с чем ему было предписано убрать бетонное основание и произвести рекультивацию лесного участка.  Дело направлено на новое рассмотрение, поскольку вывод судов о том, что общество не является лицом, эксплуатирующим спорную рекламную конструкцию, противоречит фактическим обстоятельствам дела, поскольку факт использования рекламной конструкции обществом подтверждается договорами, в соответствии с которыми часть конструкции, за исключением бетонного основания, была демонтирована.\n",
            "------Generated summary------:\n",
            "заявляется требование o признании недеиствительным предписания уполномоченного органа. оспариваемым предписанием на общество выдано предписание об устранении самовольного использования лесного участка под размещение рекламнои конструкции. требование удовлетворено, поскольку установлено, что общество смонтировало рекламную конструкцию\n",
            "\n",
            "\n",
            "------Original summary------:\n",
            "Заявляется требование o взыскании неустойки по договору аренды лесного участка.  Поскольку в период действия договора аренды ответчик в предусмотренный срок не представил проект освоения лесов, истец направил в адрес ответчика уведомление о нарушении условий договора аренды, содержащее требование об уплате неустойки. Требование осталось без удовлетворения.  В удовлетворении требования отказано, поскольку установлено, что отсутствие проекта освоения лесов в данном конкретном случае не повлекло возникновения у истца негативных последствий, ранее неустойка по данному договору аренды за нарушение сроков разработки проекта освоения лесов уже взыскивалась, договор аренды на данный момент расторгнут.\n",
            "------Generated summary------:\n",
            "заявляется требование o взыскании неустоики по договору аренды лесного участка. арендодатель ссылается на то, что арендатором не исполнены обязательства по внесению аренднои платы. в удовлетворении требования отказано, поскольку арендатором пропущен срок исков\n",
            "\n",
            "\n",
            "------Original summary------:\n",
            "Рассматривается дело o признании недействительным одностороннего отказа от исполнения контракта и взыскании денежных средств.  Ответчик сообщил истцу, что замечания, послужившие основаниями для принятия решения об одностороннем отказе от исполнения контракта не были устранены, а поэтому оснований для оплаты денежных подрядчику отсутствуют. Антимонопольным органом истец был включен в реестр недобросовестных поставщиков.  В удовлетворении требования отказано, поскольку истец не доказал как надлежащее исполнение обязательств по контракту, так и неправомерность одностороннего отказа заказчика от контракта.\n",
            "------Generated summary------:\n",
            "заявляется требование o признании недеиствительным одностороннего отказа от исполнения контракта и взыскании задолженности по договору подряда. заказчик ссылается на то, что в связи с ненадлежащим исполнением подрядчиком своих обязательств по контракту заказчик принял решение об одностороннем отказе от исполнения\n",
            "\n",
            "\n",
            "------Original summary------:\n",
            "Заявляется требование o признании недействительным трудового договора и применении последствий недействительности сделки в виде признания отсутствующей задолженности по заработной плате.  Обособленный спор направлен на новое рассмотрение, поскольку суды не проанализировали установленные судом общей юрисдикции обстоятельства и не указали мотивов, по которым пришли к выводу, что решением суда общей юрисдикции подтверждено отсутствие работника на рабочем месте в период действия трудового договора.\n",
            "------Generated summary------:\n",
            "заявляется требование o признании недеиствительнои сделкои трудового договора, применении последствии недевительности сделки. обособленныи спор направлен на новое рассмотрение, поскольку судами не дана оценка доводам конкурсного управляющего о том, что\n",
            "\n",
            "\n",
            "------Original summary------:\n",
            "Заявляется требование o взыскании долга по договору теплоснабжения и неустойки.  Теплоснабжающая организация ссылается на то, что в нарушение условий договора абонент обязательства по оплате потребленной тепловой энергии не исполнил.  Требование удовлетворено частично, поскольку абонентом нарушен срок оплаты энергии.\n",
            "------Generated summary------:\n",
            "заявляется требование o взыскании задолженности по договору теплоснабжения, неустоики. ресурсоснабжающая организация ссылается на то, что абонентом обязательства по оплате потребленнои тепловои энергии не исполнены надлежащим образом. требование удовлетворено частично, поскольку установлен факт\n",
            "\n",
            "\n",
            "------Original summary------:\n",
            "Заявляется требование o расторжении договора лизинга, об изъятии предмета лизинга.  Лизингодатель ссылается на неисполнение лизингополучателем обязанности по внесению лизинговых платежей.  Требование удовлетворено, так как установлено, что лизингополучатель допустил существенное нарушение условий договора лизинга, погашение лизингополучателем задолженности не исключает право предъявления лизингодателем требования о расторжении договора лизинга и возврате предмета лизинга.\n",
            "------Generated summary------:\n",
            "заявляется требование o расторжении договора лизинга и изъятии предмета лизинга. лизингодатель ссылается на то, что лизингодателем не исполнены обязательства по уплате лизинговых платежеи. требование удовлетворено, поскольку лизингополучателем не доказан факт\n",
            "\n",
            "\n",
            "------Original summary------:\n",
            "Заявляется требование oб отмене постановления о привлечении к ответственности по ч. 1 ст. 9.4 КоАП РФ за нарушение требований технических регламентов, проектной документации, обязательных требований документов в области стандартизации или требований специальных технических условий, по ч. 1 ст. 9.5 КоАП РФ за строительство, реконструкцию объектов капитального строительства без разрешения на строительство.  В удовлетворении требования отказано, поскольку в ходе проведения выездной проверки выявлены нарушения требований технических регламентов, проектной документации, обязательных требований специальных технических условий при строительстве.\n",
            "------Generated summary------:\n",
            "заявляется требование oб отмене постановления о привлечении к ответственности по ч. 1 ст. 19. 5 коап рф за нарушение требовании технических регламентов, проектнои документации при строительстве, реконструкции, реконструкции объектов капитального строительства. в удовлетворении\n",
            "\n",
            "\n",
            "------Original summary------:\n",
            "Заявляется требование o взыскании задолженности по договору хранения, неустойки.  Хранитель ссылается на то, что он осуществил хранение имущества поклажедателя, однако последний оплату за оказанные услуги произвел лишь частично.  В удовлетворении требования частично отказано, поскольку хранителем не представлено доказательств, подтверждающих факт оказания услуг на заявленную им сумму, кроме того, установлено, что поклажедателем произведена частичная оплата оказанных услуг.\n",
            "------Generated summary------:\n",
            "заявляется требование o взыскании долга и неустоики по договору хранения. поклажедатель ссылается на то, что заказчиком обязательства по оплате оказанных услуг не исполнены надлежащим образом. требование удовлетворено частично, поскольку доказан факт оказания услуг по хранению\n",
            "\n",
            "\n",
            "------Original summary------:\n",
            "Заявляется требование o взыскании задолженности по банковской гарантии.  Бенефициар указывает на то, что гарант отказал ему в выплате денежной суммы по спорной банковской гарантии со ссылкой на отсутствие печати на требовании об уплате денежной суммы по гарантии.  Требование удовлетворено, поскольку требование об осуществлении выплаты по банковской гарантии было предъявлено в пределах срока действия спорной банковской гарантии, а форма и содержание требования соответствовали условиям банковской гарантии и необходимые документы также были приложены, на требовании бенефициара соответствующая печать имелась.\n",
            "------Generated summary------:\n",
            "заявляется требование o взыскании задолженности по банковскои гарантии. бенефициар ссылается на то, что в обеспечение исполнения обязательств бенефициаром не исполнены обязательства по выплате гарантии. требование удовлетворено, поскольку гарантом не представлены доказательства, подтверждающие наличие у гаранта\n",
            "\n",
            "\n",
            "------Original summary------:\n",
            "Заявляется требование o взыскании неосновательного обогащения.  Истец ссылается на то, что денежные средства перечислены по недействительному счету, так как они были перечислены по истечении трехдневного срока, установленного в счете на акцепт оферты.  Требование удовлетворено, поскольку перечисление истцом денежных средств по истечении срока на акцепт в отсутствие заявления ответчика о принятии акцепта истца, полученного с опозданием, фактически является отзывом оферты.\n",
            "------Generated summary------:\n",
            "заявляется требование o взыскании неосновательного обогащения, процентов за пользование чужими денежными средствами. истец ссылается на то, что ответчик свои обязательства по оплате оказанных истцом услуг не исполнил. требование удовлетворено, поскольку ответчиком не представлены\n",
            "\n",
            "\n",
            "------Original summary------:\n",
            "Заявляется требование o взыскании задолженности по договору поставки.  Поставщик ссылается на частичную оплату покупателем поставленного товара.  Требование удовлетворено, так как факт поставки товара подтвержден, доказательств оплаты товара в полном объеме не представлено.\n",
            "------Generated summary------:\n",
            "заявляется требование o взыскании задолженности по договору поставки. поставщик ссылается на то, что поставщиком обязательства по оплате поставленного товара не исполнены надлежащим образом. требование удовлетворено, поскольку факт поставки товара подтвержден, доказательств оплаты поставленного товара покупателем не представлено.\n",
            "\n",
            "\n",
            "------Original summary------:\n",
            "Заявляется требование o признании незаконным решения регистрирующего органа об отказе в государственной регистрации дополнительного соглашения к договору аренды земельного участка.  Отказ мотивирован нарушением запрета на предоставление в аренду без проведения торгов земельных участков для целей строительства.  Требование удовлетворено, поскольку цель предоставления земельного участка, предусмотренная спорным дополнительным соглашением, не может определять способ его предоставления.\n",
            "------Generated summary------:\n",
            "заявляется требование o признании незаконным решения росреестра. оспариваемым решением общество является арендатором земельного участка в целях эксплуатации производственных и инои экономическои деятельности. требование удовлетворено, поскольку установлено, что обществом не представлено доказательств, подтверждающих, что\n",
            "\n",
            "\n",
            "------Original summary------:\n",
            "Заявляется требование o взыскании неосновательного обогащения, процентов.  Общество обратилось в банк с заявлением о закрытии расчетного счета и перечислении остатка денежных средств на расчетный счет в другом банке; при закрытии счета и перечислении денежных средств банк необоснованно удержал комиссию.  Требования удовлетворены, поскольку суды учли, что банком обязательства по договору выполнены ненадлежащим образом, остаток денежных средств возвращен обществу не в полном размере, что является нарушением со стороны банка, и признали, что удержанные банком денежные средства в заявленном размере являются неосновательным обогащением банка и подлежат возврату обществу.\n",
            "------Generated summary------:\n",
            "заявляется требование o взыскании неосновательного обогащения, процентов за пользование денежными средствами. банк ссылается на то, что при закрытии счета и перечислении остатка денежных средств ответчик удержал комиссию. требование удовлетворено, поскольку ответчиком не представлены доказательства,\n",
            "\n",
            "\n",
            "------Original summary------:\n",
            "Рассматривается дело o признании должника несостоятельным (банкротом), открытии конкурсного производства, включении в реестр требований кредиторов должника.  Требование удовлетворено, поскольку кредиторская задолженность просрочена должником свыше трех месяцев и превышает триста тысяч рублей, ее наличие подтверждено вступившим в законную силу судебным актом.\n",
            "------Generated summary------:\n",
            "заявляется требование o признании должника несостоятельным ( банкротом ), включении в реестр требовании кредиторов должника задолженности по договору заима. требование удовлетворено, поскольку кредитором не представлены доказательства, подтверждающие наличие у должника задолженности в заявленном размере.\n",
            "\n",
            "\n",
            "------Original summary------:\n",
            "Заявляется требование o взыскании неустойки по государственному контракту на выполнение работ.  Заказчик указал на нарушение подрядчиком сроков выполнения работ.  Требование удовлетворено частично, поскольку факт просрочки выполнения работ подтвержден, при этом заказчиком неверно произведен расчет неустойки.\n",
            "------Generated summary------:\n",
            "заявляется требование o взыскании неустоики по государственному контракту на выполнение работ для государственных нужд. заказчик ссылается на то, что в установленныи срок обязательства по контракту головным исполнителем не выполнены. требование удовлетворено частично, поскольку установлен факт просрочки выполнения\n",
            "\n",
            "\n",
            "------Original summary------:\n",
            "Заявляется требование o взыскании задолженности по договору на предоставление коммунальных услуг, вывоз мусора и долевое участие в содержании общего имущества многоквартирного дома.  Истец ссылается на то, что ответчик оплату оказанных ему услуг не произвел.  Требование удовлетворено, поскольку истец обязанности по договору выполнил в полном объеме, что подтверждено документально, каких-либо претензий относительно оказанных истцом услуг ответчиком заявлено не было, доказательства уплаты задолженности по договору ответчиком не представлены.\n",
            "------Generated summary------:\n",
            "заявляется требование o взыскании задолженности за оказанные услуги, неустоики. сторонами был заключен договор на предоставление коммунальных услуг, вывоз мусора и долевого участия в содержании общего имущества мкд. ответчиком не исполнены обязательства по оплате оказанных\n",
            "\n",
            "\n",
            "------Original summary------:\n",
            " Определением в удовлетворении заявления о замене стороны правопреемником отказано, так как передача векселя в залог не переносит право собственности на нового векселедержателя, и сама по себе не может оцениваться как исполнение обязательства по возврату кредита, в том числе и с учетом факта обращения взыскания на заложенный вексель.  Определение оставлено без изменения.\n",
            "------Generated summary------:\n",
            "определением отказано в удовлетворении заявления о процессуальнои замене кредитора в реестре требовании кредиторов должника на его правопреемника. определение отменено. обособленныи спор направлен на новое рассмотрение, поскольку судами не дана оценка доводам кредитора о том,\n",
            "\n",
            "\n",
            "------Original summary------:\n",
            "Рассматривается дело o взыскании компенсационной выплаты.  Автомобиль, приобретенный третьим лицом по договору лизинга, был поврежден в результате ДТП. Гражданская ответственность виновника ДТП была застрахована страховщиком, признанным банкротом, в связи с чем третье лицо обратилось в РСА с заявлением об осуществлении компенсационной выплаты. РСА осуществил компенсационную выплату частично. На основании соглашения об уступке права третье лицо передало истцу право требования возмещения ущерба, причиненного в результате вышеуказанного ДТП.  В удовлетворении требования отказано, поскольку истцом не доказан факт перехода к нему прав выгодоприобретателя на основании соглашения об уступке права требования.\n",
            "------Generated summary------:\n",
            "заявляется требование o взыскании компенсационнои выплаты по соглашению об уступке права требования. истец ссылается на неисполнение ответчиком обязательств по выплате вознаграждения. в удовлетворении требования отказано, поскольку истцом пропущен срок исковои давности.\n",
            "\n",
            "\n",
            "------Original summary------:\n",
            "Рассматривается дело o взыскании задолженности по банковской гарантии.  В связи с ненадлежащим исполнением третьим лицом обязательств по кредитному договору истец направил ответчику требование об уплате денежных средств по банковской гарантии.  Требование удовлетворено, поскольку оснований для отказа в выплате денежных средств по банковской гарантии у ответчика не имелось.\n",
            "------Generated summary------:\n",
            "заявляется требование o взыскании задолженности по банковскои гарантии. бенефициар ссылается на неисполнение гарантом обязательств по погашению задолженности по кредитному договору. требование удовлетворено, поскольку гарантом не представлено доказательств, свидетельствующих о том, что заемщик\n",
            "\n",
            "\n",
            "------Original summary------:\n",
            "Рассматривается дело oб изменении договора долгосрочной аренды земельного участка с множественностью лиц на стороне арендатора;  Об обязании изменить вид разрешенного использования участка.  Арендатор ссылается на то, что фактическое использование земельного участка не соответствует целям предоставления участка.   Требование удовлетворено частично, поскольку изменение действующего и исполняемого сторонами договора аренды направлено на приведение цели предоставления участка в соответствие с фактическим использованием в пределах установленных видов разрешенного использования;  В удовлетворении требования отказано, так как арендатором избран ненадлежащий способ защиты нарушенного права.\n",
            "------Generated summary------:\n",
            "заявляется требование oб изменении договора долгосрочнои аренды земельного участка, об обязании изменить вид разрешенного использования земельного участка. арендодатель ссылается на то, что арендодателем в установленныи договором срок был заключен договор долгоср\n",
            "\n",
            "\n",
            "------Original summary------:\n",
            "Заявляется требование o взыскании неосновательного обогащения.  Лизингополучатель ссылается на отсутствие оснований для удержания лизингодателем денежных средств, уплаченных в счет погашения выкупной цены предметов лизинга в составе лизинговых платежей, в связи с расторжением договора лизинга.  В удовлетворении требования отказано, поскольку лизингополучателем не доказано, что лизингодатель при определении цены реализации предмета лизинга действовал недобросовестно и неразумно, занизив стоимость предмета лизинга, при этом установлено отсутствие на стороне лизингодателя неосновательного обогащения.\n",
            "------Generated summary------:\n",
            "заявляется требование o взыскании неосновательного обогащения. лизингодатель ссылается на то, что лизингополучатель при расчете сальдо взаимных обязательств по договору лизинга приобрел у лизингодателя транспортное средство. в удовлетворении требования отказано, поскольку\n",
            "\n",
            "\n",
            "------Original summary------:\n",
            " Определением отказано в удовлетворении заявления о замене кредитора, требования которого включены в реестр требований кредиторов должника, в порядке процессуального правопреемства, поскольку установлено, что должник и правопреемник являются аффилированными лицами, при этом условия договора купли-продажи закладной не отвечают критериям разумности и экономической целесообразности.  Определение отменено. Требование удовлетворено, поскольку подтверждены наличие у правопреемника финансовой возможности для приобретения права требования к должнику, а также реальность исполнения договора купли-продажи закладной.\n",
            "------Generated summary------:\n",
            "определением отказано в удовлетворении заявления о замене кредитора в порядке процессуального правопреемства. определение отменено. обособленныи спор направлен на новое рассмотрение, поскольку судом не дана оценка доводам кредитора о том, что требование кредитора является обеспеченным залогом\n",
            "\n",
            "\n",
            "------Original summary------:\n",
            "Рассматривается дело o признании незаконным бездействия конкурсного управляющего, выразившегося в неисполнении требований законодательства о банкротстве и неперечислении в качестве компенсации расходов на обеспечение сохранности предмета залога и реализации его на торгах, урегулировании разногласий между кредитором и управляющим.  Требование удовлетворено в части, поскольку расходы на оплату размещения сообщений в ЕФРСБ, связанных с реализацией предмета залога, на оплату услуг электронной площадки, на уплату госпошлины возмещению не подлежат, так как были произведены с расчетного счета должника.\n",
            "------Generated summary------:\n",
            "определением прекращено производство по заявлению о признании незаконными бездеиствия конкурсного управляющего, выразившегося в неисполнении требовании законодательства о несостоятельности ( банкротстве ), неперечислении денежных средств в качестве компенсации расходов на обеспечение сохранности предмета залога и реализации его на торгах\n",
            "\n",
            "\n",
            "------Original summary------:\n",
            "Заявляется требование oб исключении из состава участников общества.  Истец ссылается на то, что бездействие ответчика и его уклонение от участия в решении вопросов финансово-хозяйственной деятельности не позволяет обществу вести деятельность, которая была бы направлена на получение прибыли.  В удовлетворении требования отказано, поскольку не доказан факт совершения ответчиком действий, направленных на причинение вреда обществу.\n",
            "------Generated summary------:\n",
            "заявляется требование oб исключении из состава участников ооо. участник общества ссылается на то, что в результате бездеиствия участника общества было выявлено бездеиствие и уклонение его от участия в решении вопросов финансово - хозяиственнои деятельности\n",
            "\n",
            "\n",
            "------Original summary------:\n",
            "Заявляется требование o взыскании неустойки по договору поставки.  Покупатель указал на то, что поставщиком товар был поставлен не в полном объеме.  Требование удовлетворено, поскольку факт ненадлежащего исполнения поставщиком своих обязательств по договору подтвержден.\n",
            "------Generated summary------:\n",
            "заявляется требование o взыскании штрафа за ненадлежащее исполнение обязательств по договору. истец ссылается на то, что ответчиком не исполнены обязательства по оплате поставленного товара. требование удовлетворено, поскольку факт ненадлежащего исполнения ответчиком обязательств по оплате товара подтвержден, доказательств\n",
            "\n",
            "\n",
            "------Original summary------:\n",
            "Рассматривается дело o взыскании неустойки по договору об оказании услуг.  Исполнитель ссылается на несвоевременное исполнение заказчиком обязательств по оплате оказанных в соответствии с условиями договора услуг.  Требование удовлетворено, поскольку доказательств, подтверждающих факт оплаты оказанных услуг в установленный договором срок, заказчиком не представлено.\n",
            "------Generated summary------:\n",
            "заявляется требование o взыскании неустоики по государственному контракту на выполнение работ. заказчик ссылается на то, что заказчиком обязательства по оплате выполненных работ не исполнены надлежащим образом. требование удовлетворено, поскольку факт просрочки выполнения подрядчиком работ по договору подтвержден, доказательств\n",
            "\n",
            "\n",
            "------Original summary------:\n",
            "Рассматривается дело o взыскании неустойки по контрактам на ремонт автомобильных дорог.  Заказчик указывает, что подрядчиком несвоевременно были представлены посредством автоматизированной системы документы по этапам выполнения работ, предусмотренные контрактами.  Дело направлено на новое рассмотрение, поскольку судебные акты приняты при неполном выяснении обстоятельств, связанных с наличием или отсутствием вины подрядчика в нарушении сроков представления документов.\n",
            "------Generated summary------:\n",
            "заявляется требование o взыскании неустоики по контракту на выполнение работ по ремонту автомобильных дорог. заказчик ссылается на нарушение подрядчиком сроков выполнения работ. в удовлетворении требования частично отказано, поскольку подрядчиком пропущен срок исковои давности.\n",
            "\n",
            "\n",
            "------Original summary------:\n",
            "Рассматривается дело oб истребовании движимого имущества из чужого незаконного владения.  В удовлетворении требования отказано, поскольку гостиничный комплекс, на территории которого, по утверждению истца, находится принадлежащее ему движимое имущество, приобретен ответчиком в ходе реализации имущества прежнего несостоятельного собственника с публичных торгов, однако, поскольку территория гостиничного комплекса без законных оснований контролировалась иными лицами, вступить во владение и попасть на его территорию ответчик смог лишь в результате исполнительных действий службы судебных приставов-исполнителей.\n",
            "------Generated summary------:\n",
            "заявляется требование oб истребовании из незаконного владения недвижимого имущества, взыскании реальныи ущерб. истец ссылается на то, что в нарушение условии договора ответчик не передал истцу недвижимое имущество. в удовлетворении требования отказано, поскольку\n",
            "\n",
            "\n",
            "------Original summary------:\n",
            " Определением удовлетворено заявление о пересмотре судебного акта по вновь открывшимся обстоятельствам. Вновь открывшимися обстоятельствами по делу о включении требования в реестр требований кредиторов должника конкурсный управляющий считал выявленные после открытия в отношении должника процедуры конкурсного производства обстоятельства заинтересованности кредитора по отношению к должнику.  Определение оставлено без изменения.\n",
            "------Generated summary------:\n",
            "определением отказано в пересмотре судебного акта по новым и вновь открывшимся обстоятельствам. вновь открывшимися обстоятельствами по делу о включении требовании в реестр требовании кредиторов должника заявитель считал выявленныи конкурсным управляющим факт заинтересованности кредитора по отношению к долж\n",
            "\n",
            "\n",
            "------Original summary------:\n",
            "Заявляется требование o возмещении ущерба по договору ОСАГО в порядке суброгации.  Страховщик указал на то, что страхователь не направил страховщику, застраховавшему его гражданскую ответственность, экземпляр заполненного совместно с потерпевшим бланка извещения о ДТП в течение пяти рабочих дней со дня ДТП.  В удовлетворении требования отказано, поскольку страховщик, имея один из двух бланков извещения о ДТП, представленный потерпевшей стороной, не доказал нарушение его интересов со стороны страхователя непредставлением своего бланка извещения о происшествии, так как представленных документов оказалось достаточно для принятия решения о возмещении страховой выплаты.\n",
            "------Generated summary------:\n",
            "заявляется требование o возмещении ущерба. страховщик ссылается на то, что страхователь не направил ему экземпляр заполненного совместно с потерпевшим бланка извещения о дтп в течение пяти рабочих днеи со дня происшествия. в удовлетворении требования отказано\n",
            "\n",
            "\n",
            "------Original summary------:\n",
            "Рассматривается дело o взыскании неосновательного обогащения и неустойки.  Истец ссылается на неоплату ответчиком оказанных коммунальных услуг, услуг по техническому обслуживанию и эксплуатации помещений, инженерного оборудования и коммуникаций.  Требование удовлетворено, поскольку ответчик не исполнил обязанность по оплате оказанных истцом услуг.\n",
            "------Generated summary------:\n",
            "заявляется требование o взыскании неосновательного обогащения, неустоики. истец ссылается на то, что ответчик на праве хозяиственного ведения в спорныи период не исполнил обязательства по оплате оказанных истцом услуг по техническому\n",
            "\n",
            "\n",
            "------Original summary------:\n",
            "Заявляется требование o включении в реестр требований кредиторов требования, не обеспеченного залогом имущества должника.  В удовлетворении требования отказано, поскольку обществом, предъявившим требования к должнику на основании договоров поручительства, не доказан факт наличия у основного заемщика кредитных обязательств в заявленном размере, представленные выписки по лицевому счету не содержат информации о предоставлении в пользу заемщика кредитных средств и не могут подтверждать выдачу кредита, требование заявлено обществом за рамками срока действия предоставленного должником поручительства.\n",
            "------Generated summary------:\n",
            "заявляется требование o включении в реестр требовании кредиторов должника задолженности по договору цессии. в удовлетворении требования отказано, поскольку кредитором не представлены доказательства, подтверждающие наличие у должника задолженности в заявленном размере.\n",
            "\n",
            "\n",
            "------Original summary------:\n",
            " Определением с депозита суда перечислены денежные средства в счет выплаты вознаграждения временного управляющего должника и возмещения понесенных им расходов, в счет выплаты части вознаграждения конкурсного управляющего должника, оставшаяся часть вознаграждения конкурсного управляющего и понесенные им расходы взысканы с заявителя по делу о банкротстве.  Определение отменено в части взыскания денежных средств с заявителя по делу о банкротстве. Во взыскании вознаграждения и расходов с заявителя по делу о банкротстве отказано, поскольку при обращении в суд с заявлением о признании должника банкротом заявитель выразил согласие на финансирование процедуры банкротства в ограниченном размере.\n",
            "------Generated summary------:\n",
            "заявляется требование o взыскании вознаграждения и судебных расходов по делу о банкротстве общества. требование удовлетворено частично, поскольку конкурсным управляющим не представлено доказательств, свидетельствующих о том, что конкурсныи управляющии не мог нести расходы на проведение процедуры конкурсного производства\n",
            "\n",
            "\n",
            "------Original summary------:\n",
            " Определением утверждено мировое соглашение на стадии исполнительного производства по делу о взыскании неосновательного обогащения.  Определение отменено. Дело направлено на новое рассмотрение, поскольку заявителями приведены веские доводы относительно того, что мировое соглашение могло быть заключено в ущерб интересам иных кредиторов должника, фактически могло повлечь за собой оказание предпочтения обществу перед иными кредиторами должника.\n",
            "------Generated summary------:\n",
            "определением утверждено мировое соглашение на стадии исполнительного производства. определение отменено. дело направлено на новое рассмотрение, поскольку судом не дана оценка доводам кредитора о том, что при заключении мирового соглашения, заключенного в рамках исполнительного производства, было установлено, что в\n",
            "\n",
            "\n",
            "------Original summary------:\n",
            "Заявляется требование o взыскании задолженности по договору купли-продажи, процентов за пользование чужими денежными средствами.  Истец ссылается на то, что установленная договором купли-продажи обязанность по своевременной уплате ежемесячных платежей не исполнена ответчиком, в результате чего образовалась задолженность.  Требование частично удовлетворено, поскольку ответчиком не представлены доказательства надлежащего исполнения обязательств по договору.\n",
            "------Generated summary------:\n",
            "заявляется требование o взыскании задолженности по ежемесячным платежам, процентов за предоставленную рассрочку. истец ссылается на ненадлежащее исполнение ответчиком обязательств по внесению ежемесячных платежеи. требование удовлетворено частично, поскольку ответчиком не представлены доказательства\n",
            "\n",
            "\n"
          ],
          "name": "stdout"
        }
      ]
    }
  ]
}