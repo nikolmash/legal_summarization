{
 "cells": [
  {
   "cell_type": "markdown",
   "metadata": {},
   "source": [
    "## Textrank"
   ]
  },
  {
   "cell_type": "markdown",
   "metadata": {},
   "source": [
    "Загрузка текстов:"
   ]
  },
  {
   "cell_type": "code",
   "execution_count": null,
   "metadata": {
    "id": "xIGeTM3d8KqT"
   },
   "outputs": [],
   "source": [
    "!wget https://www.dropbox.com/s/mbj3sb6jaw3d9s3/judgements_test.json"
   ]
  },
  {
   "cell_type": "markdown",
   "metadata": {},
   "source": [
    "Установка необходимых библиотек:"
   ]
  },
  {
   "cell_type": "code",
   "execution_count": null,
   "metadata": {
    "colab": {
     "base_uri": "https://localhost:8080/"
    },
    "id": "4YDIxPNBB97Y",
    "outputId": "2dad57c7-5d0b-42c2-82fa-e2e3c41d37a3"
   },
   "outputs": [
    {
     "name": "stdout",
     "output_type": "stream",
     "text": [
      "Requirement already satisfied: summa in /usr/local/lib/python3.7/dist-packages (1.2.0)\n",
      "Collecting rouge\n",
      "  Downloading https://files.pythonhosted.org/packages/43/cc/e18e33be20971ff73a056ebdb023476b5a545e744e3fc22acd8c758f1e0d/rouge-1.0.0-py3-none-any.whl\n",
      "Requirement already satisfied: scipy>=0.19 in /usr/local/lib/python3.7/dist-packages (from summa) (1.4.1)\n",
      "Requirement already satisfied: six in /usr/local/lib/python3.7/dist-packages (from rouge) (1.15.0)\n",
      "Requirement already satisfied: numpy>=1.13.3 in /usr/local/lib/python3.7/dist-packages (from scipy>=0.19->summa) (1.19.5)\n",
      "Installing collected packages: rouge\n",
      "Successfully installed rouge-1.0.0\n"
     ]
    }
   ],
   "source": [
    "!pip install summa rouge"
   ]
  },
  {
   "cell_type": "code",
   "execution_count": null,
   "metadata": {
    "colab": {
     "base_uri": "https://localhost:8080/"
    },
    "id": "2_HgMebKK3oH",
    "outputId": "c794fc3e-5edb-4d2b-d638-7e6840a2aa98"
   },
   "outputs": [
    {
     "name": "stdout",
     "output_type": "stream",
     "text": [
      "Collecting git+https://github.com/Koziev/rutokenizer\n",
      "  Cloning https://github.com/Koziev/rutokenizer to /tmp/pip-req-build-gjbf23gy\n",
      "  Running command git clone -q https://github.com/Koziev/rutokenizer /tmp/pip-req-build-gjbf23gy\n",
      "Building wheels for collected packages: rutokenizer\n",
      "  Building wheel for rutokenizer (setup.py) ... \u001b[?25l\u001b[?25hdone\n",
      "  Created wheel for rutokenizer: filename=rutokenizer-0.0.24-cp37-none-any.whl size=30370082 sha256=e82922f62d39d0af503b7e37562f2c44bfa88b3baef9276ee8f1bbe2a40033b2\n",
      "  Stored in directory: /tmp/pip-ephem-wheel-cache-4v0j0van/wheels/a6/66/ef/7c52e143b099c8aeaaf3bccc4640c065b87d7cbfb13066005d\n",
      "Successfully built rutokenizer\n",
      "Installing collected packages: rutokenizer\n",
      "Successfully installed rutokenizer-0.0.24\n"
     ]
    }
   ],
   "source": [
    "!pip install git+https://github.com/Koziev/rutokenizer"
   ]
  },
  {
   "cell_type": "code",
   "execution_count": null,
   "metadata": {
    "colab": {
     "base_uri": "https://localhost:8080/"
    },
    "id": "2Zb7Qk25CPcZ",
    "outputId": "0877f50e-b8b6-4eef-eb09-547616b6c5d8"
   },
   "outputs": [
    {
     "name": "stdout",
     "output_type": "stream",
     "text": [
      "[nltk_data] Downloading package punkt to /root/nltk_data...\n",
      "[nltk_data]   Unzipping tokenizers/punkt.zip.\n"
     ]
    },
    {
     "data": {
      "text/plain": [
       "True"
      ]
     },
     "execution_count": 53,
     "metadata": {
      "tags": []
     },
     "output_type": "execute_result"
    }
   ],
   "source": [
    "import json\n",
    "import nltk\n",
    "import rutokenizer\n",
    "import networkx as nx\n",
    "from rouge import Rouge\n",
    "from nltk import sent_tokenize\n",
    "from tqdm.notebook import tqdm\n",
    "from itertools import combinations\n",
    "\n",
    "nltk.download('punkt')"
   ]
  },
  {
   "cell_type": "code",
   "execution_count": null,
   "metadata": {
    "id": "UwW6Neq6CcdY"
   },
   "outputs": [],
   "source": [
    "with open ('judgements_test.json', encoding='utf-8') as f:\n",
    "  data_test = json.load(f)"
   ]
  },
  {
   "cell_type": "code",
   "execution_count": null,
   "metadata": {
    "id": "8Us5ZgLhLRTp"
   },
   "outputs": [],
   "source": [
    "t = rutokenizer.Tokenizer()\n",
    "t.load()"
   ]
  },
  {
   "cell_type": "markdown",
   "metadata": {
    "id": "IRg-3iKcq7yj"
   },
   "source": [
    "За основу были взяты материалы семинаров Школы глубокого обучения на базе ФПМИ МФТИ (https://www.dlschool.org)"
   ]
  },
  {
   "cell_type": "code",
   "execution_count": null,
   "metadata": {
    "id": "xp88xbMqH7fX"
   },
   "outputs": [],
   "source": [
    "def unique_words_similarity(words1, words2):\n",
    "    '''\n",
    "    Функция подсчёта близости предложений на основе пересечения слов\n",
    "    ''' \n",
    "    words1 = set(words1)\n",
    "    words2 = set(words2)\n",
    "    if not len(words1) or not len(words2):\n",
    "        return 0.0\n",
    "    return len(words1.intersection(words2)) / (len(words1) + len(words2))\n",
    "\n",
    "\n",
    "def gen_text_rank_summary(text, calc_similarity=unique_words_similarity):\n",
    "    '''\n",
    "    Составление summary с помощью TextRank\n",
    "    '''\n",
    "    # Разбиваем текст на предложения\n",
    "    sentences = sent_tokenize(text)\n",
    "    n_sentences = len(sentences)\n",
    "\n",
    "    # Токенизируем предложения\n",
    "    sentences_words = [t.tokenize(sentence) for sentence in sentences]\n",
    "\n",
    "    # Для каждой пары предложений считаем близость\n",
    "    pairs = combinations(range(n_sentences), 2)\n",
    "    scores = [(i, j, calc_similarity(sentences_words[i], sentences_words[j])) for i, j in pairs]\n",
    "\n",
    "    # Строим граф с рёбрами, равными близости между предложениями\n",
    "    g = nx.Graph()\n",
    "    g.add_weighted_edges_from(scores)\n",
    "\n",
    "    # Считаем PageRank\n",
    "    \n",
    "    pr = nx.pagerank(g)\n",
    "    result = [(i, pr[i], s) for i, s in enumerate(sentences) if i in pr]\n",
    "    result.sort(key=lambda x: x[1], reverse=True)\n",
    "\n",
    "    # Выбираем топ предложений\n",
    "    n_summary_sentences = 3\n",
    "    result = result[:n_summary_sentences]\n",
    "\n",
    "    # Восстанавливаем оригинальный их порядок\n",
    "    result.sort(key=lambda x: x[0])\n",
    "    \n",
    "    # Восстанавливаем текст выжимки\n",
    "    predicted_summary = \" \".join([sentence for i, proba, sentence in result])\n",
    "    return predicted_summary"
   ]
  },
  {
   "cell_type": "markdown",
   "metadata": {},
   "source": [
    "Подсчет метрики:"
   ]
  },
  {
   "cell_type": "code",
   "execution_count": null,
   "metadata": {
    "id": "kOXC_8WkDiD_"
   },
   "outputs": [],
   "source": [
    "rouge = Rouge()"
   ]
  },
  {
   "cell_type": "code",
   "execution_count": null,
   "metadata": {
    "colab": {
     "base_uri": "https://localhost:8080/",
     "height": 66,
     "referenced_widgets": [
      "44c195de8d7e44e9a910f4706290e457",
      "8d9ef2088d634def9e714444ba29d83e",
      "daab9428fb56488c94cf5a9cab3174ce",
      "e18c0381433a47a4b2e2ff41d3c6d448",
      "ac8096762a4a4ff3b32339121c0886fb",
      "770a617f6692434fb905fd024ed9df43",
      "ead69a3a56714dab8fac9ae27940f6d4",
      "3814586b2359474db71621c6cab73c60"
     ]
    },
    "id": "PjnD0V28FRJO",
    "outputId": "f90fe3b0-7e8a-406d-9d1b-796b7adc21dd"
   },
   "outputs": [
    {
     "data": {
      "application/vnd.jupyter.widget-view+json": {
       "model_id": "44c195de8d7e44e9a910f4706290e457",
       "version_major": 2,
       "version_minor": 0
      },
      "text/plain": [
       "HBox(children=(FloatProgress(value=0.0, max=2684.0), HTML(value='')))"
      ]
     },
     "metadata": {
      "tags": []
     },
     "output_type": "display_data"
    },
    {
     "name": "stdout",
     "output_type": "stream",
     "text": [
      "\n"
     ]
    }
   ],
   "source": [
    "references = []\n",
    "predictions = []\n",
    "\n",
    "for item in tqdm(data_test.keys()):\n",
    "  predicted = gen_text_rank_summary(data_test[item]['text']) \n",
    "  predictions.append(predicted)\n",
    "  references.append(data_test[item]['summary'])\n",
    "\n",
    "scores = rouge.get_scores(predictions, references, avg=True)"
   ]
  },
  {
   "cell_type": "code",
   "execution_count": null,
   "metadata": {
    "colab": {
     "base_uri": "https://localhost:8080/"
    },
    "id": "JJu5yMBMGDK3",
    "outputId": "e4870882-76d4-4a46-bc97-7b7a1d961f47"
   },
   "outputs": [
    {
     "data": {
      "text/plain": [
       "{'rouge-1': {'f': 0.13746881307082262,\n",
       "  'p': 0.12168137845395724,\n",
       "  'r': 0.18411925626100764},\n",
       " 'rouge-2': {'f': 0.04295564635446474,\n",
       "  'p': 0.03683887541914653,\n",
       "  'r': 0.05932368313531569},\n",
       " 'rouge-l': {'f': 0.12958941952588346,\n",
       "  'p': 0.12390410716321869,\n",
       "  'r': 0.15522943260138733}}"
      ]
     },
     "execution_count": 55,
     "metadata": {
      "tags": []
     },
     "output_type": "execute_result"
    }
   ],
   "source": [
    "scores"
   ]
  },
  {
   "cell_type": "markdown",
   "metadata": {},
   "source": [
    "Примеры summary:"
   ]
  },
  {
   "cell_type": "code",
   "execution_count": null,
   "metadata": {
    "colab": {
     "base_uri": "https://localhost:8080/",
     "height": 104
    },
    "id": "M2yIs99YNwkD",
    "outputId": "8dd6ca3c-4365-4c31-d40b-a69fa6e888c2"
   },
   "outputs": [
    {
     "data": {
      "application/vnd.google.colaboratory.intrinsic+json": {
       "type": "string"
      },
      "text/plain": [
       "'Ответчик представил отзыв, который приобщен к материалам дела в порядке  Арбитражного процессуального кодекса Российской Федерации. Проверив в соответствии со , , ,  Арбитражного процессуального кодекса Российской Федерации законность принятых судебных актов, обоснованность доводов, изложенных в кассационной жалобе, суд кассационной инстанции не находит оснований для отмены обжалуемых судебных актов ввиду следующего. Отказывая в удовлетворении иска, суды пришли к выводу о том, что по требованиям о взыскании излишне уплаченной арендной платы и обеспечительного платежа в связи с заключением соглашения о расторжении договора от 31.05.2016, срок исковой давности истек 15.06.2019, при этом иск направлен в суд 16.08.2019, то есть за пределами срока исковой давности.'"
      ]
     },
     "execution_count": 56,
     "metadata": {
      "tags": []
     },
     "output_type": "execute_result"
    }
   ],
   "source": [
    "predictions[0]"
   ]
  },
  {
   "cell_type": "code",
   "execution_count": null,
   "metadata": {
    "colab": {
     "base_uri": "https://localhost:8080/",
     "height": 69
    },
    "id": "oaGkpdhpCoNg",
    "outputId": "d6cd2031-af9c-40f2-fb4f-31a541b1df4f"
   },
   "outputs": [
    {
     "data": {
      "application/vnd.google.colaboratory.intrinsic+json": {
       "type": "string"
      },
      "text/plain": [
       "'Рассматривается дело o взыскании суммы обеспечительного платежа, излишне уплаченной арендной платы в соответствии с соглашением о расторжении договора аренды нежилого помещения, процентов за пользование чужими денежными средствами.  Ответчиком обязательства по соглашению не исполнены.  В удовлетворении требования отказано, поскольку пропущен срок исковой давности.'"
      ]
     },
     "execution_count": 57,
     "metadata": {
      "tags": []
     },
     "output_type": "execute_result"
    }
   ],
   "source": [
    "references[0]"
   ]
  },
  {
   "cell_type": "code",
   "execution_count": null,
   "metadata": {
    "colab": {
     "base_uri": "https://localhost:8080/",
     "height": 69
    },
    "id": "8uJCSfa2C8LQ",
    "outputId": "a0d35645-d4f1-4182-f36e-fe7c17fb6566"
   },
   "outputs": [
    {
     "data": {
      "application/vnd.google.colaboratory.intrinsic+json": {
       "type": "string"
      },
      "text/plain": [
       "'Представитель истца в заседании суда против доводов кассационной жалобы возражал, в том числе и по мотивам, изложенным в отзыве. Подрядчик обязался выполнить работы, указанные в п. При таких обстоятельствах, суд в обжалуемых актах, по мнению кассационной коллегии, правильно удовлетворил требования истца лишь в части взыскания неустойки в сумме 1.000.000 руб.'"
      ]
     },
     "execution_count": 74,
     "metadata": {
      "tags": []
     },
     "output_type": "execute_result"
    }
   ],
   "source": [
    "predictions[999]"
   ]
  },
  {
   "cell_type": "code",
   "execution_count": null,
   "metadata": {
    "colab": {
     "base_uri": "https://localhost:8080/",
     "height": 52
    },
    "id": "KlpQHJnhOOA7",
    "outputId": "84fd9c7b-0b00-4cd7-fec4-496c38e28ca0"
   },
   "outputs": [
    {
     "data": {
      "application/vnd.google.colaboratory.intrinsic+json": {
       "type": "string"
      },
      "text/plain": [
       "'Заявляется требование o взыскании неустойки.  Сторонами был заключен договор подряда на выполнение строительно-монтажных работ по реконструкции теплового ввода.  Требование удовлетворено в части, поскольку ответчик нарушил установленные договором сроки выполнения работ. Размер неустойки снижен на основании ст. 333 ГК РФ.'"
      ]
     },
     "execution_count": 75,
     "metadata": {
      "tags": []
     },
     "output_type": "execute_result"
    }
   ],
   "source": [
    "references[999]"
   ]
  }
 ],
 "metadata": {
  "colab": {
   "name": "textrank.ipynb",
   "provenance": []
  },
  "kernelspec": {
   "display_name": "Python 3",
   "language": "python",
   "name": "python3"
  },
  "language_info": {
   "codemirror_mode": {
    "name": "ipython",
    "version": 3
   },
   "file_extension": ".py",
   "mimetype": "text/x-python",
   "name": "python",
   "nbconvert_exporter": "python",
   "pygments_lexer": "ipython3",
   "version": "3.6.2"
  },
  "widgets": {
   "application/vnd.jupyter.widget-state+json": {
    "3814586b2359474db71621c6cab73c60": {
     "model_module": "@jupyter-widgets/base",
     "model_name": "LayoutModel",
     "state": {
      "_model_module": "@jupyter-widgets/base",
      "_model_module_version": "1.2.0",
      "_model_name": "LayoutModel",
      "_view_count": null,
      "_view_module": "@jupyter-widgets/base",
      "_view_module_version": "1.2.0",
      "_view_name": "LayoutView",
      "align_content": null,
      "align_items": null,
      "align_self": null,
      "border": null,
      "bottom": null,
      "display": null,
      "flex": null,
      "flex_flow": null,
      "grid_area": null,
      "grid_auto_columns": null,
      "grid_auto_flow": null,
      "grid_auto_rows": null,
      "grid_column": null,
      "grid_gap": null,
      "grid_row": null,
      "grid_template_areas": null,
      "grid_template_columns": null,
      "grid_template_rows": null,
      "height": null,
      "justify_content": null,
      "justify_items": null,
      "left": null,
      "margin": null,
      "max_height": null,
      "max_width": null,
      "min_height": null,
      "min_width": null,
      "object_fit": null,
      "object_position": null,
      "order": null,
      "overflow": null,
      "overflow_x": null,
      "overflow_y": null,
      "padding": null,
      "right": null,
      "top": null,
      "visibility": null,
      "width": null
     }
    },
    "44c195de8d7e44e9a910f4706290e457": {
     "model_module": "@jupyter-widgets/controls",
     "model_name": "HBoxModel",
     "state": {
      "_dom_classes": [],
      "_model_module": "@jupyter-widgets/controls",
      "_model_module_version": "1.5.0",
      "_model_name": "HBoxModel",
      "_view_count": null,
      "_view_module": "@jupyter-widgets/controls",
      "_view_module_version": "1.5.0",
      "_view_name": "HBoxView",
      "box_style": "",
      "children": [
       "IPY_MODEL_daab9428fb56488c94cf5a9cab3174ce",
       "IPY_MODEL_e18c0381433a47a4b2e2ff41d3c6d448"
      ],
      "layout": "IPY_MODEL_8d9ef2088d634def9e714444ba29d83e"
     }
    },
    "770a617f6692434fb905fd024ed9df43": {
     "model_module": "@jupyter-widgets/base",
     "model_name": "LayoutModel",
     "state": {
      "_model_module": "@jupyter-widgets/base",
      "_model_module_version": "1.2.0",
      "_model_name": "LayoutModel",
      "_view_count": null,
      "_view_module": "@jupyter-widgets/base",
      "_view_module_version": "1.2.0",
      "_view_name": "LayoutView",
      "align_content": null,
      "align_items": null,
      "align_self": null,
      "border": null,
      "bottom": null,
      "display": null,
      "flex": null,
      "flex_flow": null,
      "grid_area": null,
      "grid_auto_columns": null,
      "grid_auto_flow": null,
      "grid_auto_rows": null,
      "grid_column": null,
      "grid_gap": null,
      "grid_row": null,
      "grid_template_areas": null,
      "grid_template_columns": null,
      "grid_template_rows": null,
      "height": null,
      "justify_content": null,
      "justify_items": null,
      "left": null,
      "margin": null,
      "max_height": null,
      "max_width": null,
      "min_height": null,
      "min_width": null,
      "object_fit": null,
      "object_position": null,
      "order": null,
      "overflow": null,
      "overflow_x": null,
      "overflow_y": null,
      "padding": null,
      "right": null,
      "top": null,
      "visibility": null,
      "width": null
     }
    },
    "8d9ef2088d634def9e714444ba29d83e": {
     "model_module": "@jupyter-widgets/base",
     "model_name": "LayoutModel",
     "state": {
      "_model_module": "@jupyter-widgets/base",
      "_model_module_version": "1.2.0",
      "_model_name": "LayoutModel",
      "_view_count": null,
      "_view_module": "@jupyter-widgets/base",
      "_view_module_version": "1.2.0",
      "_view_name": "LayoutView",
      "align_content": null,
      "align_items": null,
      "align_self": null,
      "border": null,
      "bottom": null,
      "display": null,
      "flex": null,
      "flex_flow": null,
      "grid_area": null,
      "grid_auto_columns": null,
      "grid_auto_flow": null,
      "grid_auto_rows": null,
      "grid_column": null,
      "grid_gap": null,
      "grid_row": null,
      "grid_template_areas": null,
      "grid_template_columns": null,
      "grid_template_rows": null,
      "height": null,
      "justify_content": null,
      "justify_items": null,
      "left": null,
      "margin": null,
      "max_height": null,
      "max_width": null,
      "min_height": null,
      "min_width": null,
      "object_fit": null,
      "object_position": null,
      "order": null,
      "overflow": null,
      "overflow_x": null,
      "overflow_y": null,
      "padding": null,
      "right": null,
      "top": null,
      "visibility": null,
      "width": null
     }
    },
    "ac8096762a4a4ff3b32339121c0886fb": {
     "model_module": "@jupyter-widgets/controls",
     "model_name": "ProgressStyleModel",
     "state": {
      "_model_module": "@jupyter-widgets/controls",
      "_model_module_version": "1.5.0",
      "_model_name": "ProgressStyleModel",
      "_view_count": null,
      "_view_module": "@jupyter-widgets/base",
      "_view_module_version": "1.2.0",
      "_view_name": "StyleView",
      "bar_color": null,
      "description_width": "initial"
     }
    },
    "daab9428fb56488c94cf5a9cab3174ce": {
     "model_module": "@jupyter-widgets/controls",
     "model_name": "FloatProgressModel",
     "state": {
      "_dom_classes": [],
      "_model_module": "@jupyter-widgets/controls",
      "_model_module_version": "1.5.0",
      "_model_name": "FloatProgressModel",
      "_view_count": null,
      "_view_module": "@jupyter-widgets/controls",
      "_view_module_version": "1.5.0",
      "_view_name": "ProgressView",
      "bar_style": "success",
      "description": "100%",
      "description_tooltip": null,
      "layout": "IPY_MODEL_770a617f6692434fb905fd024ed9df43",
      "max": 2684,
      "min": 0,
      "orientation": "horizontal",
      "style": "IPY_MODEL_ac8096762a4a4ff3b32339121c0886fb",
      "value": 2684
     }
    },
    "e18c0381433a47a4b2e2ff41d3c6d448": {
     "model_module": "@jupyter-widgets/controls",
     "model_name": "HTMLModel",
     "state": {
      "_dom_classes": [],
      "_model_module": "@jupyter-widgets/controls",
      "_model_module_version": "1.5.0",
      "_model_name": "HTMLModel",
      "_view_count": null,
      "_view_module": "@jupyter-widgets/controls",
      "_view_module_version": "1.5.0",
      "_view_name": "HTMLView",
      "description": "",
      "description_tooltip": null,
      "layout": "IPY_MODEL_3814586b2359474db71621c6cab73c60",
      "placeholder": "​",
      "style": "IPY_MODEL_ead69a3a56714dab8fac9ae27940f6d4",
      "value": " 2684/2684 [03:05&lt;00:00, 14.49it/s]"
     }
    },
    "ead69a3a56714dab8fac9ae27940f6d4": {
     "model_module": "@jupyter-widgets/controls",
     "model_name": "DescriptionStyleModel",
     "state": {
      "_model_module": "@jupyter-widgets/controls",
      "_model_module_version": "1.5.0",
      "_model_name": "DescriptionStyleModel",
      "_view_count": null,
      "_view_module": "@jupyter-widgets/base",
      "_view_module_version": "1.2.0",
      "_view_name": "StyleView",
      "description_width": ""
     }
    }
   }
  }
 },
 "nbformat": 4,
 "nbformat_minor": 1
}
