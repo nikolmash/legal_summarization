{
 "cells": [
  {
   "cell_type": "code",
   "execution_count": 1,
   "metadata": {},
   "outputs": [],
   "source": [
    "import os \n",
    "import re \n",
    "import json\n",
    "import random\n",
    "from tqdm.notebook import tqdm"
   ]
  },
  {
   "cell_type": "code",
   "execution_count": 2,
   "metadata": {},
   "outputs": [],
   "source": [
    "import rutokenizer\n",
    "from nltk import sent_tokenize"
   ]
  },
  {
   "cell_type": "code",
   "execution_count": 3,
   "metadata": {},
   "outputs": [],
   "source": [
    "# изначально данные разбросаны по нескольким json файлам\n",
    "court_files = [fi for fi in list(os.listdir()) if fi.endswith('json')]"
   ]
  },
  {
   "cell_type": "code",
   "execution_count": 9,
   "metadata": {},
   "outputs": [
    {
     "name": "stdout",
     "output_type": "stream",
     "text": [
      "21893\n"
     ]
    }
   ],
   "source": [
    "data_dict = {}\n",
    "\n",
    "for json_file in court_files:\n",
    "    with open(json_file, encoding='utf-8') as f:\n",
    "        data_dict_one = json.load(f)\n",
    "    data_dict.update(data_dict_one)\n",
    "\n",
    "print(len(data_dict))"
   ]
  },
  {
   "cell_type": "code",
   "execution_count": 10,
   "metadata": {},
   "outputs": [
    {
     "name": "stdout",
     "output_type": "stream",
     "text": [
      "19859\n"
     ]
    }
   ],
   "source": [
    "# полный текст некоторых постановлений не скачался: уберем такие вхождения\n",
    "data_dict = {index:data_dict[index] for index in data_dict if data_dict[index]['text']!=''}\n",
    "\n",
    "print(len(data_dict))"
   ]
  },
  {
   "cell_type": "markdown",
   "metadata": {},
   "source": [
    "Функции для чистки полных текстов и аннотаций. После всех операций данные представляют собой связный текст"
   ]
  },
  {
   "cell_type": "code",
   "execution_count": 26,
   "metadata": {},
   "outputs": [],
   "source": [
    "demand_phrases = ('Рассматривается дело o', 'Заявляется требование o')\n",
    "\n",
    "def prepare_summary(text, demand_phrases=demand_phrases):\n",
    "    text = re.sub('\\n', ' ', text)\n",
    "    preprocessed_text = re.sub('[0-9]\\)','', text)\n",
    "    preprocessed_text = preprocessed_text.replace('Требование: О', random.choice(demand_phrases))\n",
    "    preprocessed_text = preprocessed_text.replace('Требование:  О', random.choice(demand_phrases))\n",
    "    preprocessed_text = preprocessed_text.replace('Встречное требование: О', \n",
    "                                                  'Получено встречное требование о')\n",
    "    preprocessed_text = preprocessed_text.replace('Решение:','')\n",
    "    preprocessed_text = preprocessed_text.replace('Обстоятельства:','')\n",
    "    return preprocessed_text"
   ]
  },
  {
   "cell_type": "code",
   "execution_count": 27,
   "metadata": {},
   "outputs": [],
   "source": [
    "def prepare_full_text(text):\n",
    "    start_index = re.search('\\n\\nустановил:\\n\\n|\\n\\nпостановил:\\n\\n', text).end()\n",
    "    text = text[start_index:]\n",
    "    last_sentence = sent_tokenize(text)[-1]\n",
    "    preprocessed = text.replace(last_sentence, '')\n",
    "    preprocessed = re.sub('\\(.*?\\)', '', preprocessed)\n",
    "    return preprocessed"
   ]
  },
  {
   "cell_type": "code",
   "execution_count": 35,
   "metadata": {},
   "outputs": [
    {
     "data": {
      "application/vnd.jupyter.widget-view+json": {
       "model_id": "82a00f84eb444705a22665b0ebc3f831",
       "version_major": 2,
       "version_minor": 0
      },
      "text/plain": [
       "HBox(children=(FloatProgress(value=0.0, max=19859.0), HTML(value='')))"
      ]
     },
     "metadata": {},
     "output_type": "display_data"
    },
    {
     "name": "stdout",
     "output_type": "stream",
     "text": [
      "\n"
     ]
    }
   ],
   "source": [
    "not_judgements_ids = []\n",
    "\n",
    "for id in tqdm(data_dict.keys()):\n",
    "    try:\n",
    "        data_dict[id]['summary'] = prepare_summary(data_dict[id]['summary'])\n",
    "        data_dict[id]['text'] = prepare_full_text(data_dict[id]['text'])\n",
    "    except AttributeError:\n",
    "        not_judgements_ids.append(id)"
   ]
  },
  {
   "cell_type": "markdown",
   "metadata": {},
   "source": [
    "Сохранили отдельно id документов, не являющихся постановлениями (не содержит ключевую фразу *(суд) установил*). Удалим их"
   ]
  },
  {
   "cell_type": "code",
   "execution_count": 39,
   "metadata": {},
   "outputs": [
    {
     "name": "stdout",
     "output_type": "stream",
     "text": [
      "Протокол заседания Научно-консультативного совета при Арбитражном суде Московского округа от 27 ноября 2020 г. N 20\n"
     ]
    }
   ],
   "source": [
    "for id_to_del in not_judgements_ids:\n",
    "    print(data_dict[id_to_del]['title'])\n",
    "    data_dict.pop(id_to_del)"
   ]
  },
  {
   "cell_type": "code",
   "execution_count": 40,
   "metadata": {},
   "outputs": [],
   "source": [
    "import rutokenizer\n",
    "\n",
    "t = rutokenizer.Tokenizer()\n",
    "t.load()"
   ]
  },
  {
   "cell_type": "markdown",
   "metadata": {},
   "source": [
    "Функции для токенизации и получения биграмм:"
   ]
  },
  {
   "cell_type": "code",
   "execution_count": 41,
   "metadata": {},
   "outputs": [],
   "source": [
    "from string import punctuation\n",
    "\n",
    "punkt = punctuation + '«»—…“”*№–'\n",
    "\n",
    "def get_tokens(text):\n",
    "    return [x for x in t.tokenize(text)if x not in punkt]\n",
    "\n",
    "def ngrams(tokens, n=2):\n",
    "    return [tuple(tokens[i:i+n]) for i in range(len(tokens)-n+1)]   "
   ]
  },
  {
   "cell_type": "markdown",
   "metadata": {},
   "source": [
    "Полный цикл подсчета количества предложений, токенов, пересечений биграмм в каждой паре текст-аннотация:"
   ]
  },
  {
   "cell_type": "code",
   "execution_count": 42,
   "metadata": {},
   "outputs": [
    {
     "data": {
      "application/vnd.jupyter.widget-view+json": {
       "model_id": "c9377508090648c28081a292dd3d5c8e",
       "version_major": 2,
       "version_minor": 0
      },
      "text/plain": [
       "HBox(children=(FloatProgress(value=0.0, max=19858.0), HTML(value='')))"
      ]
     },
     "metadata": {},
     "output_type": "display_data"
    },
    {
     "name": "stdout",
     "output_type": "stream",
     "text": [
      "\n"
     ]
    }
   ],
   "source": [
    "with_short_summ_ids = []\n",
    "\n",
    "txt_sents_counts, sum_sents_counts = [], []\n",
    "txt_words_counts, sum_words_counts = [], []\n",
    "common_bigrams_parts = []\n",
    "\n",
    "for id in tqdm(data_dict.keys()):\n",
    "    text = data_dict[id][\"text\"]\n",
    "    summary = data_dict[id][\"summary\"]\n",
    "    \n",
    "    words = get_tokens(text)\n",
    "    sum_words = get_tokens(summary)\n",
    "    \n",
    "    if len(sum_words)<30 or len(sent_tokenize(summary))==1:\n",
    "        with_short_summ_ids.append(id)\n",
    "        continue\n",
    "                                                             \n",
    "    txt_sents_counts.append(len(sent_tokenize(text)))\n",
    "    sum_sents_counts.append(len(sent_tokenize(summary)))\n",
    "\n",
    "    txt_words_counts.append(len(words))\n",
    "    sum_words_counts.append(len(sum_words))\n",
    "    \n",
    "    txt_bigrams =  set(ngrams(words))\n",
    "    sum_bigrams = set(ngrams(sum_words))\n",
    "    \n",
    "    bigram_inter = txt_bigrams.intersection(sum_bigrams)\n",
    "    common_bigrams_parts.append(len(bigram_inter)/len(sum_bigrams))"
   ]
  },
  {
   "cell_type": "code",
   "execution_count": 43,
   "metadata": {},
   "outputs": [
    {
     "name": "stdout",
     "output_type": "stream",
     "text": [
      "Текстов со слишком короткими аннотациями:  1967\n"
     ]
    }
   ],
   "source": [
    "print('Текстов со слишком короткими аннотациями: ', len(with_short_summ_ids))"
   ]
  },
  {
   "cell_type": "markdown",
   "metadata": {},
   "source": [
    "Уберем их из рассмотрения"
   ]
  },
  {
   "cell_type": "code",
   "execution_count": 44,
   "metadata": {},
   "outputs": [
    {
     "data": {
      "text/plain": [
       "17891"
      ]
     },
     "execution_count": 44,
     "metadata": {},
     "output_type": "execute_result"
    }
   ],
   "source": [
    "for id_to_del in with_short_summ_ids:\n",
    "    data_dict.pop(id_to_del)\n",
    "\n",
    "len(data_dict)"
   ]
  },
  {
   "cell_type": "code",
   "execution_count": 45,
   "metadata": {},
   "outputs": [
    {
     "name": "stdout",
     "output_type": "stream",
     "text": [
      "-------------СТАТИСТИКА ПО ПРЕДЛОЖЕНИЯМ-------------\n",
      "Среднее количество предложений в документах: 46.70482365435135\n",
      "Минимальное количество предложений в документах: 11\n",
      "Максимальное количество предложений в документах: 640\n",
      "\n",
      "\n",
      "Среднее количество предложений в аннотациях: 3.219663517969929\n",
      "Минимальное количество предложений в аннотациях: 2\n",
      "Максимальное количество предложений в аннотациях: 11\n"
     ]
    }
   ],
   "source": [
    "print('-------------СТАТИСТИКА ПО ПРЕДЛОЖЕНИЯМ-------------')\n",
    "print('Среднее количество предложений в документах:', sum(txt_sents_counts)/len(txt_sents_counts))\n",
    "print('Минимальное количество предложений в документах:', min(txt_sents_counts))\n",
    "print('Максимальное количество предложений в документах:', max(txt_sents_counts))\n",
    "print('\\n')\n",
    "print('Среднее количество предложений в аннотациях:', sum(sum_sents_counts)/len(sum_sents_counts))\n",
    "print('Минимальное количество предложений в аннотациях:', min(sum_sents_counts))\n",
    "print('Максимальное количество предложений в аннотациях:', max(sum_sents_counts))"
   ]
  },
  {
   "cell_type": "code",
   "execution_count": 46,
   "metadata": {},
   "outputs": [
    {
     "name": "stdout",
     "output_type": "stream",
     "text": [
      "-------------СТАТИСТИКА ПО ТОКЕНАМ-------------\n",
      "Среднее количество токенов в документах: 1372.221843384942\n",
      "Минимальное количество токенов в документах: 345\n",
      "Максимальное количество токенов в документах: 15789\n",
      "\n",
      "\n",
      "Среднее количество токенов в аннотациях: 60.35503884634733\n",
      "Минимальное количество токенов в аннотациях: 30\n",
      "Максимальное количество токенов в аннотациях: 107\n"
     ]
    }
   ],
   "source": [
    "print('-------------СТАТИСТИКА ПО ТОКЕНАМ-------------')\n",
    "print('Среднее количество токенов в документах:', sum(txt_words_counts)/len(txt_words_counts))\n",
    "print('Минимальное количество токенов в документах:', min(txt_words_counts))\n",
    "print('Максимальное количество токенов в документах:', max(txt_words_counts))\n",
    "print('\\n')\n",
    "print('Среднее количество токенов в аннотациях:', sum(sum_words_counts)/len(sum_words_counts))\n",
    "print('Минимальное количество токенов в аннотациях:', min(sum_words_counts))\n",
    "print('Максимальное количество токенов в аннотациях:', max(sum_words_counts))"
   ]
  },
  {
   "cell_type": "code",
   "execution_count": 47,
   "metadata": {},
   "outputs": [
    {
     "name": "stdout",
     "output_type": "stream",
     "text": [
      "Средний процент биграмм, общих для исходных текстов и аннотаций: 52.06%\n"
     ]
    }
   ],
   "source": [
    "print(\"Средний процент биграмм, общих для исходных текстов и аннотаций:\", \"{:.2f}%\".format(sum(common_bigrams_parts)/len(common_bigrams_parts)*100))"
   ]
  },
  {
   "cell_type": "code",
   "execution_count": 48,
   "metadata": {},
   "outputs": [
    {
     "data": {
      "image/png": "[encoded data removed]",
      "text/plain": [
       "<Figure size 720x504 with 1 Axes>"
      ]
     },
     "metadata": {
      "needs_background": "light"
     },
     "output_type": "display_data"
    }
   ],
   "source": [
    "import seaborn as sns\n",
    "import matplotlib.pyplot as plt\n",
    "\n",
    "sns.set_style(\"white\")\n",
    "%matplotlib inline \n",
    "\n",
    "\n",
    "plt.figure(figsize=(10,7))\n",
    "sns.histplot(txt_words_counts)\n",
    "plt.title('Распределение количества токенов в исходных документах')\n",
    "plt.xlabel('Количество токенов')\n",
    "plt.ylabel('Количество текстов')\n",
    "plt.xlim(0, 6000)\n",
    "plt.savefig('text_tok_dictrib.png')\n",
    "plt.show()"
   ]
  },
  {
   "cell_type": "code",
   "execution_count": 49,
   "metadata": {},
   "outputs": [
    {
     "data": {
      "image/png": "[encoded data removed]",
      "text/plain": [
       "<Figure size 720x504 with 1 Axes>"
      ]
     },
     "metadata": {
      "needs_background": "light"
     },
     "output_type": "display_data"
    }
   ],
   "source": [
    "plt.figure(figsize=(10,7))\n",
    "sns.histplot(sum_words_counts, color='orchid')\n",
    "plt.title('Распределение количества токенов в аннотациях')\n",
    "plt.xlabel('Количество токенов')\n",
    "plt.ylabel('Количество аннотаций')\n",
    "plt.savefig('sum_tok_dictrib.png')\n",
    "plt.show()"
   ]
  },
  {
   "cell_type": "markdown",
   "metadata": {},
   "source": [
    "Обращение к API сервиса http://ru.readability.io для подсчета индексов читаемости текста случайно выбранных 1000 документов"
   ]
  },
  {
   "cell_type": "code",
   "execution_count": 37,
   "metadata": {},
   "outputs": [
    {
     "data": {
      "application/vnd.jupyter.widget-view+json": {
       "model_id": "7051c73d1ff74b3595c28bbf511c7ae3",
       "version_major": 2,
       "version_minor": 0
      },
      "text/plain": [
       "HBox(children=(FloatProgress(value=0.0, max=1000.0), HTML(value='')))"
      ]
     },
     "metadata": {},
     "output_type": "display_data"
    },
    {
     "name": "stdout",
     "output_type": "stream",
     "text": [
      "\n"
     ]
    }
   ],
   "source": [
    "import requests\n",
    "import random\n",
    "\n",
    "thous_rand_docs = random.sample(data_dict.keys(), 1000)\n",
    "\n",
    "fk_inds = []\n",
    "ari_inds = []\n",
    "fk_grades = []\n",
    "ari_grades = []\n",
    "\n",
    "for id in tqdm(thous_rand_docs):\n",
    "    response = requests.post(\"http://api.plainrussian.ru/api/1.0/ru/measure/\", data={\"text\":data_dict[id]['text']})\n",
    "    response_dict = response.json()\n",
    "    fk_inds.append(response_dict['indexes']['index_fk'])\n",
    "    ari_inds.append(response_dict['indexes']['index_ari'])\n",
    "    fk_grades.append(response_dict['indexes']['grade_fk'])\n",
    "    ari_grades.append(response_dict['indexes']['grade_ari'])  "
   ]
  },
  {
   "cell_type": "code",
   "execution_count": 38,
   "metadata": {},
   "outputs": [
    {
     "name": "stdout",
     "output_type": "stream",
     "text": [
      "-------------ОЦЕНКА ЧИТАБЕЛЬНОСТИ-----------------\n",
      "Средний ARI:  19.816013269545028\n",
      "Среднее значение индекса удобочитаемости Флеша:  19.6606810972382\n"
     ]
    }
   ],
   "source": [
    "print('-------------ОЦЕНКА ЧИТАБЕЛЬНОСТИ-----------------')\n",
    "print('Средний ARI: ', sum(ari_inds)/len(ari_inds))\n",
    "print('Среднее значение индекса удобочитаемости Флеша: ', sum(fk_inds)/len(fk_inds))"
   ]
  },
  {
   "cell_type": "code",
   "execution_count": 39,
   "metadata": {},
   "outputs": [
    {
     "name": "stdout",
     "output_type": "stream",
     "text": [
      "Counter({'Аспирантура, второе высшее образование, phD': 897, '4 - 6 курсы ВУЗа (возраст примерно: 20-22 лет)': 101, '1 - 3 курсы ВУЗа (возраст примерно: 17-19 лет)': 2})\n",
      "Counter({'Аспирантура, второе высшее образование, phD': 843, '4 - 6 курсы ВУЗа (возраст примерно: 20-22 лет)': 153, '1 - 3 курсы ВУЗа (возраст примерно: 17-19 лет)': 4})\n"
     ]
    }
   ],
   "source": [
    "from collections import Counter\n",
    "\n",
    "print(Counter(ari_grades))\n",
    "print(Counter(fk_grades))"
   ]
  },
  {
   "cell_type": "markdown",
   "metadata": {},
   "source": [
    "Деление выборки на обучающую и тестовую, сохранение в файл:"
   ]
  },
  {
   "cell_type": "code",
   "execution_count": 50,
   "metadata": {},
   "outputs": [],
   "source": [
    "from sklearn.model_selection import train_test_split\n",
    "\n",
    "train_keys, test_keys = train_test_split(list(data_dict.keys()), test_size=0.15, random_state=10)"
   ]
  },
  {
   "cell_type": "code",
   "execution_count": 51,
   "metadata": {},
   "outputs": [],
   "source": [
    "dict_train, dict_test = {}, {}\n",
    "\n",
    "for k in train_keys:\n",
    "    dict_train[k] = data_dict[k]\n",
    "\n",
    "for k in test_keys:\n",
    "    dict_test[k] = data_dict[k]"
   ]
  },
  {
   "cell_type": "code",
   "execution_count": 52,
   "metadata": {},
   "outputs": [
    {
     "name": "stdout",
     "output_type": "stream",
     "text": [
      "Train : 15207\n",
      "Test:  2684\n"
     ]
    }
   ],
   "source": [
    "print('Train :', len(dict_train))\n",
    "print('Test: ', len(dict_test))"
   ]
  },
  {
   "cell_type": "code",
   "execution_count": 53,
   "metadata": {},
   "outputs": [],
   "source": [
    "with open('judgements_train.json', 'w', encoding='utf-8') as f:\n",
    "    json.dump(dict_train, f, ensure_ascii=False)"
   ]
  },
  {
   "cell_type": "code",
   "execution_count": 55,
   "metadata": {},
   "outputs": [],
   "source": [
    "with open('judgements_test.json', 'w', encoding='utf-8') as f:\n",
    "    json.dump(dict_test, f, ensure_ascii=False)"
   ]
  },
  {
   "cell_type": "code",
   "execution_count": null,
   "metadata": {},
   "outputs": [],
   "source": []
  },
  {
   "cell_type": "code",
   "execution_count": null,
   "metadata": {},
   "outputs": [],
   "source": []
  },
  {
   "cell_type": "code",
   "execution_count": null,
   "metadata": {},
   "outputs": [],
   "source": []
  },
  {
   "cell_type": "code",
   "execution_count": null,
   "metadata": {},
   "outputs": [],
   "source": []
  },
  {
   "cell_type": "code",
   "execution_count": null,
   "metadata": {},
   "outputs": [],
   "source": []
  },
  {
   "cell_type": "code",
   "execution_count": null,
   "metadata": {},
   "outputs": [],
   "source": []
  },
  {
   "cell_type": "code",
   "execution_count": null,
   "metadata": {},
   "outputs": [],
   "source": []
  },
  {
   "cell_type": "code",
   "execution_count": null,
   "metadata": {},
   "outputs": [],
   "source": []
  },
  {
   "cell_type": "code",
   "execution_count": null,
   "metadata": {},
   "outputs": [],
   "source": []
  }
 ],
 "metadata": {
  "kernelspec": {
   "display_name": "Python 3",
   "language": "python",
   "name": "python3"
  },
  "language_info": {
   "codemirror_mode": {
    "name": "ipython",
    "version": 3
   },
   "file_extension": ".py",
   "mimetype": "text/x-python",
   "name": "python",
   "nbconvert_exporter": "python",
   "pygments_lexer": "ipython3",
   "version": "3.6.2"
  }
 },
 "nbformat": 4,
 "nbformat_minor": 2
}
