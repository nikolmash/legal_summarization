{
 "cells": [
  {
   "cell_type": "markdown",
   "metadata": {},
   "source": [
    "## SummaRuNNer"
   ]
  },
  {
   "cell_type": "markdown",
   "metadata": {},
   "source": [
    "Загрузка данных:"
   ]
  },
  {
   "cell_type": "code",
   "execution_count": null,
   "metadata": {
    "id": "MJiG6YMWGUXy"
   },
   "outputs": [],
   "source": [
    "!wget https://www.dropbox.com/s/mbj3sb6jaw3d9s3/judgements_test.json\n",
    "!wget https://www.dropbox.com/s/hbh7ioaiet16fcw/judgements_train.json"
   ]
  },
  {
   "cell_type": "markdown",
   "metadata": {},
   "source": [
    "Установка необходимых пакетов:"
   ]
  },
  {
   "cell_type": "code",
   "execution_count": null,
   "metadata": {
    "colab": {
     "base_uri": "https://localhost:8080/"
    },
    "id": "6K8oFXPGGlcV",
    "outputId": "4d24e9bb-26df-4a33-f477-7fab9ff5f81f"
   },
   "outputs": [
    {
     "name": "stdout",
     "output_type": "stream",
     "text": [
      "Collecting youtokentome\n",
      "\u001b[?25l  Downloading https://files.pythonhosted.org/packages/c8/1c/224cdc3d9a32ed706c8fb1f30b491be6ea5da114ff4edc174014cc24fa43/youtokentome-1.0.6-cp37-cp37m-manylinux2010_x86_64.whl (1.7MB)\n",
      "\r",
      "\u001b[K     |▏                               | 10kB 3.3MB/s eta 0:00:01\r",
      "\u001b[K     |▍                               | 20kB 5.7MB/s eta 0:00:01\r",
      "\u001b[K     |▋                               | 30kB 7.8MB/s eta 0:00:01\r",
      "\u001b[K     |▊                               | 40kB 9.4MB/s eta 0:00:01\r",
      "\u001b[K     |█                               | 51kB 10.2MB/s eta 0:00:01\r",
      "\u001b[K     |█▏                              | 61kB 11.5MB/s eta 0:00:01\r",
      "\u001b[K     |█▍                              | 71kB 11.5MB/s eta 0:00:01\r",
      "\u001b[K     |█▌                              | 81kB 7.8MB/s eta 0:00:01\r",
      "\u001b[K     |█▊                              | 92kB 8.5MB/s eta 0:00:01\r",
      "\u001b[K     |██                              | 102kB 9.1MB/s eta 0:00:01\r",
      "\u001b[K     |██                              | 112kB 9.1MB/s eta 0:00:01\r",
      "\u001b[K     |██▎                             | 122kB 9.1MB/s eta 0:00:01\r",
      "\u001b[K     |██▌                             | 133kB 9.1MB/s eta 0:00:01\r",
      "\u001b[K     |██▊                             | 143kB 9.1MB/s eta 0:00:01\r",
      "\u001b[K     |██▉                             | 153kB 9.1MB/s eta 0:00:01\r",
      "\u001b[K     |███                             | 163kB 9.1MB/s eta 0:00:01\r",
      "\u001b[K     |███▎                            | 174kB 9.1MB/s eta 0:00:01\r",
      "\u001b[K     |███▌                            | 184kB 9.1MB/s eta 0:00:01\r",
      "\u001b[K     |███▋                            | 194kB 9.1MB/s eta 0:00:01\r",
      "\u001b[K     |███▉                            | 204kB 9.1MB/s eta 0:00:01\r",
      "\u001b[K     |████                            | 215kB 9.1MB/s eta 0:00:01\r",
      "\u001b[K     |████▏                           | 225kB 9.1MB/s eta 0:00:01\r",
      "\u001b[K     |████▍                           | 235kB 9.1MB/s eta 0:00:01\r",
      "\u001b[K     |████▋                           | 245kB 9.1MB/s eta 0:00:01\r",
      "\u001b[K     |████▉                           | 256kB 9.1MB/s eta 0:00:01\r",
      "\u001b[K     |█████                           | 266kB 9.1MB/s eta 0:00:01\r",
      "\u001b[K     |█████▏                          | 276kB 9.1MB/s eta 0:00:01\r",
      "\u001b[K     |█████▍                          | 286kB 9.1MB/s eta 0:00:01\r",
      "\u001b[K     |█████▌                          | 296kB 9.1MB/s eta 0:00:01\r",
      "\u001b[K     |█████▊                          | 307kB 9.1MB/s eta 0:00:01\r",
      "\u001b[K     |██████                          | 317kB 9.1MB/s eta 0:00:01\r",
      "\u001b[K     |██████▏                         | 327kB 9.1MB/s eta 0:00:01\r",
      "\u001b[K     |██████▎                         | 337kB 9.1MB/s eta 0:00:01\r",
      "\u001b[K     |██████▌                         | 348kB 9.1MB/s eta 0:00:01\r",
      "\u001b[K     |██████▊                         | 358kB 9.1MB/s eta 0:00:01\r",
      "\u001b[K     |███████                         | 368kB 9.1MB/s eta 0:00:01\r",
      "\u001b[K     |███████                         | 378kB 9.1MB/s eta 0:00:01\r",
      "\u001b[K     |███████▎                        | 389kB 9.1MB/s eta 0:00:01\r",
      "\u001b[K     |███████▌                        | 399kB 9.1MB/s eta 0:00:01\r",
      "\u001b[K     |███████▋                        | 409kB 9.1MB/s eta 0:00:01\r",
      "\u001b[K     |███████▉                        | 419kB 9.1MB/s eta 0:00:01\r",
      "\u001b[K     |████████                        | 430kB 9.1MB/s eta 0:00:01\r",
      "\u001b[K     |████████▎                       | 440kB 9.1MB/s eta 0:00:01\r",
      "\u001b[K     |████████▍                       | 450kB 9.1MB/s eta 0:00:01\r",
      "\u001b[K     |████████▋                       | 460kB 9.1MB/s eta 0:00:01\r",
      "\u001b[K     |████████▉                       | 471kB 9.1MB/s eta 0:00:01\r",
      "\u001b[K     |█████████                       | 481kB 9.1MB/s eta 0:00:01\r",
      "\u001b[K     |█████████▏                      | 491kB 9.1MB/s eta 0:00:01\r",
      "\u001b[K     |█████████▍                      | 501kB 9.1MB/s eta 0:00:01\r",
      "\u001b[K     |█████████▋                      | 512kB 9.1MB/s eta 0:00:01\r",
      "\u001b[K     |█████████▊                      | 522kB 9.1MB/s eta 0:00:01\r",
      "\u001b[K     |██████████                      | 532kB 9.1MB/s eta 0:00:01\r",
      "\u001b[K     |██████████▏                     | 542kB 9.1MB/s eta 0:00:01\r",
      "\u001b[K     |██████████▍                     | 552kB 9.1MB/s eta 0:00:01\r",
      "\u001b[K     |██████████▌                     | 563kB 9.1MB/s eta 0:00:01\r",
      "\u001b[K     |██████████▊                     | 573kB 9.1MB/s eta 0:00:01\r",
      "\u001b[K     |███████████                     | 583kB 9.1MB/s eta 0:00:01\r",
      "\u001b[K     |███████████                     | 593kB 9.1MB/s eta 0:00:01\r",
      "\u001b[K     |███████████▎                    | 604kB 9.1MB/s eta 0:00:01\r",
      "\u001b[K     |███████████▌                    | 614kB 9.1MB/s eta 0:00:01\r",
      "\u001b[K     |███████████▊                    | 624kB 9.1MB/s eta 0:00:01\r",
      "\u001b[K     |███████████▉                    | 634kB 9.1MB/s eta 0:00:01\r",
      "\u001b[K     |████████████                    | 645kB 9.1MB/s eta 0:00:01\r",
      "\u001b[K     |████████████▎                   | 655kB 9.1MB/s eta 0:00:01\r",
      "\u001b[K     |████████████▍                   | 665kB 9.1MB/s eta 0:00:01\r",
      "\u001b[K     |████████████▋                   | 675kB 9.1MB/s eta 0:00:01\r",
      "\u001b[K     |████████████▉                   | 686kB 9.1MB/s eta 0:00:01\r",
      "\u001b[K     |█████████████                   | 696kB 9.1MB/s eta 0:00:01\r",
      "\u001b[K     |█████████████▏                  | 706kB 9.1MB/s eta 0:00:01\r",
      "\u001b[K     |█████████████▍                  | 716kB 9.1MB/s eta 0:00:01\r",
      "\u001b[K     |█████████████▋                  | 727kB 9.1MB/s eta 0:00:01\r",
      "\u001b[K     |█████████████▉                  | 737kB 9.1MB/s eta 0:00:01\r",
      "\u001b[K     |██████████████                  | 747kB 9.1MB/s eta 0:00:01\r",
      "\u001b[K     |██████████████▏                 | 757kB 9.1MB/s eta 0:00:01\r",
      "\u001b[K     |██████████████▍                 | 768kB 9.1MB/s eta 0:00:01\r",
      "\u001b[K     |██████████████▌                 | 778kB 9.1MB/s eta 0:00:01\r",
      "\u001b[K     |██████████████▊                 | 788kB 9.1MB/s eta 0:00:01\r",
      "\u001b[K     |███████████████                 | 798kB 9.1MB/s eta 0:00:01\r",
      "\u001b[K     |███████████████▏                | 808kB 9.1MB/s eta 0:00:01\r",
      "\u001b[K     |███████████████▎                | 819kB 9.1MB/s eta 0:00:01\r",
      "\u001b[K     |███████████████▌                | 829kB 9.1MB/s eta 0:00:01\r",
      "\u001b[K     |███████████████▊                | 839kB 9.1MB/s eta 0:00:01\r",
      "\u001b[K     |███████████████▉                | 849kB 9.1MB/s eta 0:00:01\r",
      "\u001b[K     |████████████████                | 860kB 9.1MB/s eta 0:00:01\r",
      "\u001b[K     |████████████████▎               | 870kB 9.1MB/s eta 0:00:01\r",
      "\u001b[K     |████████████████▌               | 880kB 9.1MB/s eta 0:00:01\r",
      "\u001b[K     |████████████████▋               | 890kB 9.1MB/s eta 0:00:01\r",
      "\u001b[K     |████████████████▉               | 901kB 9.1MB/s eta 0:00:01\r",
      "\u001b[K     |█████████████████               | 911kB 9.1MB/s eta 0:00:01\r",
      "\u001b[K     |█████████████████▎              | 921kB 9.1MB/s eta 0:00:01\r",
      "\u001b[K     |█████████████████▍              | 931kB 9.1MB/s eta 0:00:01\r",
      "\u001b[K     |█████████████████▋              | 942kB 9.1MB/s eta 0:00:01\r",
      "\u001b[K     |█████████████████▉              | 952kB 9.1MB/s eta 0:00:01\r",
      "\u001b[K     |██████████████████              | 962kB 9.1MB/s eta 0:00:01\r",
      "\u001b[K     |██████████████████▏             | 972kB 9.1MB/s eta 0:00:01\r",
      "\u001b[K     |██████████████████▍             | 983kB 9.1MB/s eta 0:00:01\r",
      "\u001b[K     |██████████████████▋             | 993kB 9.1MB/s eta 0:00:01\r",
      "\u001b[K     |██████████████████▊             | 1.0MB 9.1MB/s eta 0:00:01\r",
      "\u001b[K     |███████████████████             | 1.0MB 9.1MB/s eta 0:00:01\r",
      "\u001b[K     |███████████████████▏            | 1.0MB 9.1MB/s eta 0:00:01\r",
      "\u001b[K     |███████████████████▎            | 1.0MB 9.1MB/s eta 0:00:01\r",
      "\u001b[K     |███████████████████▌            | 1.0MB 9.1MB/s eta 0:00:01\r",
      "\u001b[K     |███████████████████▊            | 1.1MB 9.1MB/s eta 0:00:01\r",
      "\u001b[K     |████████████████████            | 1.1MB 9.1MB/s eta 0:00:01\r",
      "\u001b[K     |████████████████████            | 1.1MB 9.1MB/s eta 0:00:01\r",
      "\u001b[K     |████████████████████▎           | 1.1MB 9.1MB/s eta 0:00:01\r",
      "\u001b[K     |████████████████████▌           | 1.1MB 9.1MB/s eta 0:00:01\r",
      "\u001b[K     |████████████████████▊           | 1.1MB 9.1MB/s eta 0:00:01\r",
      "\u001b[K     |████████████████████▉           | 1.1MB 9.1MB/s eta 0:00:01\r",
      "\u001b[K     |█████████████████████           | 1.1MB 9.1MB/s eta 0:00:01\r",
      "\u001b[K     |█████████████████████▎          | 1.1MB 9.1MB/s eta 0:00:01\r",
      "\u001b[K     |█████████████████████▍          | 1.1MB 9.1MB/s eta 0:00:01\r",
      "\u001b[K     |█████████████████████▋          | 1.2MB 9.1MB/s eta 0:00:01\r",
      "\u001b[K     |█████████████████████▉          | 1.2MB 9.1MB/s eta 0:00:01\r",
      "\u001b[K     |██████████████████████          | 1.2MB 9.1MB/s eta 0:00:01\r",
      "\u001b[K     |██████████████████████▏         | 1.2MB 9.1MB/s eta 0:00:01\r",
      "\u001b[K     |██████████████████████▍         | 1.2MB 9.1MB/s eta 0:00:01\r",
      "\u001b[K     |██████████████████████▋         | 1.2MB 9.1MB/s eta 0:00:01\r",
      "\u001b[K     |██████████████████████▊         | 1.2MB 9.1MB/s eta 0:00:01\r",
      "\u001b[K     |███████████████████████         | 1.2MB 9.1MB/s eta 0:00:01\r",
      "\u001b[K     |███████████████████████▏        | 1.2MB 9.1MB/s eta 0:00:01\r",
      "\u001b[K     |███████████████████████▍        | 1.2MB 9.1MB/s eta 0:00:01\r",
      "\u001b[K     |███████████████████████▌        | 1.3MB 9.1MB/s eta 0:00:01\r",
      "\u001b[K     |███████████████████████▊        | 1.3MB 9.1MB/s eta 0:00:01\r",
      "\u001b[K     |████████████████████████        | 1.3MB 9.1MB/s eta 0:00:01\r",
      "\u001b[K     |████████████████████████▏       | 1.3MB 9.1MB/s eta 0:00:01\r",
      "\u001b[K     |████████████████████████▎       | 1.3MB 9.1MB/s eta 0:00:01\r",
      "\u001b[K     |████████████████████████▌       | 1.3MB 9.1MB/s eta 0:00:01\r",
      "\u001b[K     |████████████████████████▊       | 1.3MB 9.1MB/s eta 0:00:01\r",
      "\u001b[K     |████████████████████████▉       | 1.3MB 9.1MB/s eta 0:00:01\r",
      "\u001b[K     |█████████████████████████       | 1.3MB 9.1MB/s eta 0:00:01\r",
      "\u001b[K     |█████████████████████████▎      | 1.4MB 9.1MB/s eta 0:00:01\r",
      "\u001b[K     |█████████████████████████▌      | 1.4MB 9.1MB/s eta 0:00:01\r",
      "\u001b[K     |█████████████████████████▋      | 1.4MB 9.1MB/s eta 0:00:01\r",
      "\u001b[K     |█████████████████████████▉      | 1.4MB 9.1MB/s eta 0:00:01\r",
      "\u001b[K     |██████████████████████████      | 1.4MB 9.1MB/s eta 0:00:01\r",
      "\u001b[K     |██████████████████████████▏     | 1.4MB 9.1MB/s eta 0:00:01\r",
      "\u001b[K     |██████████████████████████▍     | 1.4MB 9.1MB/s eta 0:00:01\r",
      "\u001b[K     |██████████████████████████▋     | 1.4MB 9.1MB/s eta 0:00:01\r",
      "\u001b[K     |██████████████████████████▉     | 1.4MB 9.1MB/s eta 0:00:01\r",
      "\u001b[K     |███████████████████████████     | 1.4MB 9.1MB/s eta 0:00:01\r",
      "\u001b[K     |███████████████████████████▏    | 1.5MB 9.1MB/s eta 0:00:01\r",
      "\u001b[K     |███████████████████████████▍    | 1.5MB 9.1MB/s eta 0:00:01\r",
      "\u001b[K     |███████████████████████████▋    | 1.5MB 9.1MB/s eta 0:00:01\r",
      "\u001b[K     |███████████████████████████▊    | 1.5MB 9.1MB/s eta 0:00:01\r",
      "\u001b[K     |████████████████████████████    | 1.5MB 9.1MB/s eta 0:00:01\r",
      "\u001b[K     |████████████████████████████▏   | 1.5MB 9.1MB/s eta 0:00:01\r",
      "\u001b[K     |████████████████████████████▎   | 1.5MB 9.1MB/s eta 0:00:01\r",
      "\u001b[K     |████████████████████████████▌   | 1.5MB 9.1MB/s eta 0:00:01\r",
      "\u001b[K     |████████████████████████████▊   | 1.5MB 9.1MB/s eta 0:00:01\r",
      "\u001b[K     |█████████████████████████████   | 1.5MB 9.1MB/s eta 0:00:01\r",
      "\u001b[K     |█████████████████████████████   | 1.6MB 9.1MB/s eta 0:00:01\r",
      "\u001b[K     |█████████████████████████████▎  | 1.6MB 9.1MB/s eta 0:00:01\r",
      "\u001b[K     |█████████████████████████████▌  | 1.6MB 9.1MB/s eta 0:00:01\r",
      "\u001b[K     |█████████████████████████████▋  | 1.6MB 9.1MB/s eta 0:00:01\r",
      "\u001b[K     |█████████████████████████████▉  | 1.6MB 9.1MB/s eta 0:00:01\r",
      "\u001b[K     |██████████████████████████████  | 1.6MB 9.1MB/s eta 0:00:01\r",
      "\u001b[K     |██████████████████████████████▎ | 1.6MB 9.1MB/s eta 0:00:01\r",
      "\u001b[K     |██████████████████████████████▍ | 1.6MB 9.1MB/s eta 0:00:01\r",
      "\u001b[K     |██████████████████████████████▋ | 1.6MB 9.1MB/s eta 0:00:01\r",
      "\u001b[K     |██████████████████████████████▉ | 1.6MB 9.1MB/s eta 0:00:01\r",
      "\u001b[K     |███████████████████████████████ | 1.7MB 9.1MB/s eta 0:00:01\r",
      "\u001b[K     |███████████████████████████████▏| 1.7MB 9.1MB/s eta 0:00:01\r",
      "\u001b[K     |███████████████████████████████▍| 1.7MB 9.1MB/s eta 0:00:01\r",
      "\u001b[K     |███████████████████████████████▋| 1.7MB 9.1MB/s eta 0:00:01\r",
      "\u001b[K     |███████████████████████████████▊| 1.7MB 9.1MB/s eta 0:00:01\r",
      "\u001b[K     |████████████████████████████████| 1.7MB 9.1MB/s eta 0:00:01\r",
      "\u001b[K     |████████████████████████████████| 1.7MB 9.1MB/s \n",
      "\u001b[?25hCollecting rouge\n",
      "  Downloading https://files.pythonhosted.org/packages/43/cc/e18e33be20971ff73a056ebdb023476b5a545e744e3fc22acd8c758f1e0d/rouge-1.0.0-py3-none-any.whl\n",
      "Requirement already satisfied: Click>=7.0 in /usr/local/lib/python3.7/dist-packages (from youtokentome) (8.0.0)\n",
      "Requirement already satisfied: six in /usr/local/lib/python3.7/dist-packages (from rouge) (1.15.0)\n",
      "Installing collected packages: youtokentome, rouge\n",
      "Successfully installed rouge-1.0.0 youtokentome-1.0.6\n"
     ]
    }
   ],
   "source": [
    "!pip install youtokentome rouge"
   ]
  },
  {
   "cell_type": "code",
   "execution_count": null,
   "metadata": {
    "id": "J3efToQGRMcI"
   },
   "outputs": [],
   "source": [
    "import json\n",
    "from rouge import Rouge\n",
    "import youtokentome as yttm\n",
    "from tqdm.notebook import tqdm"
   ]
  },
  {
   "cell_type": "code",
   "execution_count": null,
   "metadata": {
    "id": "9lHGCEssPz8i"
   },
   "outputs": [],
   "source": [
    "with open ('summa_data_train.json', encoding='utf-8') as f:\n",
    "  data_train = json.load(f)\n",
    "\n",
    "with open ('summa_data_val.json', encoding='utf-8') as f:\n",
    "  data_val = json.load(f)\n",
    "\n",
    "with open ('summa_data_test.json', encoding='utf-8') as f:\n",
    "  data_test = json.load(f)"
   ]
  },
  {
   "cell_type": "markdown",
   "metadata": {
    "id": "g5E--_UH4ilJ"
   },
   "source": [
    "Функция для создания временного файла, необходимого для BPE кодирования"
   ]
  },
  {
   "cell_type": "code",
   "execution_count": null,
   "metadata": {
    "colab": {
     "base_uri": "https://localhost:8080/",
     "height": 66,
     "referenced_widgets": [
      "4a0b307039104378aa4a44996e592454",
      "8a69c26db91f4fe2839281fabc9e5f7b",
      "ba26826db3cf4ce6b9701c90a6075a73",
      "517454ed71cf471f9ac48ed0556bb259",
      "dcb5e8b4580b4637aea85aac93eaf154",
      "fccd45f51cd24b258861e14d2938b3dc",
      "151c1f570a9e4482a786630910fb903b",
      "7e1c23edfa3e4ca4916aa1b66a56e0b8"
     ]
    },
    "id": "L5ObkDcGNJA2",
    "outputId": "39b1b8af-3321-4a9e-d41d-a1c7c95294bd"
   },
   "outputs": [
    {
     "data": {
      "application/vnd.jupyter.widget-view+json": {
       "model_id": "4a0b307039104378aa4a44996e592454",
       "version_major": 2,
       "version_minor": 0
      },
      "text/plain": [
       "HBox(children=(FloatProgress(value=0.0, max=12925.0), HTML(value='')))"
      ]
     },
     "metadata": {
      "tags": []
     },
     "output_type": "display_data"
    },
    {
     "name": "stdout",
     "output_type": "stream",
     "text": [
      "\n"
     ]
    }
   ],
   "source": [
    "def train_bpe(records, model_path, model_type=\"bpe\", vocab_size=10000):\n",
    "    temp_file_name = \"temp.txt\"\n",
    "    with open(temp_file_name, \"w\") as temp:\n",
    "      for item in tqdm(records.keys()):\n",
    "        temp.write(records[item]['text'] + \"\\n\")\n",
    "        temp.write(records[item]['summary'] + \"\\n\")\n",
    "    yttm.BPE.train(data=temp_file_name, vocab_size=vocab_size, model=model_path)\n",
    "\n",
    "train_bpe(data_train, \"BPE_model.bin\")"
   ]
  },
  {
   "cell_type": "markdown",
   "metadata": {},
   "source": [
    "Создание объекта с BPE токенизатором (он будет нужен для получения предсказаний) и словаря"
   ]
  },
  {
   "cell_type": "code",
   "execution_count": null,
   "metadata": {
    "id": "CtcRU7NlSczN"
   },
   "outputs": [],
   "source": [
    "bpe_processor = yttm.BPE('BPE_model.bin')\n",
    "vocabulary = bpe_processor.vocab()"
   ]
  },
  {
   "cell_type": "markdown",
   "metadata": {},
   "source": [
    "Добавление валидационной выборки:"
   ]
  },
  {
   "cell_type": "code",
   "execution_count": null,
   "metadata": {
    "id": "BWquO-FNq024"
   },
   "outputs": [],
   "source": [
    "from sklearn.model_selection import train_test_split\n",
    "\n",
    "_, val_keys = train_test_split(list(data_train.keys()), test_size=0.15, random_state=10)\n",
    "\n",
    "data_val = {}\n",
    "\n",
    "for k in val_keys:\n",
    "  data_val[k] = data_train[k]\n",
    "  data_train.pop(k)"
   ]
  },
  {
   "cell_type": "code",
   "execution_count": null,
   "metadata": {
    "colab": {
     "base_uri": "https://localhost:8080/"
    },
    "id": "iMvvF8W2TPIg",
    "outputId": "3f812515-67ff-4dca-d1c8-30f3bb265df8"
   },
   "outputs": [
    {
     "name": "stdout",
     "output_type": "stream",
     "text": [
      "[nltk_data] Downloading package punkt to /root/nltk_data...\n",
      "[nltk_data]   Package punkt is already up-to-date!\n"
     ]
    },
    {
     "data": {
      "text/plain": [
       "True"
      ]
     },
     "execution_count": 8,
     "metadata": {
      "tags": []
     },
     "output_type": "execute_result"
    }
   ],
   "source": [
    "import math\n",
    "import nltk\n",
    "import numpy as np\n",
    "from nltk import sent_tokenize\n",
    "\n",
    "nltk.download('punkt')"
   ]
  },
  {
   "cell_type": "markdown",
   "metadata": {
    "id": "5pw3eD-pr7vu"
   },
   "source": [
    "За основу были взяты материалы семинаров Школы глубокого обучения на базе ФПМИ МФТИ (https://www.dlschool.org)"
   ]
  },
  {
   "cell_type": "code",
   "execution_count": null,
   "metadata": {
    "colab": {
     "base_uri": "https://localhost:8080/"
    },
    "id": "Rq_e6XkWSdfq",
    "outputId": "d8bb781d-a048-4c43-936f-5a450d94055e"
   },
   "outputs": [
    {
     "data": {
      "text/plain": [
       "device(type='cuda')"
      ]
     },
     "execution_count": 5,
     "metadata": {
      "tags": []
     },
     "output_type": "execute_result"
    }
   ],
   "source": [
    "import torch\n",
    "device = torch.device('cuda' if torch.cuda.is_available() else 'cpu')\n",
    "device"
   ]
  },
  {
   "cell_type": "markdown",
   "metadata": {},
   "source": [
    "В качестве верных меток алгоритм берет индексы предложений входящих в итоговое summary. Так как в авторских аннотациях это невозможо - они написаны с нуля и не содержат в себе исходных предложений судебного документа - то нужно сгенерировать такие summary, которые максимально похожи на образцовые, т.е. метрика ROUGE максимально высока"
   ]
  },
  {
   "cell_type": "code",
   "execution_count": null,
   "metadata": {
    "id": "FNQR2HR0VqEn"
   },
   "outputs": [],
   "source": [
    "import copy\n",
    "\n",
    "def build_oracle_summary_greedy(text, gold_summary, calc_score, max_sentences=100):\n",
    "    '''\n",
    "    Жадное построение oracle summary\n",
    "    '''\n",
    "    sentences = [s for s in sent_tokenize(text) if len(s)>1][:max_sentences]\n",
    "    n_sentences = len(sentences)\n",
    "    oracle_summary_sentences = set()\n",
    "    \n",
    "    score = -1.0\n",
    "    summaries = []\n",
    "    for _ in range(n_sentences):\n",
    "        for i in range(n_sentences):\n",
    "            if i in oracle_summary_sentences:\n",
    "                continue\n",
    "            current_summary_sentences = copy.copy(oracle_summary_sentences)\n",
    "            # Добавляем какое-то предложения к уже существующему summary\n",
    "            current_summary_sentences.add(i)\n",
    "            current_summary = \" \".join([sentences[index] for index in sorted(list(current_summary_sentences))])\n",
    "            # Считаем метрики\n",
    "            if current_summary == '':\n",
    "              print('привет')\n",
    "            current_score = calc_score(current_summary, gold_summary)\n",
    "            summaries.append((current_score, current_summary_sentences))\n",
    "        # Если получилось улучшить метрики с добавлением какого-либо предложения, то пробуем добавить ещё\n",
    "        # Иначе на этом заканчиваем\n",
    "        best_summary_score, best_summary_sentences = max(summaries)\n",
    "        if best_summary_score <= score:\n",
    "            break\n",
    "        oracle_summary_sentences = best_summary_sentences\n",
    "        score = best_summary_score\n",
    "    oracle_summary = \" \".join([sentences[index] for index in sorted(list(oracle_summary_sentences))])\n",
    "    return oracle_summary, oracle_summary_sentences\n",
    "\n",
    "def calc_single_score(pred_summary, gold_summary, rouge):\n",
    "  if len([pred_summary])<=0:\n",
    "    print(pred_summary)\n",
    "  return rouge.get_scores([pred_summary], [gold_summary], avg=True)['rouge-2']['f']"
   ]
  },
  {
   "cell_type": "markdown",
   "metadata": {},
   "source": [
    "Сохраним эти сгенерированные аннотации в общий словарь с данными"
   ]
  },
  {
   "cell_type": "code",
   "execution_count": null,
   "metadata": {
    "colab": {
     "base_uri": "https://localhost:8080/",
     "height": 66,
     "referenced_widgets": [
      "c4adb2d20f2146a78acae2976577a1b5",
      "07b25fcc7adc491bb9a431b9b2bc2bf3",
      "72ecdbe0fa964b52a74ddf94f310d98b",
      "e66d52d34ec94860ba534d963fa08e6f",
      "48e15c8a217d4af0b1703fa2af0fc713",
      "483499a137e147c78ae5e0c95d9be97a",
      "ab95d37e3960460980ab110df0519387",
      "9bea6a19196b42cf9bbd1f904c918d91"
     ]
    },
    "id": "AsYHGVJ-wd20",
    "outputId": "8c4c252f-e154-420c-bee2-d78cbde3941e"
   },
   "outputs": [
    {
     "data": {
      "application/vnd.jupyter.widget-view+json": {
       "model_id": "c4adb2d20f2146a78acae2976577a1b5",
       "version_major": 2,
       "version_minor": 0
      },
      "text/plain": [
       "HBox(children=(FloatProgress(value=0.0, max=12925.0), HTML(value='')))"
      ]
     },
     "metadata": {
      "tags": []
     },
     "output_type": "display_data"
    },
    {
     "name": "stdout",
     "output_type": "stream",
     "text": [
      "\n"
     ]
    }
   ],
   "source": [
    "rouge = Rouge()\n",
    "for i in tqdm(data_train.keys()):\n",
    "        text = data_train[i][\"text\"]\n",
    "        summary = data_train[i][\"summary\"]\n",
    "\n",
    "        sentences = [s for s in sent_tokenize(text) if len(s)>0][:100]\n",
    "        oracle_summary, sentences_indicies = build_oracle_summary_greedy(text, summary, calc_score=lambda x, y: calc_single_score(x, y, rouge))\n",
    "        data_train[i][\"sentences\"] = sentences\n",
    "        data_train[i][\"oracle_sentences\"] = list(sentences_indicies)\n",
    "        data_train[i][\"oracle_summary\"] = oracle_summary"
   ]
  },
  {
   "cell_type": "markdown",
   "metadata": {},
   "source": [
    "То же самое для валидационной и тестовой выборок"
   ]
  },
  {
   "cell_type": "code",
   "execution_count": null,
   "metadata": {
    "colab": {
     "base_uri": "https://localhost:8080/",
     "height": 66,
     "referenced_widgets": [
      "2d41d2e130c04574bf9d575d838ab6dd",
      "890dc55a64444afabe0e6402f8c6d4ef",
      "d03f4d02942149abbcedb731349903ff",
      "81fd213651014916af815ab17b1fe062",
      "b5d1b62e20a5484ab0319dc98344521c",
      "e78f29bc53fa4d2386e8fc9797b7b1fc",
      "5f52ec9ef7d4406b81b67562346f00d8",
      "fedfe3cbda7c4dfd8dc48d7ea74c4d46"
     ]
    },
    "id": "SQQxFtveVnmr",
    "outputId": "ae381b50-fe09-4c92-d04b-52b28b603f19"
   },
   "outputs": [
    {
     "data": {
      "application/vnd.jupyter.widget-view+json": {
       "model_id": "2d41d2e130c04574bf9d575d838ab6dd",
       "version_major": 2,
       "version_minor": 0
      },
      "text/plain": [
       "HBox(children=(FloatProgress(value=0.0, max=2282.0), HTML(value='')))"
      ]
     },
     "metadata": {
      "tags": []
     },
     "output_type": "display_data"
    },
    {
     "name": "stdout",
     "output_type": "stream",
     "text": [
      "\n"
     ]
    }
   ],
   "source": [
    "for i in tqdm(data_val.keys()):\n",
    "        text = data_val[i][\"text\"]\n",
    "        summary = data_val[i][\"summary\"]\n",
    "\n",
    "        sentences = [s for s in sent_tokenize(text) if len(s)>0][:100]\n",
    "        oracle_summary, sentences_indicies = build_oracle_summary_greedy(text, summary, calc_score=lambda x, y: calc_single_score(x, y, rouge))\n",
    "        data_val[i][\"sentences\"] = sentences\n",
    "        data_val[i][\"oracle_sentences\"] = list(sentences_indicies)\n",
    "        data_val[i][\"oracle_summary\"] = oracle_summary"
   ]
  },
  {
   "cell_type": "code",
   "execution_count": null,
   "metadata": {
    "colab": {
     "base_uri": "https://localhost:8080/",
     "height": 66,
     "referenced_widgets": [
      "015d1a18acb94c09b74923325684ddb8",
      "3185042e628444289a88c18d081ef6c6",
      "ee54ffec3bb548748afa6adf26bb6092",
      "f8b6541abc9b43059eedf5b5ac2e1c1c",
      "5af37bd33ec74aa09296fec3959be3c7",
      "0272aee3390f4d429a1ea4882168c6ec",
      "4b50657cd6c84e6d96054aea42c4479b",
      "5aa85ffc8b2346e28cd8c747bd975306"
     ]
    },
    "id": "Kjaul1OrV77q",
    "outputId": "5dedf0c6-9047-42b2-fcb5-23a1987a9e77"
   },
   "outputs": [
    {
     "data": {
      "application/vnd.jupyter.widget-view+json": {
       "model_id": "015d1a18acb94c09b74923325684ddb8",
       "version_major": 2,
       "version_minor": 0
      },
      "text/plain": [
       "HBox(children=(FloatProgress(value=0.0, max=2684.0), HTML(value='')))"
      ]
     },
     "metadata": {
      "tags": []
     },
     "output_type": "display_data"
    },
    {
     "name": "stdout",
     "output_type": "stream",
     "text": [
      "\n"
     ]
    }
   ],
   "source": [
    "for i in tqdm(data_test.keys()):\n",
    "        text = data_test[i][\"text\"]\n",
    "        summary = data_test[i][\"summary\"]\n",
    "\n",
    "        sentences = [s for s in sent_tokenize(text) if len(s)>0][:100]\n",
    "        oracle_summary, sentences_indicies = build_oracle_summary_greedy(text, summary, calc_score=lambda x, y: calc_single_score(x, y, rouge))\n",
    "        data_test[i][\"sentences\"] = sentences\n",
    "        data_test[i][\"oracle_sentences\"] = list(sentences_indicies)\n",
    "        data_test[i][\"oracle_summary\"] = oracle_summary"
   ]
  },
  {
   "cell_type": "markdown",
   "metadata": {},
   "source": [
    "Класс, который будет позволять итерироваться батчами по данным:"
   ]
  },
  {
   "cell_type": "code",
   "execution_count": null,
   "metadata": {
    "id": "wNarsYfPShfN"
   },
   "outputs": [],
   "source": [
    "class BatchIterator():\n",
    "    def __init__(self, records, vocabulary, batch_size, bpe_processor, shuffle=True, max_sentences=100, max_sentence_length=50, device=torch.device('cpu')):\n",
    "        self.records = records\n",
    "        self.num_samples = len(records)\n",
    "        self.batch_size = batch_size\n",
    "        self.bpe_processor = bpe_processor\n",
    "        self.shuffle = shuffle\n",
    "        self.batches_count = int(math.ceil(self.num_samples / batch_size))\n",
    "        self.rouge = Rouge()\n",
    "        self.vocabulary = vocabulary\n",
    "        self.max_sentences = max_sentences\n",
    "        self.max_sentence_length = max_sentence_length\n",
    "        self.device = device\n",
    "        \n",
    "    def __len__(self):\n",
    "        return self.batches_count\n",
    "    \n",
    "    def __iter__(self):\n",
    "        indices = list(self.records.keys())\n",
    "        if self.shuffle:\n",
    "            np.random.shuffle(indices)\n",
    "\n",
    "        for start in range(0, self.num_samples, self.batch_size):\n",
    "            end = min(start + self.batch_size, self.num_samples)\n",
    "            batch_indices = indices[start:end]\n",
    "\n",
    "            batch_inputs = []\n",
    "            batch_outputs = []\n",
    "            max_sentence_length = 0\n",
    "            max_sentences = 0\n",
    "            batch_records = []\n",
    "\n",
    "            for data_ind in batch_indices:\n",
    "                \n",
    "                record = self.records[data_ind]\n",
    "                batch_records.append(record)\n",
    "                text = record[\"text\"]\n",
    "                summary = record[\"summary\"]\n",
    "                \n",
    "                sentences = record['sentences']\n",
    "                max_sentences = max(len(sentences), max_sentences)\n",
    "\n",
    "                sentences_indicies = record['oracle_sentences']\n",
    "\n",
    "                \n",
    "                # inputs - индексы слов в предложении\n",
    "                inputs = [bpe_processor.encode(sentence)[:self.max_sentence_length] for sentence in sentences]\n",
    "                max_sentence_length = max(max_sentence_length, max([len(tokens) for tokens in inputs]))\n",
    "                \n",
    "                # получение метки класса предложения\n",
    "                outputs = [int(i in sentences_indicies) for i in range(len(sentences))]\n",
    "                batch_inputs.append(inputs)\n",
    "                batch_outputs.append(outputs)\n",
    "\n",
    "            tensor_inputs = torch.zeros((self.batch_size, max_sentences, max_sentence_length), dtype=torch.long, device=self.device)\n",
    "            tensor_outputs = torch.zeros((self.batch_size, max_sentences), dtype=torch.float32, device=self.device)\n",
    "\n",
    "\n",
    "            for i, inputs in enumerate(batch_inputs):\n",
    "                for j, sentence_tokens in enumerate(inputs):\n",
    "                    tensor_inputs[i][j][:len(sentence_tokens)] = torch.LongTensor(sentence_tokens)\n",
    "\n",
    "            for i, outputs in enumerate(batch_outputs):\n",
    "                tensor_outputs[i][:len(outputs)] = torch.LongTensor(outputs)\n",
    "\n",
    "            yield {\n",
    "                'inputs': tensor_inputs,\n",
    "                'outputs': tensor_outputs,\n",
    "                'records': batch_records\n",
    "            }"
   ]
  },
  {
   "cell_type": "code",
   "execution_count": null,
   "metadata": {
    "id": "OSYsJfz7rHub"
   },
   "outputs": [],
   "source": [
    "train_iterator = BatchIterator(data_train, vocabulary, 10, bpe_processor, device=device)\n",
    "val_iterator = BatchIterator(data_val, vocabulary, 10, bpe_processor, device=device)\n",
    "test_iterator = BatchIterator(data_test, vocabulary, 10, bpe_processor, device=device)"
   ]
  },
  {
   "cell_type": "markdown",
   "metadata": {},
   "source": [
    "Главный цикл обучения модели:"
   ]
  },
  {
   "cell_type": "code",
   "execution_count": null,
   "metadata": {
    "id": "eSpKbwQorwI3"
   },
   "outputs": [],
   "source": [
    "import torch.nn as nn\n",
    "import torch.optim as optim\n",
    "import time\n",
    "\n",
    "def train_model(model, train_iterator, val_iterator, vocabulary, bpe_processor,\n",
    "                epochs_count=2, loss_every_nsteps=16, lr=0.001, device_name=\"cuda\"):\n",
    "\n",
    "    \n",
    "    params_count = sum(p.numel() for p in model.parameters() if p.requires_grad)\n",
    "    print(\"Trainable params: {}\".format(params_count))\n",
    "\n",
    "    device = torch.device(device_name)\n",
    "    model = model.to(device)\n",
    "\n",
    "    total_loss = 0\n",
    "    start_time = time.time()\n",
    "\n",
    "    optimizer = optim.Adam(model.parameters(), lr=lr)\n",
    "    loss_function = nn.BCEWithLogitsLoss().to(device)\n",
    "\n",
    "    for epoch in range(epochs_count):\n",
    "        for step, batch in enumerate(train_iterator):\n",
    "\n",
    "            model.train()\n",
    "            logits = model(batch[\"inputs\"]) # Прямой проход\n",
    "\n",
    "            loss = loss_function(logits, batch[\"outputs\"]) # Подсчёт ошибки\n",
    "\n",
    "            optimizer.zero_grad() # Зануление градиентов, чтобы их спокойно менять на следующей итерации\n",
    "            loss.backward() # Подсчёт градиентов dL/dw\n",
    "            optimizer.step() # Градиентный спуск или его модификации (в данном случае Adam)\n",
    "            \n",
    "            total_loss += float(loss) \n",
    "            if step % loss_every_nsteps == 0 and step != 0:\n",
    "                val_total_loss = 0\n",
    "                val_batch_count = 0\n",
    "\n",
    "                model.eval()\n",
    "                with torch.no_grad():\n",
    "                  for _, val_batch in enumerate(val_iterator):\n",
    "                    logits = model(val_batch[\"inputs\"]) # Прямой проход\n",
    "                    val_total_loss += loss_function(logits, val_batch[\"outputs\"]) # Подсчёт ошибки\n",
    "                    val_batch_count += 1\n",
    "\n",
    "                  avg_val_loss = val_total_loss/val_batch_count\n",
    "                  print(\"Epoch = {}, Avg Train Loss = {:.4f}, Avg val loss = {:.4f}, Time = {:.2f}s\".format(epoch, total_loss / loss_every_nsteps, avg_val_loss, time.time() - start_time))\n",
    "                  total_loss = 0\n",
    "                  start_time = time.time()\n",
    "\n",
    "        total_loss = 0\n",
    "        start_time = time.time()"
   ]
  },
  {
   "cell_type": "markdown",
   "metadata": {},
   "source": [
    "Инициализация самой модели:"
   ]
  },
  {
   "cell_type": "code",
   "execution_count": null,
   "metadata": {
    "id": "ugbdRK5Ir7VY"
   },
   "outputs": [],
   "source": [
    "import torch.nn.functional as F\n",
    "import torch.optim as optim\n",
    "from torch.autograd import Variable\n",
    "\n",
    "\n",
    "class SentenceEncoderRNN(nn.Module):\n",
    "    def __init__(self, input_size, embedding_dim, hidden_size, n_layers=3, dropout=0.3, bidirectional=True):\n",
    "        super().__init__()\n",
    "\n",
    "        num_directions = 2 if bidirectional else 1\n",
    "        assert hidden_size % num_directions == 0\n",
    "        hidden_size = hidden_size // num_directions\n",
    "\n",
    "        self.embedding_dim = embedding_dim\n",
    "        self.input_size = input_size\n",
    "        self.hidden_size = hidden_size\n",
    "        self.n_layers = n_layers\n",
    "        self.dropout = dropout\n",
    "        self.bidirectional = bidirectional\n",
    "\n",
    "        self.embedding_layer = nn.Embedding(input_size, embedding_dim)\n",
    "        self.rnn_layer = nn.LSTM(embedding_dim, hidden_size, n_layers, dropout=dropout, bidirectional=bidirectional, batch_first=True)\n",
    "        self.dropout_layer = nn.Dropout(dropout)\n",
    "\n",
    "    def forward(self, inputs, hidden=None):\n",
    "        embedded = self.embedding_layer(inputs)\n",
    "        outputs, _ = self.rnn_layer(embedded, hidden)\n",
    "        sentences_embeddings = torch.mean(outputs, 1)\n",
    "        # [batch_size, hidden_size]\n",
    "        return sentences_embeddings\n",
    "\n",
    "class SentenceTaggerRNN(nn.Module):\n",
    "    def __init__(self,\n",
    "                 vocabulary_size,\n",
    "                 token_embedding_dim=256,\n",
    "                 sentence_encoder_hidden_size=256,\n",
    "                 hidden_size=256,\n",
    "                 bidirectional=True,\n",
    "                 sentence_encoder_n_layers=2,\n",
    "                 sentence_encoder_dropout=0.3,\n",
    "                 sentence_encoder_bidirectional=True,\n",
    "                 n_layers=1,\n",
    "                 dropout=0.3):\n",
    "        \n",
    "        super().__init__()\n",
    "\n",
    "        num_directions = 2 if bidirectional else 1\n",
    "        assert hidden_size % num_directions == 0\n",
    "        hidden_size = hidden_size // num_directions\n",
    "\n",
    "        self.hidden_size = hidden_size\n",
    "        self.n_layers = n_layers\n",
    "        self.dropout = dropout\n",
    "        self.bidirectional = bidirectional\n",
    "\n",
    "        self.sentence_encoder = SentenceEncoderRNN(vocabulary_size, token_embedding_dim,\n",
    "                                                   sentence_encoder_hidden_size, sentence_encoder_n_layers, \n",
    "                                                   sentence_encoder_dropout, sentence_encoder_bidirectional)\n",
    "        \n",
    "        self.rnn_layer = nn.LSTM(sentence_encoder_hidden_size, hidden_size, n_layers, dropout=dropout,\n",
    "                           bidirectional=bidirectional, batch_first=True)\n",
    "        \n",
    "        self.dropout_layer = nn.Dropout(dropout)\n",
    "        self.content_linear_layer = nn.Linear(hidden_size * 2, 1)\n",
    "        self.document_linear_layer = nn.Linear(hidden_size * 2, hidden_size * 2)\n",
    "        self.salience_linear_layer = nn.Linear(hidden_size * 2, hidden_size * 2)\n",
    "        self.tanh_layer = nn.Tanh()\n",
    "\n",
    "    def forward(self, inputs, hidden=None):\n",
    "\n",
    "        # [batch_size, seq num, seq_len]\n",
    "        batch_size = inputs.size(0)\n",
    "        sentences_count = inputs.size(1)\n",
    "        tokens_count = inputs.size(2)\n",
    "        inputs = inputs.reshape(-1, tokens_count)\n",
    "        # [batch_size * seq num, seq_len]\n",
    "\n",
    "        embedded_sentences = self.sentence_encoder(inputs)\n",
    "        embedded_sentences = embedded_sentences.reshape(batch_size, sentences_count, -1)\n",
    "        # [batch_size *  seq num, seq_len, hidden_size] -> [batch_size, seq num, hidden_size]\n",
    "\n",
    "        outputs, _ = self.rnn_layer(embedded_sentences, hidden)\n",
    "        outputs = self.dropout_layer(outputs)\n",
    "        # [batch_size, seq num, hidden_size]\n",
    "\n",
    "        document_embedding = self.tanh_layer(self.document_linear_layer(torch.mean(outputs, 1)))\n",
    "        # [batch_size, hidden_size]\n",
    "\n",
    "        # W * h^T\n",
    "        content = self.content_linear_layer(outputs).squeeze(2) # 1-representation\n",
    "        # [batch_size, seq num]\n",
    "\n",
    "        # h^T * W * d\n",
    "        salience = torch.bmm(outputs, self.salience_linear_layer(document_embedding).unsqueeze(2)).squeeze(2) # 2-representation\n",
    "\n",
    "        # [batch_size, seq num, hidden_size] * [batch_size, hidden_size, 1] = [batch_size, seq num, ]\n",
    "        return content + salience"
   ]
  },
  {
   "cell_type": "markdown",
   "metadata": {},
   "source": [
    "Процесс обучения:"
   ]
  },
  {
   "cell_type": "code",
   "execution_count": null,
   "metadata": {
    "colab": {
     "base_uri": "https://localhost:8080/"
    },
    "id": "v7RSkoetsMIs",
    "outputId": "e957f0bb-321c-4e41-b7fe-b9f9a9ecc2c7"
   },
   "outputs": [
    {
     "name": "stderr",
     "output_type": "stream",
     "text": [
      "/usr/local/lib/python3.7/dist-packages/torch/nn/modules/rnn.py:63: UserWarning: dropout option adds dropout after all but last recurrent layer, so non-zero dropout expects num_layers greater than 1, but got dropout=0.3 and num_layers=1\n",
      "  \"num_layers={}\".format(dropout, num_layers))\n"
     ]
    },
    {
     "name": "stdout",
     "output_type": "stream",
     "text": [
      "Trainable params: 3877633\n",
      "Epoch = 0, Avg Train Loss = 0.2063, Avg val loss = 0.1289, Time = 8.51s\n",
      "Epoch = 0, Avg Train Loss = 0.1254, Avg val loss = 0.1183, Time = 8.29s\n",
      "Epoch = 0, Avg Train Loss = 0.1234, Avg val loss = 0.1122, Time = 8.35s\n",
      "Epoch = 0, Avg Train Loss = 0.1073, Avg val loss = 0.1079, Time = 8.43s\n",
      "Epoch = 0, Avg Train Loss = 0.1086, Avg val loss = 0.0994, Time = 8.63s\n",
      "Epoch = 0, Avg Train Loss = 0.1045, Avg val loss = 0.0981, Time = 8.56s\n",
      "Epoch = 0, Avg Train Loss = 0.0958, Avg val loss = 0.0928, Time = 8.65s\n",
      "Epoch = 0, Avg Train Loss = 0.1013, Avg val loss = 0.0931, Time = 8.52s\n",
      "Epoch = 0, Avg Train Loss = 0.0959, Avg val loss = 0.0914, Time = 8.68s\n",
      "Epoch = 0, Avg Train Loss = 0.1016, Avg val loss = 0.0932, Time = 8.73s\n",
      "Epoch = 0, Avg Train Loss = 0.0934, Avg val loss = 0.0894, Time = 8.72s\n",
      "Epoch = 0, Avg Train Loss = 0.0902, Avg val loss = 0.0875, Time = 8.77s\n",
      "Epoch = 0, Avg Train Loss = 0.0929, Avg val loss = 0.0878, Time = 8.75s\n",
      "Epoch = 0, Avg Train Loss = 0.0920, Avg val loss = 0.0895, Time = 8.73s\n",
      "Epoch = 0, Avg Train Loss = 0.0923, Avg val loss = 0.0855, Time = 8.71s\n",
      "Epoch = 0, Avg Train Loss = 0.0857, Avg val loss = 0.0855, Time = 8.69s\n",
      "Epoch = 0, Avg Train Loss = 0.0824, Avg val loss = 0.0888, Time = 8.70s\n",
      "Epoch = 0, Avg Train Loss = 0.0918, Avg val loss = 0.0921, Time = 8.61s\n",
      "Epoch = 0, Avg Train Loss = 0.0875, Avg val loss = 0.0854, Time = 8.62s\n",
      "Epoch = 0, Avg Train Loss = 0.0901, Avg val loss = 0.0840, Time = 8.74s\n",
      "Epoch = 0, Avg Train Loss = 0.0817, Avg val loss = 0.0871, Time = 8.85s\n",
      "Epoch = 0, Avg Train Loss = 0.0863, Avg val loss = 0.0845, Time = 8.82s\n",
      "Epoch = 0, Avg Train Loss = 0.0855, Avg val loss = 0.0825, Time = 8.70s\n",
      "Epoch = 0, Avg Train Loss = 0.0858, Avg val loss = 0.0834, Time = 8.67s\n",
      "Epoch = 0, Avg Train Loss = 0.0871, Avg val loss = 0.0842, Time = 8.65s\n",
      "Epoch = 0, Avg Train Loss = 0.0800, Avg val loss = 0.0827, Time = 8.72s\n",
      "Epoch = 0, Avg Train Loss = 0.0819, Avg val loss = 0.0822, Time = 8.76s\n",
      "Epoch = 0, Avg Train Loss = 0.0889, Avg val loss = 0.0830, Time = 8.68s\n",
      "Epoch = 0, Avg Train Loss = 0.0890, Avg val loss = 0.0832, Time = 8.71s\n",
      "Epoch = 0, Avg Train Loss = 0.0816, Avg val loss = 0.0874, Time = 8.81s\n",
      "Epoch = 0, Avg Train Loss = 0.0904, Avg val loss = 0.0828, Time = 8.68s\n",
      "Epoch = 0, Avg Train Loss = 0.0749, Avg val loss = 0.0829, Time = 8.74s\n",
      "Epoch = 0, Avg Train Loss = 0.0814, Avg val loss = 0.0835, Time = 8.79s\n",
      "Epoch = 0, Avg Train Loss = 0.0818, Avg val loss = 0.0831, Time = 8.75s\n",
      "Epoch = 0, Avg Train Loss = 0.0847, Avg val loss = 0.0837, Time = 8.73s\n",
      "Epoch = 0, Avg Train Loss = 0.0835, Avg val loss = 0.0824, Time = 8.67s\n",
      "Epoch = 0, Avg Train Loss = 0.0774, Avg val loss = 0.0819, Time = 8.77s\n",
      "Epoch = 0, Avg Train Loss = 0.0789, Avg val loss = 0.0817, Time = 8.86s\n",
      "Epoch = 0, Avg Train Loss = 0.0730, Avg val loss = 0.0839, Time = 8.81s\n",
      "Epoch = 0, Avg Train Loss = 0.0755, Avg val loss = 0.0805, Time = 8.81s\n",
      "Epoch = 0, Avg Train Loss = 0.0766, Avg val loss = 0.0831, Time = 8.65s\n",
      "Epoch = 0, Avg Train Loss = 0.0848, Avg val loss = 0.0828, Time = 8.72s\n",
      "Epoch = 0, Avg Train Loss = 0.0878, Avg val loss = 0.0809, Time = 8.78s\n",
      "Epoch = 0, Avg Train Loss = 0.0793, Avg val loss = 0.0806, Time = 8.70s\n",
      "Epoch = 0, Avg Train Loss = 0.0762, Avg val loss = 0.0808, Time = 8.82s\n",
      "Epoch = 0, Avg Train Loss = 0.0779, Avg val loss = 0.0798, Time = 8.69s\n",
      "Epoch = 0, Avg Train Loss = 0.0825, Avg val loss = 0.0800, Time = 8.76s\n",
      "Epoch = 0, Avg Train Loss = 0.0756, Avg val loss = 0.0796, Time = 8.83s\n",
      "Epoch = 0, Avg Train Loss = 0.0843, Avg val loss = 0.0798, Time = 8.68s\n",
      "Epoch = 0, Avg Train Loss = 0.0822, Avg val loss = 0.0789, Time = 8.71s\n",
      "Epoch = 0, Avg Train Loss = 0.0814, Avg val loss = 0.0824, Time = 8.84s\n",
      "Epoch = 0, Avg Train Loss = 0.0851, Avg val loss = 0.0828, Time = 8.61s\n",
      "Epoch = 0, Avg Train Loss = 0.0798, Avg val loss = 0.0794, Time = 8.79s\n",
      "Epoch = 0, Avg Train Loss = 0.0848, Avg val loss = 0.0781, Time = 8.76s\n",
      "Epoch = 0, Avg Train Loss = 0.0832, Avg val loss = 0.0779, Time = 8.74s\n",
      "Epoch = 0, Avg Train Loss = 0.0789, Avg val loss = 0.0793, Time = 8.65s\n",
      "Epoch = 0, Avg Train Loss = 0.0781, Avg val loss = 0.0785, Time = 8.74s\n",
      "Epoch = 0, Avg Train Loss = 0.0792, Avg val loss = 0.0799, Time = 8.84s\n",
      "Epoch = 0, Avg Train Loss = 0.0813, Avg val loss = 0.0786, Time = 8.82s\n",
      "Epoch = 0, Avg Train Loss = 0.0771, Avg val loss = 0.0778, Time = 8.79s\n",
      "Epoch = 0, Avg Train Loss = 0.0787, Avg val loss = 0.0779, Time = 8.75s\n",
      "Epoch = 0, Avg Train Loss = 0.0759, Avg val loss = 0.0791, Time = 8.73s\n",
      "Epoch = 0, Avg Train Loss = 0.0806, Avg val loss = 0.0787, Time = 8.78s\n",
      "Epoch = 0, Avg Train Loss = 0.0744, Avg val loss = 0.0795, Time = 8.74s\n",
      "Epoch = 0, Avg Train Loss = 0.0797, Avg val loss = 0.0789, Time = 8.69s\n",
      "Epoch = 0, Avg Train Loss = 0.0804, Avg val loss = 0.0780, Time = 8.63s\n",
      "Epoch = 0, Avg Train Loss = 0.0826, Avg val loss = 0.0771, Time = 8.72s\n",
      "Epoch = 0, Avg Train Loss = 0.0843, Avg val loss = 0.0768, Time = 8.59s\n",
      "Epoch = 0, Avg Train Loss = 0.0797, Avg val loss = 0.0776, Time = 8.73s\n",
      "Epoch = 0, Avg Train Loss = 0.0732, Avg val loss = 0.0772, Time = 8.87s\n",
      "Epoch = 0, Avg Train Loss = 0.0836, Avg val loss = 0.0802, Time = 8.67s\n",
      "Epoch = 0, Avg Train Loss = 0.0782, Avg val loss = 0.0804, Time = 8.56s\n",
      "Epoch = 0, Avg Train Loss = 0.0786, Avg val loss = 0.0774, Time = 8.78s\n",
      "Epoch = 0, Avg Train Loss = 0.0800, Avg val loss = 0.0803, Time = 8.68s\n",
      "Epoch = 0, Avg Train Loss = 0.0776, Avg val loss = 0.0777, Time = 8.75s\n",
      "Epoch = 0, Avg Train Loss = 0.0729, Avg val loss = 0.0778, Time = 8.71s\n",
      "Epoch = 0, Avg Train Loss = 0.0768, Avg val loss = 0.0779, Time = 8.77s\n",
      "Epoch = 0, Avg Train Loss = 0.0894, Avg val loss = 0.0768, Time = 8.63s\n",
      "Epoch = 0, Avg Train Loss = 0.0811, Avg val loss = 0.0777, Time = 8.76s\n",
      "Epoch = 0, Avg Train Loss = 0.0834, Avg val loss = 0.0780, Time = 8.60s\n",
      "Epoch = 1, Avg Train Loss = 0.0744, Avg val loss = 0.0780, Time = 8.85s\n",
      "Epoch = 1, Avg Train Loss = 0.0733, Avg val loss = 0.0800, Time = 8.82s\n",
      "Epoch = 1, Avg Train Loss = 0.0680, Avg val loss = 0.0767, Time = 8.78s\n",
      "Epoch = 1, Avg Train Loss = 0.0817, Avg val loss = 0.0767, Time = 8.70s\n",
      "Epoch = 1, Avg Train Loss = 0.0819, Avg val loss = 0.0771, Time = 8.70s\n",
      "Epoch = 1, Avg Train Loss = 0.0751, Avg val loss = 0.0762, Time = 8.64s\n",
      "Epoch = 1, Avg Train Loss = 0.0741, Avg val loss = 0.0764, Time = 8.69s\n",
      "Epoch = 1, Avg Train Loss = 0.0869, Avg val loss = 0.0773, Time = 8.62s\n",
      "Epoch = 1, Avg Train Loss = 0.0797, Avg val loss = 0.0783, Time = 8.66s\n",
      "Epoch = 1, Avg Train Loss = 0.0786, Avg val loss = 0.0764, Time = 8.67s\n",
      "Epoch = 1, Avg Train Loss = 0.0677, Avg val loss = 0.0785, Time = 8.77s\n",
      "Epoch = 1, Avg Train Loss = 0.0730, Avg val loss = 0.0820, Time = 8.70s\n",
      "Epoch = 1, Avg Train Loss = 0.0656, Avg val loss = 0.0811, Time = 8.75s\n",
      "Epoch = 1, Avg Train Loss = 0.0789, Avg val loss = 0.0767, Time = 8.68s\n",
      "Epoch = 1, Avg Train Loss = 0.0695, Avg val loss = 0.0778, Time = 8.61s\n",
      "Epoch = 1, Avg Train Loss = 0.0764, Avg val loss = 0.0761, Time = 8.68s\n",
      "Epoch = 1, Avg Train Loss = 0.0761, Avg val loss = 0.0773, Time = 8.69s\n",
      "Epoch = 1, Avg Train Loss = 0.0725, Avg val loss = 0.0804, Time = 8.63s\n",
      "Epoch = 1, Avg Train Loss = 0.0750, Avg val loss = 0.0816, Time = 8.70s\n",
      "Epoch = 1, Avg Train Loss = 0.0670, Avg val loss = 0.0774, Time = 8.81s\n",
      "Epoch = 1, Avg Train Loss = 0.0806, Avg val loss = 0.0755, Time = 8.63s\n",
      "Epoch = 1, Avg Train Loss = 0.0707, Avg val loss = 0.0765, Time = 8.76s\n",
      "Epoch = 1, Avg Train Loss = 0.0812, Avg val loss = 0.0778, Time = 8.64s\n",
      "Epoch = 1, Avg Train Loss = 0.0685, Avg val loss = 0.0782, Time = 8.79s\n",
      "Epoch = 1, Avg Train Loss = 0.0849, Avg val loss = 0.0782, Time = 8.64s\n",
      "Epoch = 1, Avg Train Loss = 0.0719, Avg val loss = 0.0765, Time = 8.81s\n",
      "Epoch = 1, Avg Train Loss = 0.0725, Avg val loss = 0.0774, Time = 8.71s\n",
      "Epoch = 1, Avg Train Loss = 0.0660, Avg val loss = 0.0772, Time = 8.74s\n",
      "Epoch = 1, Avg Train Loss = 0.0712, Avg val loss = 0.0755, Time = 8.84s\n",
      "Epoch = 1, Avg Train Loss = 0.0723, Avg val loss = 0.0801, Time = 8.79s\n",
      "Epoch = 1, Avg Train Loss = 0.0786, Avg val loss = 0.0765, Time = 8.75s\n",
      "Epoch = 1, Avg Train Loss = 0.0707, Avg val loss = 0.0767, Time = 8.68s\n",
      "Epoch = 1, Avg Train Loss = 0.0646, Avg val loss = 0.0778, Time = 8.87s\n",
      "Epoch = 1, Avg Train Loss = 0.0785, Avg val loss = 0.0770, Time = 8.72s\n",
      "Epoch = 1, Avg Train Loss = 0.0775, Avg val loss = 0.0785, Time = 8.59s\n",
      "Epoch = 1, Avg Train Loss = 0.0666, Avg val loss = 0.0807, Time = 8.76s\n",
      "Epoch = 1, Avg Train Loss = 0.0764, Avg val loss = 0.0795, Time = 8.72s\n",
      "Epoch = 1, Avg Train Loss = 0.0729, Avg val loss = 0.0790, Time = 8.70s\n",
      "Epoch = 1, Avg Train Loss = 0.0753, Avg val loss = 0.0746, Time = 8.89s\n",
      "Epoch = 1, Avg Train Loss = 0.0696, Avg val loss = 0.0769, Time = 8.77s\n",
      "Epoch = 1, Avg Train Loss = 0.0720, Avg val loss = 0.0760, Time = 8.74s\n",
      "Epoch = 1, Avg Train Loss = 0.0697, Avg val loss = 0.0796, Time = 8.72s\n",
      "Epoch = 1, Avg Train Loss = 0.0739, Avg val loss = 0.0768, Time = 8.73s\n",
      "Epoch = 1, Avg Train Loss = 0.0764, Avg val loss = 0.0778, Time = 8.81s\n",
      "Epoch = 1, Avg Train Loss = 0.0756, Avg val loss = 0.0759, Time = 8.77s\n",
      "Epoch = 1, Avg Train Loss = 0.0842, Avg val loss = 0.0765, Time = 8.64s\n",
      "Epoch = 1, Avg Train Loss = 0.0733, Avg val loss = 0.0765, Time = 8.72s\n",
      "Epoch = 1, Avg Train Loss = 0.0761, Avg val loss = 0.0776, Time = 8.68s\n",
      "Epoch = 1, Avg Train Loss = 0.0742, Avg val loss = 0.0747, Time = 8.78s\n",
      "Epoch = 1, Avg Train Loss = 0.0712, Avg val loss = 0.0755, Time = 8.64s\n",
      "Epoch = 1, Avg Train Loss = 0.0797, Avg val loss = 0.0756, Time = 8.70s\n",
      "Epoch = 1, Avg Train Loss = 0.0728, Avg val loss = 0.0781, Time = 8.69s\n",
      "Epoch = 1, Avg Train Loss = 0.0723, Avg val loss = 0.0748, Time = 8.77s\n",
      "Epoch = 1, Avg Train Loss = 0.0664, Avg val loss = 0.0780, Time = 8.69s\n",
      "Epoch = 1, Avg Train Loss = 0.0673, Avg val loss = 0.0766, Time = 8.73s\n",
      "Epoch = 1, Avg Train Loss = 0.0766, Avg val loss = 0.0781, Time = 8.64s\n",
      "Epoch = 1, Avg Train Loss = 0.0684, Avg val loss = 0.0757, Time = 8.85s\n",
      "Epoch = 1, Avg Train Loss = 0.0784, Avg val loss = 0.0762, Time = 8.70s\n",
      "Epoch = 1, Avg Train Loss = 0.0726, Avg val loss = 0.0756, Time = 8.65s\n",
      "Epoch = 1, Avg Train Loss = 0.0766, Avg val loss = 0.0766, Time = 8.64s\n",
      "Epoch = 1, Avg Train Loss = 0.0758, Avg val loss = 0.0756, Time = 8.64s\n",
      "Epoch = 1, Avg Train Loss = 0.0669, Avg val loss = 0.0769, Time = 8.79s\n",
      "Epoch = 1, Avg Train Loss = 0.0805, Avg val loss = 0.0765, Time = 8.56s\n",
      "Epoch = 1, Avg Train Loss = 0.0703, Avg val loss = 0.0774, Time = 8.63s\n",
      "Epoch = 1, Avg Train Loss = 0.0803, Avg val loss = 0.0760, Time = 8.63s\n",
      "Epoch = 1, Avg Train Loss = 0.0630, Avg val loss = 0.0774, Time = 8.88s\n",
      "Epoch = 1, Avg Train Loss = 0.0780, Avg val loss = 0.0756, Time = 8.74s\n",
      "Epoch = 1, Avg Train Loss = 0.0693, Avg val loss = 0.0783, Time = 8.67s\n",
      "Epoch = 1, Avg Train Loss = 0.0734, Avg val loss = 0.0754, Time = 8.77s\n",
      "Epoch = 1, Avg Train Loss = 0.0759, Avg val loss = 0.0767, Time = 8.63s\n",
      "Epoch = 1, Avg Train Loss = 0.0770, Avg val loss = 0.0753, Time = 8.69s\n",
      "Epoch = 1, Avg Train Loss = 0.0767, Avg val loss = 0.0779, Time = 8.67s\n",
      "Epoch = 1, Avg Train Loss = 0.0780, Avg val loss = 0.0742, Time = 8.89s\n",
      "Epoch = 1, Avg Train Loss = 0.0747, Avg val loss = 0.0744, Time = 8.79s\n",
      "Epoch = 1, Avg Train Loss = 0.0671, Avg val loss = 0.0749, Time = 8.85s\n",
      "Epoch = 1, Avg Train Loss = 0.0703, Avg val loss = 0.0758, Time = 8.82s\n",
      "Epoch = 1, Avg Train Loss = 0.0732, Avg val loss = 0.0745, Time = 8.83s\n",
      "Epoch = 1, Avg Train Loss = 0.0765, Avg val loss = 0.0764, Time = 8.66s\n",
      "Epoch = 1, Avg Train Loss = 0.0722, Avg val loss = 0.0757, Time = 8.65s\n",
      "Epoch = 1, Avg Train Loss = 0.0807, Avg val loss = 0.0747, Time = 8.77s\n"
     ]
    }
   ],
   "source": [
    "model = SentenceTaggerRNN(len(vocabulary))\n",
    "train_model(model, train_iterator, val_iterator, vocabulary, bpe_processor, device_name=\"cuda\")"
   ]
  },
  {
   "cell_type": "markdown",
   "metadata": {},
   "source": [
    "Наглядно видно, что ошибка уменьшается как на тренировочной, так и тестовой выборке - соответственно, модель обучается, не склоняется к переобучению"
   ]
  },
  {
   "cell_type": "markdown",
   "metadata": {},
   "source": [
    "Получаем для тестовых данных итоговые summary, состоящие из трех предложений"
   ]
  },
  {
   "cell_type": "code",
   "execution_count": null,
   "metadata": {
    "id": "SRQ_m-qs87hi"
   },
   "outputs": [],
   "source": [
    "references = []\n",
    "predictions = []\n",
    "\n",
    "\n",
    "top_k=3\n",
    "\n",
    "model.eval()\n",
    "with torch.no_grad():\n",
    "  \n",
    "  for batch in test_iterator:\n",
    "    \n",
    "    logits = model(batch['inputs'])\n",
    "    sum_in = torch.argsort(logits, dim=1)[:, -top_k:]\n",
    "        \n",
    "    for i in range(len(batch['outputs'])):\n",
    "      \n",
    "      summary = batch['records'][i]['summary']\n",
    "\n",
    "      sum_sents_nums.extend([int(ind) for ind in sum_in.sort(dim=1)[0][i]])\n",
    "\n",
    "      pred_summary = ' '.join([batch['records'][i]['sentences'][ind] for ind in sum_in.sort(dim=1)[0][i]])\n",
    "      \n",
    "      references.append(summary)\n",
    "      predictions.append(pred_summary)"
   ]
  },
  {
   "cell_type": "markdown",
   "metadata": {},
   "source": [
    "Подсчет метрики:"
   ]
  },
  {
   "cell_type": "code",
   "execution_count": null,
   "metadata": {
    "colab": {
     "base_uri": "https://localhost:8080/"
    },
    "id": "2JTmfftPAimU",
    "outputId": "819cf8c8-0b37-44d5-a6ce-38da5b9b1d7f"
   },
   "outputs": [
    {
     "data": {
      "text/plain": [
       "{'rouge-1': {'f': 0.2896457342004031,\n",
       "  'p': 0.2299175410082272,\n",
       "  'r': 0.4460687432557202},\n",
       " 'rouge-2': {'f': 0.17573891196548805,\n",
       "  'p': 0.13870930676188106,\n",
       "  'r': 0.2727606395552116},\n",
       " 'rouge-l': {'f': 0.2874684291334634,\n",
       "  'p': 0.23389792348556737,\n",
       "  'r': 0.41193972563214903}}"
      ]
     },
     "execution_count": 29,
     "metadata": {
      "tags": []
     },
     "output_type": "execute_result"
    }
   ],
   "source": [
    "rouge = Rouge()\n",
    "\n",
    "rouge.get_scores(predictions, references, avg=True)"
   ]
  },
  {
   "cell_type": "markdown",
   "metadata": {},
   "source": [
    "Для случайных 10 примеров распечатаны пары образцовых и сгенерированных аннотаций:"
   ]
  },
  {
   "cell_type": "code",
   "execution_count": null,
   "metadata": {
    "colab": {
     "base_uri": "https://localhost:8080/"
    },
    "id": "nxuF0ynzB32z",
    "outputId": "07486acc-cea2-4757-a86d-31405e531826"
   },
   "outputs": [
    {
     "name": "stdout",
     "output_type": "stream",
     "text": [
      "рассматривается дело o взыскании неустойки по государственному контракту.  истец ссылается на неисполнение ответчиком обязательств по своевременной поставке товара.  требование удовлетворено частично, поскольку установлен факт просрочки поставки товара ответчиком, однако истцом неверно определена начальная дата просрочки исполнения обязательств по контракту, а также неустойка неправомерно начислена от цены всего контракта, а не от этапа поставки.\n",
      "\n",
      "\n",
      "Обращаясь в суд с настоящими требованиями, истец казал на нарушение ответчиком сроков поставки, в связи с чем Министерством начислена неустойка на основании п. Удовлетворяя заявленные требования в части, суд первой инстанции, руководствуясь положениями , , , , ,  ГК РФ, Федеральным  от 05.04.2013 N 44-ФЗ \"О контрактной системе в сфере закупок товаров, работ, услуг для обеспечения государственных и муниципальных нужд\", проанализировав условия договора, исходил из того, что истцом неправильно определена начальная дата просрочки исполнения обязательств по Контракту, а также неустойка неправомерно начислена от цены всего контракта, а не от этапа , установленного Контрактом. Следовательно, суды первой и апелляционной инстанции пришли к правомерному выводу о том, что исполнив обязательство по поставке товара 10.11.2017, ответчик согласованный сторонами срок не нарушил.\n",
      "--------------------------\n",
      "заявляется требование o взыскании в субсидиарном порядке задолженности, пени.  решением суда с третьего лица в пользу истца были взысканы задолженность, пени, расходы по уплате государственной пошлины. третье лицо долг уплатило частично. в связи с истечением трехмесячного срока исполнения исполнительного документа и неисполнением основным должником содержащихся в нем требований орган казначейства уведомил взыскателя о возможности отзыва исполнительного документа и предъявления исковых требований к главному распорядителю средств соответствующего бюджета, в ведении которого находится должник.  требование удовлетворено, поскольку факт недостаточности средств у основного должника доказан.\n",
      "\n",
      "\n",
      "В связи с истечением трехмесячного срока исполнения исполнительного документа, и неисполнением основным должником содержащихся в нем требований, орган Федерального казначейства уведомлением от 31 октября 2019 уведомил взыскателя о возможности отзыва исполнительного документа и предъявления исковых требований по неисполненному исполнительному документу к главному распорядителю средств соответствующего бюджета, в ведении которого находится должник. В добровольном порядке ответчиком требования истца не удовлетворены. Оценив представленные доказательства по правилам  Арбитражного процессуального кодекса Российской Федерации, руководствуясь , , , , , , ,  Гражданского кодекса Российской Федерации, ,  Бюджетного кодекса Российской Федерации, суды первой и апелляционной инстанции пришли к законному и обоснованному выводу об удовлетворении иска в полном объеме, поскольку, с учетом доказанности факта недостаточности средств у основного должника, бремя ответственности по его обязательствам возложено на собственника имущества.\n",
      "--------------------------\n",
      "заявляется требование o взыскании неустойки по государственному контракту.  заказчик ссылается на то, что поставщиком допущена просрочка исполнения обязательства по поставке товара.  в удовлетворении требования отказано, поскольку доказан факт своевременной поставки товара.\n",
      "\n",
      "\n",
      "В связи с просрочкой поставки товара истцом на основании п. 11.2 контракта начислена неустойка. Отказывая в удовлетворении исковых требований, суды первой и апелляционной инстанций, , , , , ,  Гражданского кодекса Российской Федерации, исследовав и оценив с учетом положений  Арбитражного процессуального кодекса Российской Федерации представленные в дело доказательства в их совокупности и взаимной связи исходили из надлежащего исполнения поставщиком обязательств по поставке товара, в сроки установленные контрактом, вместе с тем, товар не принят по причине ненадлежащего исполнения встречных обязательств со стороны заказчика в части перевода цены контракта из ориентировочной в фиксированную.\n",
      "--------------------------\n",
      "рассматривается дело o взыскании задолженности по договору подряда.  сторонами был заключен договор подряда на выполнение ремонтно-строительных работ в помещении магазина.  требование удовлетворено, поскольку выполненные истцом работы ответчиком в полном объеме не оплачены.\n",
      "\n",
      "\n",
      "В обоснование исковых требований истец ссылается на фактическое выполнение работ по договору и сдачу их заказчику, в подтверждение чего представлены Акт о приемке выполненных работ 20-02/01 от 17.02.2020, а также справка по  от 20-02/01 от 17.02.2020 на сумму 4 158 779 руб. Поскольку задолженность в полном объеме ответчиком не оплачено, истец обратился с требованием о взыскании стоимости фактически выполненных работ. Исследовав и оценив по правилам  Арбитражного процессуального кодекса Российской Федерации суды пришли к выводу о приемке выполненных истцом работ уполномоченным представителем заказчика, заявлений о фальсификации представленных актов ответчиком в порядке  Арбитражного процессуального кодекса Российской Федерации сделано не было, в связи с чем требования подрядчика об оплате выполненных работ признаны правомерными.\n",
      "--------------------------\n",
      "рассматривается дело o взыскании задолженности по договору.  заказчиком обязанность по оплате оказанных исполнителем услуг не исполнена.  требование удовлетворено, поскольку исполнителем в материалы дела были представлены достаточные доказательства, подтверждающие задолженность в заявленном размере.\n",
      "\n",
      "\n",
      "Кроме того, по итогам сентября 2019 года истец составил отчет, направил его ответчику по электронной почте, а подписание отчета ответчиком свидетельствует о том, что отчет им принят. При этом оказанные услуги ответчиком не были оплачены. При этом суд в обжалуемых актах, удовлетворяя исковые требования, руководствуясь , ,  ГК РФ, правомерно исходил из того, что материалами дела было подтверждено надлежащее оказание истцом услуг, предусмотренных договором, тогда как ответчик доказательств оплаты долга не представил.\n",
      "--------------------------\n",
      "заявляется требование o взыскании задолженности за тепловую энергию, неустойки.  ответчик свои обязательства по оплате фактически поставленных тепловой энергии, теплоносителя исполнил ненадлежащим образом.  требование удовлетворено, поскольку истец правомерно определил стоимость отпущенной в спорный период тепловой энергии исходя из среднемесячного объема потребления тепловой энергии на отопление за предыдущий год, определенного на основании показаний коллективного (общедомового) прибора учета тепловой энергии, с учетом проведенной корректировки.\n",
      "\n",
      "\n",
      "Ответчик свои обязательства по оплате фактически поставленной тепловой энергии, теплоносителя, предусмотренные разделом 1 договора, исполнил ненадлежащим образом, в связи с чем, за ответчиком образовалась задолженность за август 2018 года в размере 270 404 рублей 26 копеек. Направленная истцом в адрес ответчика претензия от 12.03.2019 с предложением погасить образовавшуюся задолженность за потребленные энергоресурсы оставлена ответчиком без ответа. Оценив представленные в материалы дела доказательства в порядке  Арбитражного процессуального кодекса Российской Федерации, суды установили факт поставки теплоснабжающей организацией ответчику тепловой энергии и ненадлежащее встречное исполнение обществом обязательств по оплате.\n",
      "--------------------------\n",
      "рассматривается дело oб отмене постановления о привлечении к ответственности по ч. 1 ст. 8.8 коап рф за использование земельного участка не по целевому назначению.  требование удовлетворено, поскольку истек срок давности привлечения общества к административной ответственности.\n",
      "\n",
      "\n",
      "Действия, связанные с использованием земельного участка не по целевому назначению в соответствии с его принадлежностью к той или иной категории земель и  разрешенным использованием, за исключением случаев, предусмотренных ,  и , образуют состав административного правонарушения, ответственность за которое предусмотрена  КоАП РФ, и определена в виде наложения административного штрафа, если определена кадастровая стоимость земельного участка, то на юридических лиц в размере от 1,5 до 2 процентов кадастровой стоимости земельного участка, но не менее ста тысяч рублей, а в случае если не определена кадастровая стоимость земельного участка, то на юридических лиц в размере от ста тысяч до двухсот тысяч рублей. Удовлетворяя заявленные требования, суд апелляционной инстанции указал на пропуск установленного  КоАП РФ двухмесячного срока давности привлечения общества к административной ответственности на момент вынесения оспариваемого постановления административного органа. Исходя из положений  КоАП РФ истечение срока давности привлечения к административной ответственности исключает привлечение к административной ответственности.\n",
      "--------------------------\n",
      "рассматривается дело o взыскании неустойки по контрактам на ремонт автомобильных дорог.  заказчик указывает, что подрядчиком несвоевременно были представлены посредством автоматизированной системы документы по этапам выполнения работ, предусмотренные контрактами.  дело направлено на новое рассмотрение, поскольку судебные акты приняты при неполном выяснении обстоятельств, связанных с наличием или отсутствием вины подрядчика в нарушении сроков представления документов.\n",
      "\n",
      "\n",
      "Поскольку в нарушение условий контрактов подрядчиком несвоевременно предоставлены заказчику посредством ПИК ЕАСУЗ документы по этапам выполнения работ, предусмотренные пунктом 4.4 контракта , а именно: Уведомление о завершении работ по этапу N 4 на а/д Куровская - Шатура - Дмитровский Погост - Самойлиха; Уведомление о завершении работ по этапу N 1 на а/д Москва - Егорьевск Тума Касимов; Уведомление о завершении работ по этапу N 2 на а/д Москва - Егорьевск Тума Касимов; Уведомление о завершении работ по этапу N 3 на а/д Москва - Егорьевск - ТумаКасимов; Уведомление о завершении работ по этапу N 4 на а/д г. Сергиев Посад, ул. Удовлетворяя заявленные требования в части, суд первой инстанции исходил из того, что нарушение сроков размещения соответствующих документов в Портале исполнения контрактов Единой автоматизированной системы управления закупками Московской области  имело место, что сторонами не оспаривалось, однако посчитал возможным применить  Гражданского кодекса РФ. Апелляционный суд, без учета требований  Гражданского кодекса РФ, пришел к неправильное выводу о том, что штраф установлен в целом за все документы, фактически переоценив условия контракта.\n",
      "--------------------------\n",
      "заявляется требование o признании права собственности на объекты недвижимости в силу приобретательной давности.  истец ссылается на то, что он более 15 лет, не являясь собственником, добросовестно, открыто и непрерывно владеет объектами недвижимости как своими собственными, несет бремя их содержания, расходы по эксплуатации.  требование удовлетворено, поскольку установлен факт непрерывного владения истцом спорными объектами недвижимости.\n",
      "\n",
      "\n",
      "В 1998 году по инициативе и за счет денежных средств истца были проведены работы по технической инвентаризации спорных объектов недвижимости. В обоснование заявленных требований истец указал, что с 1997 года и по настоящий период времени  не являясь собственником, добросовестно, открыто и непрерывно владеет объектами недвижимости, расположенными по адресу: г. Москва, Оболенский переулок, д. Суды первой и апелляционной инстанций, исследовав и оценив представленные в обоснование доводов и возражений доказательства в порядке  Арбитражного процессуального кодекса Российской Федерации, установив, что истец добросовестно, открыто и непрерывно более пятнадцати лет владеет спорным недвижимым имуществом как своим собственным, несет бремя содержания собственника, в том числе расходы по эксплуатации указанными строениями, помещение из владения истца не выбывало, пришли к выводу об обоснованности заявленных исковых требований.\n",
      "--------------------------\n",
      "заявляется требование o взыскании основного долга и неустойки по договору предоставления услуг.  исполнитель указывает на наличие у заказчика задолженности по оплате услуг за спорный период в размере, определенном исходя из тарифов, указанных в уведомлениях исполнителя об изменении тарифов.  в удовлетворении требования частично отказано, поскольку сторонами не были подписаны соглашения об изменении тарифов и заказчик на законных основаниях руководствовался ранее согласованными тарифами при оплате услуг, в связи с чем задолженность за спорный период отсутствует.\n",
      "\n",
      "\n",
      "Обосновывая заявленные требования, истец указывал, что ответчиком не в полном объеме осуществлена оплата за период с 01.05.2019 по 06.08.2019, в связи с чем образовалась задолженность в размере 10 304 886 руб. Истец указывал, что с февраля 2018 года ответчик не подписывал Дополнительные соглашения об увеличении тарифов, но оплата услуг с марта 2018 года по апрель 2019 года осуществлялась согласно тарифам, предложенным истцом, уведомления об изменении тарифов с 01.05.2019 и с 01.08.2019 были направлены истцом ответчику по электронной почте, но не приняты ответчиком. Разрешая спор по существу, исследовав и оценив в соответствии с требованиями  Арбитражного процессуального кодекса Российской Федерации представленные в дело доказательства, проанализировав условия заключенного договора с позиции ,  Гражданского кодекса Российской Федерации, с учетом правильного распределения бремени доказывания, применив положения , , , ,  -  Гражданского кодекса Российской Федерации, признав что задолженность возникла из-за применения сторонами разных тарифов на оплату, однако, из буквального содержания п.\n",
      "--------------------------\n"
     ]
    }
   ],
   "source": [
    "import random \n",
    "\n",
    "ind_to_test = random.sample(range(len(references)), 10)\n",
    "for ind in ind_to_test:\n",
    "  print(references[ind])\n",
    "  print('\\n')\n",
    "  print(predictions[ind])\n",
    "  print('--------------------------')"
   ]
  }
 ],
 "metadata": {
  "accelerator": "GPU",
  "colab": {
   "collapsed_sections": [],
   "name": "summarunner.ipynb",
   "provenance": []
  },
  "kernelspec": {
   "display_name": "Python 3",
   "language": "python",
   "name": "python3"
  },
  "language_info": {
   "codemirror_mode": {
    "name": "ipython",
    "version": 3
   },
   "file_extension": ".py",
   "mimetype": "text/x-python",
   "name": "python",
   "nbconvert_exporter": "python",
   "pygments_lexer": "ipython3",
   "version": "3.6.2"
  },
  "widgets": {
   "application/vnd.jupyter.widget-state+json": {
    "015d1a18acb94c09b74923325684ddb8": {
     "model_module": "@jupyter-widgets/controls",
     "model_name": "HBoxModel",
     "state": {
      "_dom_classes": [],
      "_model_module": "@jupyter-widgets/controls",
      "_model_module_version": "1.5.0",
      "_model_name": "HBoxModel",
      "_view_count": null,
      "_view_module": "@jupyter-widgets/controls",
      "_view_module_version": "1.5.0",
      "_view_name": "HBoxView",
      "box_style": "",
      "children": [
       "IPY_MODEL_ee54ffec3bb548748afa6adf26bb6092",
       "IPY_MODEL_f8b6541abc9b43059eedf5b5ac2e1c1c"
      ],
      "layout": "IPY_MODEL_3185042e628444289a88c18d081ef6c6"
     }
    },
    "0272aee3390f4d429a1ea4882168c6ec": {
     "model_module": "@jupyter-widgets/base",
     "model_name": "LayoutModel",
     "state": {
      "_model_module": "@jupyter-widgets/base",
      "_model_module_version": "1.2.0",
      "_model_name": "LayoutModel",
      "_view_count": null,
      "_view_module": "@jupyter-widgets/base",
      "_view_module_version": "1.2.0",
      "_view_name": "LayoutView",
      "align_content": null,
      "align_items": null,
      "align_self": null,
      "border": null,
      "bottom": null,
      "display": null,
      "flex": null,
      "flex_flow": null,
      "grid_area": null,
      "grid_auto_columns": null,
      "grid_auto_flow": null,
      "grid_auto_rows": null,
      "grid_column": null,
      "grid_gap": null,
      "grid_row": null,
      "grid_template_areas": null,
      "grid_template_columns": null,
      "grid_template_rows": null,
      "height": null,
      "justify_content": null,
      "justify_items": null,
      "left": null,
      "margin": null,
      "max_height": null,
      "max_width": null,
      "min_height": null,
      "min_width": null,
      "object_fit": null,
      "object_position": null,
      "order": null,
      "overflow": null,
      "overflow_x": null,
      "overflow_y": null,
      "padding": null,
      "right": null,
      "top": null,
      "visibility": null,
      "width": null
     }
    },
    "07b25fcc7adc491bb9a431b9b2bc2bf3": {
     "model_module": "@jupyter-widgets/base",
     "model_name": "LayoutModel",
     "state": {
      "_model_module": "@jupyter-widgets/base",
      "_model_module_version": "1.2.0",
      "_model_name": "LayoutModel",
      "_view_count": null,
      "_view_module": "@jupyter-widgets/base",
      "_view_module_version": "1.2.0",
      "_view_name": "LayoutView",
      "align_content": null,
      "align_items": null,
      "align_self": null,
      "border": null,
      "bottom": null,
      "display": null,
      "flex": null,
      "flex_flow": null,
      "grid_area": null,
      "grid_auto_columns": null,
      "grid_auto_flow": null,
      "grid_auto_rows": null,
      "grid_column": null,
      "grid_gap": null,
      "grid_row": null,
      "grid_template_areas": null,
      "grid_template_columns": null,
      "grid_template_rows": null,
      "height": null,
      "justify_content": null,
      "justify_items": null,
      "left": null,
      "margin": null,
      "max_height": null,
      "max_width": null,
      "min_height": null,
      "min_width": null,
      "object_fit": null,
      "object_position": null,
      "order": null,
      "overflow": null,
      "overflow_x": null,
      "overflow_y": null,
      "padding": null,
      "right": null,
      "top": null,
      "visibility": null,
      "width": null
     }
    },
    "151c1f570a9e4482a786630910fb903b": {
     "model_module": "@jupyter-widgets/controls",
     "model_name": "DescriptionStyleModel",
     "state": {
      "_model_module": "@jupyter-widgets/controls",
      "_model_module_version": "1.5.0",
      "_model_name": "DescriptionStyleModel",
      "_view_count": null,
      "_view_module": "@jupyter-widgets/base",
      "_view_module_version": "1.2.0",
      "_view_name": "StyleView",
      "description_width": ""
     }
    },
    "2d41d2e130c04574bf9d575d838ab6dd": {
     "model_module": "@jupyter-widgets/controls",
     "model_name": "HBoxModel",
     "state": {
      "_dom_classes": [],
      "_model_module": "@jupyter-widgets/controls",
      "_model_module_version": "1.5.0",
      "_model_name": "HBoxModel",
      "_view_count": null,
      "_view_module": "@jupyter-widgets/controls",
      "_view_module_version": "1.5.0",
      "_view_name": "HBoxView",
      "box_style": "",
      "children": [
       "IPY_MODEL_d03f4d02942149abbcedb731349903ff",
       "IPY_MODEL_81fd213651014916af815ab17b1fe062"
      ],
      "layout": "IPY_MODEL_890dc55a64444afabe0e6402f8c6d4ef"
     }
    },
    "3185042e628444289a88c18d081ef6c6": {
     "model_module": "@jupyter-widgets/base",
     "model_name": "LayoutModel",
     "state": {
      "_model_module": "@jupyter-widgets/base",
      "_model_module_version": "1.2.0",
      "_model_name": "LayoutModel",
      "_view_count": null,
      "_view_module": "@jupyter-widgets/base",
      "_view_module_version": "1.2.0",
      "_view_name": "LayoutView",
      "align_content": null,
      "align_items": null,
      "align_self": null,
      "border": null,
      "bottom": null,
      "display": null,
      "flex": null,
      "flex_flow": null,
      "grid_area": null,
      "grid_auto_columns": null,
      "grid_auto_flow": null,
      "grid_auto_rows": null,
      "grid_column": null,
      "grid_gap": null,
      "grid_row": null,
      "grid_template_areas": null,
      "grid_template_columns": null,
      "grid_template_rows": null,
      "height": null,
      "justify_content": null,
      "justify_items": null,
      "left": null,
      "margin": null,
      "max_height": null,
      "max_width": null,
      "min_height": null,
      "min_width": null,
      "object_fit": null,
      "object_position": null,
      "order": null,
      "overflow": null,
      "overflow_x": null,
      "overflow_y": null,
      "padding": null,
      "right": null,
      "top": null,
      "visibility": null,
      "width": null
     }
    },
    "483499a137e147c78ae5e0c95d9be97a": {
     "model_module": "@jupyter-widgets/base",
     "model_name": "LayoutModel",
     "state": {
      "_model_module": "@jupyter-widgets/base",
      "_model_module_version": "1.2.0",
      "_model_name": "LayoutModel",
      "_view_count": null,
      "_view_module": "@jupyter-widgets/base",
      "_view_module_version": "1.2.0",
      "_view_name": "LayoutView",
      "align_content": null,
      "align_items": null,
      "align_self": null,
      "border": null,
      "bottom": null,
      "display": null,
      "flex": null,
      "flex_flow": null,
      "grid_area": null,
      "grid_auto_columns": null,
      "grid_auto_flow": null,
      "grid_auto_rows": null,
      "grid_column": null,
      "grid_gap": null,
      "grid_row": null,
      "grid_template_areas": null,
      "grid_template_columns": null,
      "grid_template_rows": null,
      "height": null,
      "justify_content": null,
      "justify_items": null,
      "left": null,
      "margin": null,
      "max_height": null,
      "max_width": null,
      "min_height": null,
      "min_width": null,
      "object_fit": null,
      "object_position": null,
      "order": null,
      "overflow": null,
      "overflow_x": null,
      "overflow_y": null,
      "padding": null,
      "right": null,
      "top": null,
      "visibility": null,
      "width": null
     }
    },
    "48e15c8a217d4af0b1703fa2af0fc713": {
     "model_module": "@jupyter-widgets/controls",
     "model_name": "ProgressStyleModel",
     "state": {
      "_model_module": "@jupyter-widgets/controls",
      "_model_module_version": "1.5.0",
      "_model_name": "ProgressStyleModel",
      "_view_count": null,
      "_view_module": "@jupyter-widgets/base",
      "_view_module_version": "1.2.0",
      "_view_name": "StyleView",
      "bar_color": null,
      "description_width": "initial"
     }
    },
    "4a0b307039104378aa4a44996e592454": {
     "model_module": "@jupyter-widgets/controls",
     "model_name": "HBoxModel",
     "state": {
      "_dom_classes": [],
      "_model_module": "@jupyter-widgets/controls",
      "_model_module_version": "1.5.0",
      "_model_name": "HBoxModel",
      "_view_count": null,
      "_view_module": "@jupyter-widgets/controls",
      "_view_module_version": "1.5.0",
      "_view_name": "HBoxView",
      "box_style": "",
      "children": [
       "IPY_MODEL_ba26826db3cf4ce6b9701c90a6075a73",
       "IPY_MODEL_517454ed71cf471f9ac48ed0556bb259"
      ],
      "layout": "IPY_MODEL_8a69c26db91f4fe2839281fabc9e5f7b"
     }
    },
    "4b50657cd6c84e6d96054aea42c4479b": {
     "model_module": "@jupyter-widgets/controls",
     "model_name": "DescriptionStyleModel",
     "state": {
      "_model_module": "@jupyter-widgets/controls",
      "_model_module_version": "1.5.0",
      "_model_name": "DescriptionStyleModel",
      "_view_count": null,
      "_view_module": "@jupyter-widgets/base",
      "_view_module_version": "1.2.0",
      "_view_name": "StyleView",
      "description_width": ""
     }
    },
    "517454ed71cf471f9ac48ed0556bb259": {
     "model_module": "@jupyter-widgets/controls",
     "model_name": "HTMLModel",
     "state": {
      "_dom_classes": [],
      "_model_module": "@jupyter-widgets/controls",
      "_model_module_version": "1.5.0",
      "_model_name": "HTMLModel",
      "_view_count": null,
      "_view_module": "@jupyter-widgets/controls",
      "_view_module_version": "1.5.0",
      "_view_name": "HTMLView",
      "description": "",
      "description_tooltip": null,
      "layout": "IPY_MODEL_7e1c23edfa3e4ca4916aa1b66a56e0b8",
      "placeholder": "​",
      "style": "IPY_MODEL_151c1f570a9e4482a786630910fb903b",
      "value": " 12925/12925 [00:16&lt;00:00, 796.08it/s]"
     }
    },
    "5aa85ffc8b2346e28cd8c747bd975306": {
     "model_module": "@jupyter-widgets/base",
     "model_name": "LayoutModel",
     "state": {
      "_model_module": "@jupyter-widgets/base",
      "_model_module_version": "1.2.0",
      "_model_name": "LayoutModel",
      "_view_count": null,
      "_view_module": "@jupyter-widgets/base",
      "_view_module_version": "1.2.0",
      "_view_name": "LayoutView",
      "align_content": null,
      "align_items": null,
      "align_self": null,
      "border": null,
      "bottom": null,
      "display": null,
      "flex": null,
      "flex_flow": null,
      "grid_area": null,
      "grid_auto_columns": null,
      "grid_auto_flow": null,
      "grid_auto_rows": null,
      "grid_column": null,
      "grid_gap": null,
      "grid_row": null,
      "grid_template_areas": null,
      "grid_template_columns": null,
      "grid_template_rows": null,
      "height": null,
      "justify_content": null,
      "justify_items": null,
      "left": null,
      "margin": null,
      "max_height": null,
      "max_width": null,
      "min_height": null,
      "min_width": null,
      "object_fit": null,
      "object_position": null,
      "order": null,
      "overflow": null,
      "overflow_x": null,
      "overflow_y": null,
      "padding": null,
      "right": null,
      "top": null,
      "visibility": null,
      "width": null
     }
    },
    "5af37bd33ec74aa09296fec3959be3c7": {
     "model_module": "@jupyter-widgets/controls",
     "model_name": "ProgressStyleModel",
     "state": {
      "_model_module": "@jupyter-widgets/controls",
      "_model_module_version": "1.5.0",
      "_model_name": "ProgressStyleModel",
      "_view_count": null,
      "_view_module": "@jupyter-widgets/base",
      "_view_module_version": "1.2.0",
      "_view_name": "StyleView",
      "bar_color": null,
      "description_width": "initial"
     }
    },
    "5f52ec9ef7d4406b81b67562346f00d8": {
     "model_module": "@jupyter-widgets/controls",
     "model_name": "DescriptionStyleModel",
     "state": {
      "_model_module": "@jupyter-widgets/controls",
      "_model_module_version": "1.5.0",
      "_model_name": "DescriptionStyleModel",
      "_view_count": null,
      "_view_module": "@jupyter-widgets/base",
      "_view_module_version": "1.2.0",
      "_view_name": "StyleView",
      "description_width": ""
     }
    },
    "72ecdbe0fa964b52a74ddf94f310d98b": {
     "model_module": "@jupyter-widgets/controls",
     "model_name": "FloatProgressModel",
     "state": {
      "_dom_classes": [],
      "_model_module": "@jupyter-widgets/controls",
      "_model_module_version": "1.5.0",
      "_model_name": "FloatProgressModel",
      "_view_count": null,
      "_view_module": "@jupyter-widgets/controls",
      "_view_module_version": "1.5.0",
      "_view_name": "ProgressView",
      "bar_style": "success",
      "description": "100%",
      "description_tooltip": null,
      "layout": "IPY_MODEL_483499a137e147c78ae5e0c95d9be97a",
      "max": 12925,
      "min": 0,
      "orientation": "horizontal",
      "style": "IPY_MODEL_48e15c8a217d4af0b1703fa2af0fc713",
      "value": 12925
     }
    },
    "7e1c23edfa3e4ca4916aa1b66a56e0b8": {
     "model_module": "@jupyter-widgets/base",
     "model_name": "LayoutModel",
     "state": {
      "_model_module": "@jupyter-widgets/base",
      "_model_module_version": "1.2.0",
      "_model_name": "LayoutModel",
      "_view_count": null,
      "_view_module": "@jupyter-widgets/base",
      "_view_module_version": "1.2.0",
      "_view_name": "LayoutView",
      "align_content": null,
      "align_items": null,
      "align_self": null,
      "border": null,
      "bottom": null,
      "display": null,
      "flex": null,
      "flex_flow": null,
      "grid_area": null,
      "grid_auto_columns": null,
      "grid_auto_flow": null,
      "grid_auto_rows": null,
      "grid_column": null,
      "grid_gap": null,
      "grid_row": null,
      "grid_template_areas": null,
      "grid_template_columns": null,
      "grid_template_rows": null,
      "height": null,
      "justify_content": null,
      "justify_items": null,
      "left": null,
      "margin": null,
      "max_height": null,
      "max_width": null,
      "min_height": null,
      "min_width": null,
      "object_fit": null,
      "object_position": null,
      "order": null,
      "overflow": null,
      "overflow_x": null,
      "overflow_y": null,
      "padding": null,
      "right": null,
      "top": null,
      "visibility": null,
      "width": null
     }
    },
    "81fd213651014916af815ab17b1fe062": {
     "model_module": "@jupyter-widgets/controls",
     "model_name": "HTMLModel",
     "state": {
      "_dom_classes": [],
      "_model_module": "@jupyter-widgets/controls",
      "_model_module_version": "1.5.0",
      "_model_name": "HTMLModel",
      "_view_count": null,
      "_view_module": "@jupyter-widgets/controls",
      "_view_module_version": "1.5.0",
      "_view_name": "HTMLView",
      "description": "",
      "description_tooltip": null,
      "layout": "IPY_MODEL_fedfe3cbda7c4dfd8dc48d7ea74c4d46",
      "placeholder": "​",
      "style": "IPY_MODEL_5f52ec9ef7d4406b81b67562346f00d8",
      "value": " 2282/2282 [24:39&lt;00:00,  1.54it/s]"
     }
    },
    "890dc55a64444afabe0e6402f8c6d4ef": {
     "model_module": "@jupyter-widgets/base",
     "model_name": "LayoutModel",
     "state": {
      "_model_module": "@jupyter-widgets/base",
      "_model_module_version": "1.2.0",
      "_model_name": "LayoutModel",
      "_view_count": null,
      "_view_module": "@jupyter-widgets/base",
      "_view_module_version": "1.2.0",
      "_view_name": "LayoutView",
      "align_content": null,
      "align_items": null,
      "align_self": null,
      "border": null,
      "bottom": null,
      "display": null,
      "flex": null,
      "flex_flow": null,
      "grid_area": null,
      "grid_auto_columns": null,
      "grid_auto_flow": null,
      "grid_auto_rows": null,
      "grid_column": null,
      "grid_gap": null,
      "grid_row": null,
      "grid_template_areas": null,
      "grid_template_columns": null,
      "grid_template_rows": null,
      "height": null,
      "justify_content": null,
      "justify_items": null,
      "left": null,
      "margin": null,
      "max_height": null,
      "max_width": null,
      "min_height": null,
      "min_width": null,
      "object_fit": null,
      "object_position": null,
      "order": null,
      "overflow": null,
      "overflow_x": null,
      "overflow_y": null,
      "padding": null,
      "right": null,
      "top": null,
      "visibility": null,
      "width": null
     }
    },
    "8a69c26db91f4fe2839281fabc9e5f7b": {
     "model_module": "@jupyter-widgets/base",
     "model_name": "LayoutModel",
     "state": {
      "_model_module": "@jupyter-widgets/base",
      "_model_module_version": "1.2.0",
      "_model_name": "LayoutModel",
      "_view_count": null,
      "_view_module": "@jupyter-widgets/base",
      "_view_module_version": "1.2.0",
      "_view_name": "LayoutView",
      "align_content": null,
      "align_items": null,
      "align_self": null,
      "border": null,
      "bottom": null,
      "display": null,
      "flex": null,
      "flex_flow": null,
      "grid_area": null,
      "grid_auto_columns": null,
      "grid_auto_flow": null,
      "grid_auto_rows": null,
      "grid_column": null,
      "grid_gap": null,
      "grid_row": null,
      "grid_template_areas": null,
      "grid_template_columns": null,
      "grid_template_rows": null,
      "height": null,
      "justify_content": null,
      "justify_items": null,
      "left": null,
      "margin": null,
      "max_height": null,
      "max_width": null,
      "min_height": null,
      "min_width": null,
      "object_fit": null,
      "object_position": null,
      "order": null,
      "overflow": null,
      "overflow_x": null,
      "overflow_y": null,
      "padding": null,
      "right": null,
      "top": null,
      "visibility": null,
      "width": null
     }
    },
    "9bea6a19196b42cf9bbd1f904c918d91": {
     "model_module": "@jupyter-widgets/base",
     "model_name": "LayoutModel",
     "state": {
      "_model_module": "@jupyter-widgets/base",
      "_model_module_version": "1.2.0",
      "_model_name": "LayoutModel",
      "_view_count": null,
      "_view_module": "@jupyter-widgets/base",
      "_view_module_version": "1.2.0",
      "_view_name": "LayoutView",
      "align_content": null,
      "align_items": null,
      "align_self": null,
      "border": null,
      "bottom": null,
      "display": null,
      "flex": null,
      "flex_flow": null,
      "grid_area": null,
      "grid_auto_columns": null,
      "grid_auto_flow": null,
      "grid_auto_rows": null,
      "grid_column": null,
      "grid_gap": null,
      "grid_row": null,
      "grid_template_areas": null,
      "grid_template_columns": null,
      "grid_template_rows": null,
      "height": null,
      "justify_content": null,
      "justify_items": null,
      "left": null,
      "margin": null,
      "max_height": null,
      "max_width": null,
      "min_height": null,
      "min_width": null,
      "object_fit": null,
      "object_position": null,
      "order": null,
      "overflow": null,
      "overflow_x": null,
      "overflow_y": null,
      "padding": null,
      "right": null,
      "top": null,
      "visibility": null,
      "width": null
     }
    },
    "ab95d37e3960460980ab110df0519387": {
     "model_module": "@jupyter-widgets/controls",
     "model_name": "DescriptionStyleModel",
     "state": {
      "_model_module": "@jupyter-widgets/controls",
      "_model_module_version": "1.5.0",
      "_model_name": "DescriptionStyleModel",
      "_view_count": null,
      "_view_module": "@jupyter-widgets/base",
      "_view_module_version": "1.2.0",
      "_view_name": "StyleView",
      "description_width": ""
     }
    },
    "b5d1b62e20a5484ab0319dc98344521c": {
     "model_module": "@jupyter-widgets/controls",
     "model_name": "ProgressStyleModel",
     "state": {
      "_model_module": "@jupyter-widgets/controls",
      "_model_module_version": "1.5.0",
      "_model_name": "ProgressStyleModel",
      "_view_count": null,
      "_view_module": "@jupyter-widgets/base",
      "_view_module_version": "1.2.0",
      "_view_name": "StyleView",
      "bar_color": null,
      "description_width": "initial"
     }
    },
    "ba26826db3cf4ce6b9701c90a6075a73": {
     "model_module": "@jupyter-widgets/controls",
     "model_name": "FloatProgressModel",
     "state": {
      "_dom_classes": [],
      "_model_module": "@jupyter-widgets/controls",
      "_model_module_version": "1.5.0",
      "_model_name": "FloatProgressModel",
      "_view_count": null,
      "_view_module": "@jupyter-widgets/controls",
      "_view_module_version": "1.5.0",
      "_view_name": "ProgressView",
      "bar_style": "success",
      "description": "100%",
      "description_tooltip": null,
      "layout": "IPY_MODEL_fccd45f51cd24b258861e14d2938b3dc",
      "max": 12925,
      "min": 0,
      "orientation": "horizontal",
      "style": "IPY_MODEL_dcb5e8b4580b4637aea85aac93eaf154",
      "value": 12925
     }
    },
    "c4adb2d20f2146a78acae2976577a1b5": {
     "model_module": "@jupyter-widgets/controls",
     "model_name": "HBoxModel",
     "state": {
      "_dom_classes": [],
      "_model_module": "@jupyter-widgets/controls",
      "_model_module_version": "1.5.0",
      "_model_name": "HBoxModel",
      "_view_count": null,
      "_view_module": "@jupyter-widgets/controls",
      "_view_module_version": "1.5.0",
      "_view_name": "HBoxView",
      "box_style": "",
      "children": [
       "IPY_MODEL_72ecdbe0fa964b52a74ddf94f310d98b",
       "IPY_MODEL_e66d52d34ec94860ba534d963fa08e6f"
      ],
      "layout": "IPY_MODEL_07b25fcc7adc491bb9a431b9b2bc2bf3"
     }
    },
    "d03f4d02942149abbcedb731349903ff": {
     "model_module": "@jupyter-widgets/controls",
     "model_name": "FloatProgressModel",
     "state": {
      "_dom_classes": [],
      "_model_module": "@jupyter-widgets/controls",
      "_model_module_version": "1.5.0",
      "_model_name": "FloatProgressModel",
      "_view_count": null,
      "_view_module": "@jupyter-widgets/controls",
      "_view_module_version": "1.5.0",
      "_view_name": "ProgressView",
      "bar_style": "success",
      "description": "100%",
      "description_tooltip": null,
      "layout": "IPY_MODEL_e78f29bc53fa4d2386e8fc9797b7b1fc",
      "max": 2282,
      "min": 0,
      "orientation": "horizontal",
      "style": "IPY_MODEL_b5d1b62e20a5484ab0319dc98344521c",
      "value": 2282
     }
    },
    "dcb5e8b4580b4637aea85aac93eaf154": {
     "model_module": "@jupyter-widgets/controls",
     "model_name": "ProgressStyleModel",
     "state": {
      "_model_module": "@jupyter-widgets/controls",
      "_model_module_version": "1.5.0",
      "_model_name": "ProgressStyleModel",
      "_view_count": null,
      "_view_module": "@jupyter-widgets/base",
      "_view_module_version": "1.2.0",
      "_view_name": "StyleView",
      "bar_color": null,
      "description_width": "initial"
     }
    },
    "e66d52d34ec94860ba534d963fa08e6f": {
     "model_module": "@jupyter-widgets/controls",
     "model_name": "HTMLModel",
     "state": {
      "_dom_classes": [],
      "_model_module": "@jupyter-widgets/controls",
      "_model_module_version": "1.5.0",
      "_model_name": "HTMLModel",
      "_view_count": null,
      "_view_module": "@jupyter-widgets/controls",
      "_view_module_version": "1.5.0",
      "_view_name": "HTMLView",
      "description": "",
      "description_tooltip": null,
      "layout": "IPY_MODEL_9bea6a19196b42cf9bbd1f904c918d91",
      "placeholder": "​",
      "style": "IPY_MODEL_ab95d37e3960460980ab110df0519387",
      "value": " 12925/12925 [2:27:25&lt;00:00,  1.46it/s]"
     }
    },
    "e78f29bc53fa4d2386e8fc9797b7b1fc": {
     "model_module": "@jupyter-widgets/base",
     "model_name": "LayoutModel",
     "state": {
      "_model_module": "@jupyter-widgets/base",
      "_model_module_version": "1.2.0",
      "_model_name": "LayoutModel",
      "_view_count": null,
      "_view_module": "@jupyter-widgets/base",
      "_view_module_version": "1.2.0",
      "_view_name": "LayoutView",
      "align_content": null,
      "align_items": null,
      "align_self": null,
      "border": null,
      "bottom": null,
      "display": null,
      "flex": null,
      "flex_flow": null,
      "grid_area": null,
      "grid_auto_columns": null,
      "grid_auto_flow": null,
      "grid_auto_rows": null,
      "grid_column": null,
      "grid_gap": null,
      "grid_row": null,
      "grid_template_areas": null,
      "grid_template_columns": null,
      "grid_template_rows": null,
      "height": null,
      "justify_content": null,
      "justify_items": null,
      "left": null,
      "margin": null,
      "max_height": null,
      "max_width": null,
      "min_height": null,
      "min_width": null,
      "object_fit": null,
      "object_position": null,
      "order": null,
      "overflow": null,
      "overflow_x": null,
      "overflow_y": null,
      "padding": null,
      "right": null,
      "top": null,
      "visibility": null,
      "width": null
     }
    },
    "ee54ffec3bb548748afa6adf26bb6092": {
     "model_module": "@jupyter-widgets/controls",
     "model_name": "FloatProgressModel",
     "state": {
      "_dom_classes": [],
      "_model_module": "@jupyter-widgets/controls",
      "_model_module_version": "1.5.0",
      "_model_name": "FloatProgressModel",
      "_view_count": null,
      "_view_module": "@jupyter-widgets/controls",
      "_view_module_version": "1.5.0",
      "_view_name": "ProgressView",
      "bar_style": "success",
      "description": "100%",
      "description_tooltip": null,
      "layout": "IPY_MODEL_0272aee3390f4d429a1ea4882168c6ec",
      "max": 2684,
      "min": 0,
      "orientation": "horizontal",
      "style": "IPY_MODEL_5af37bd33ec74aa09296fec3959be3c7",
      "value": 2684
     }
    },
    "f8b6541abc9b43059eedf5b5ac2e1c1c": {
     "model_module": "@jupyter-widgets/controls",
     "model_name": "HTMLModel",
     "state": {
      "_dom_classes": [],
      "_model_module": "@jupyter-widgets/controls",
      "_model_module_version": "1.5.0",
      "_model_name": "HTMLModel",
      "_view_count": null,
      "_view_module": "@jupyter-widgets/controls",
      "_view_module_version": "1.5.0",
      "_view_name": "HTMLView",
      "description": "",
      "description_tooltip": null,
      "layout": "IPY_MODEL_5aa85ffc8b2346e28cd8c747bd975306",
      "placeholder": "​",
      "style": "IPY_MODEL_4b50657cd6c84e6d96054aea42c4479b",
      "value": " 2684/2684 [1:04:05&lt;00:00,  1.43s/it]"
     }
    },
    "fccd45f51cd24b258861e14d2938b3dc": {
     "model_module": "@jupyter-widgets/base",
     "model_name": "LayoutModel",
     "state": {
      "_model_module": "@jupyter-widgets/base",
      "_model_module_version": "1.2.0",
      "_model_name": "LayoutModel",
      "_view_count": null,
      "_view_module": "@jupyter-widgets/base",
      "_view_module_version": "1.2.0",
      "_view_name": "LayoutView",
      "align_content": null,
      "align_items": null,
      "align_self": null,
      "border": null,
      "bottom": null,
      "display": null,
      "flex": null,
      "flex_flow": null,
      "grid_area": null,
      "grid_auto_columns": null,
      "grid_auto_flow": null,
      "grid_auto_rows": null,
      "grid_column": null,
      "grid_gap": null,
      "grid_row": null,
      "grid_template_areas": null,
      "grid_template_columns": null,
      "grid_template_rows": null,
      "height": null,
      "justify_content": null,
      "justify_items": null,
      "left": null,
      "margin": null,
      "max_height": null,
      "max_width": null,
      "min_height": null,
      "min_width": null,
      "object_fit": null,
      "object_position": null,
      "order": null,
      "overflow": null,
      "overflow_x": null,
      "overflow_y": null,
      "padding": null,
      "right": null,
      "top": null,
      "visibility": null,
      "width": null
     }
    },
    "fedfe3cbda7c4dfd8dc48d7ea74c4d46": {
     "model_module": "@jupyter-widgets/base",
     "model_name": "LayoutModel",
     "state": {
      "_model_module": "@jupyter-widgets/base",
      "_model_module_version": "1.2.0",
      "_model_name": "LayoutModel",
      "_view_count": null,
      "_view_module": "@jupyter-widgets/base",
      "_view_module_version": "1.2.0",
      "_view_name": "LayoutView",
      "align_content": null,
      "align_items": null,
      "align_self": null,
      "border": null,
      "bottom": null,
      "display": null,
      "flex": null,
      "flex_flow": null,
      "grid_area": null,
      "grid_auto_columns": null,
      "grid_auto_flow": null,
      "grid_auto_rows": null,
      "grid_column": null,
      "grid_gap": null,
      "grid_row": null,
      "grid_template_areas": null,
      "grid_template_columns": null,
      "grid_template_rows": null,
      "height": null,
      "justify_content": null,
      "justify_items": null,
      "left": null,
      "margin": null,
      "max_height": null,
      "max_width": null,
      "min_height": null,
      "min_width": null,
      "object_fit": null,
      "object_position": null,
      "order": null,
      "overflow": null,
      "overflow_x": null,
      "overflow_y": null,
      "padding": null,
      "right": null,
      "top": null,
      "visibility": null,
      "width": null
     }
    }
   }
  }
 },
 "nbformat": 4,
 "nbformat_minor": 1
}
